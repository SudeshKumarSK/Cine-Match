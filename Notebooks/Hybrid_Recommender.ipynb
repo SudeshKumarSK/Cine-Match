{
 "cells": [
  {
   "cell_type": "markdown",
   "metadata": {},
   "source": [
    "### 🎥 Cine-Match - Movie Recommendation System 📹\n"
   ]
  },
  {
   "cell_type": "markdown",
   "metadata": {},
   "source": [
    "### File: Hybrid_Collaborative_Recommender.ipynb - CineMatch\n",
    "\n",
    "- Contributor: Sudesh Kumar Santhosh Kumar\n",
    "- Email: santhosh@usc.edu\n",
    "- GitHub: [Sudesh Kumar](https://github.com/SudeshKumarSanthosh)\n",
    "- Date: 6th December, 2023\n",
    "- Course: EE-541 Introduction to Deep Learning\n",
    "- Team:\n",
    "  - Sudesh Kumar Santhosh Kumar\n",
    "  - Ori Shirin\n",
    "\n",
    "### Description:\n",
    "\n",
    "In this innovative Python notebook `Hybrid_Collaborative_Recommender.ipynb`, we introduce the next evolution of the CineMatch movie recommendation system. This advanced system is at the forefront of recommendation technology, embracing a hybrid collaborative approach that synergizes both `implicit` and `explicit` user signals.\n",
    "\n",
    "The core of this notebook is the development of a sophisticated recommendation engine that not only considers users' explicit feedback, such as `ratings and reviews`, but also incorporates implicit signals, like viewing history and interaction patterns. By blending these two dimensions, CineMatch aims to achieve a more nuanced and accurate understanding of user preferences.\n",
    "\n",
    "\n",
    "`Movie Metadata Dataset (movies_metadata.csv):`\n",
    "\n",
    "This dataset typically contains detailed information about movies, such as genres, directors, cast, plot summaries, and more.\n",
    "While it doesn't directly provide implicit feedback, the information in this dataset can be used to infer user preferences based on their interactions with different types of movies. For instance, if a user frequently watches movies of a certain genre, this behavior can be considered implicit feedback indicating a preference for that genre.\n",
    "Implicit Feedback in Recommendation Systems:\n",
    "\n",
    "Examples: Viewing history, time spent watching a movie, browsing behavior, and interaction patterns (like pausing, rewinding, or fast-forwarding) are typical examples of implicit feedback.\n",
    "\n",
    "\n",
    "`Explicit Feedback (ratings.csv):`\n",
    "\n",
    "- This dataset contains direct user feedback, such as ratings given to movies.\n",
    "- Explicit feedback is clear and direct, representing the users' stated preferences.\n",
    "\n",
    "\n"
   ]
  },
  {
   "cell_type": "markdown",
   "metadata": {},
   "source": [
    "## Part 1 - Installation and Dataset Loading\n",
    "\n",
    "---"
   ]
  },
  {
   "cell_type": "markdown",
   "metadata": {},
   "source": [
    "### S1. Setting up the notebook\n"
   ]
  },
  {
   "cell_type": "markdown",
   "metadata": {},
   "source": [
    "### Uncomment the following lines to run the script in Google Colab."
   ]
  },
  {
   "cell_type": "code",
   "execution_count": 1,
   "metadata": {},
   "outputs": [],
   "source": [
    "# !pip install transformers"
   ]
  },
  {
   "cell_type": "code",
   "execution_count": 2,
   "metadata": {},
   "outputs": [],
   "source": [
    "# !pip install torch scikit-learn"
   ]
  },
  {
   "cell_type": "code",
   "execution_count": 3,
   "metadata": {},
   "outputs": [],
   "source": [
    "# !pip install sentence_transformers"
   ]
  },
  {
   "cell_type": "markdown",
   "metadata": {},
   "source": [
    "### 1.1. Importing all necessary packages"
   ]
  },
  {
   "cell_type": "code",
   "execution_count": 4,
   "metadata": {},
   "outputs": [],
   "source": [
    "import os\n",
    "from datetime import datetime\n",
    "import warnings \n",
    "\n",
    "import pandas as pd\n",
    "import numpy as np\n",
    "import seaborn as sns\n",
    "import matplotlib.pyplot as plt\n",
    "from IPython.display import Image\n",
    "\n",
    "\n",
    "from sklearn.preprocessing import MinMaxScaler\n",
    "from sklearn.preprocessing import LabelEncoder\n",
    "\n",
    "\n",
    "from sentence_transformers import SentenceTransformer\n",
    "from transformers import AutoTokenizer, AutoModelForSequenceClassification\n",
    "\n",
    "import torch\n",
    "from torch.utils.data import Dataset, DataLoader\n",
    "import torch.nn as nn\n",
    "import torch.optim as optim\n",
    "from sklearn.metrics import mean_squared_error\n",
    "\n",
    "\n",
    "\n",
    "# Uncomment while using Google Colab to mount your drive to this notebook.\n",
    "# from google.colab import drive\n",
    "# drive.mount('/content/drive')"
   ]
  },
  {
   "cell_type": "markdown",
   "metadata": {},
   "source": [
    "### 1.2. Defining Directories and Helper Functions"
   ]
  },
  {
   "cell_type": "code",
   "execution_count": 5,
   "metadata": {},
   "outputs": [
    {
     "name": "stdout",
     "output_type": "stream",
     "text": [
      "                        No GPU available, using the CPU!                        \n"
     ]
    }
   ],
   "source": [
    "# Data Directory\n",
    "data_dir = \"../Input/Data/\"\n",
    "cleansed_data_dir = \"../Input/CleansedData/\"\n",
    "embeddings_dir = \"../Input/Embeddings/\"\n",
    "cosine_matrix_dir = \"../Input/Cosine_Matrix/\"\n",
    "\n",
    "\n",
    "# Data Directory - When using google colaboratory.\n",
    "# drive/My Drive/ColabDrive/MovieData/movies_metadata.csv\n",
    "\n",
    "# data_dir = \"drive/MyDrive/CineMatch/Input/Data/\"\n",
    "# cleansed_data_dir = \"drive/MyDrive/CineMatch/Input/CleansedData/\"\n",
    "# embeddings_dir = \"drive/MyDrive/CineMatch/Input/Embeddings\"\n",
    "# cosine_matrix_dir = \"drive/MyDrive/CineMatch/Input/CosineMatrix\"\n",
    "\n",
    "\n",
    "\n",
    "if not os.path.exists(embeddings_dir):\n",
    "  os.makedirs(embeddings_dir)\n",
    "\n",
    "if not os.path.exists(data_dir):\n",
    "  os.makedirs(data_dir)\n",
    "\n",
    "if not os.path.exists(cleansed_data_dir):\n",
    "  os.makedirs(cleansed_data_dir)\n",
    "\n",
    "if not os.path.exists(cosine_matrix_dir):\n",
    "  os.makedirs(cosine_matrix_dir)\n",
    "\n",
    "if torch.cuda.is_available():\n",
    "    device = torch.device((\"cuda\"))\n",
    "    print(\"{:^80}\".format(f\"There are {torch.cuda.device_count()} available GPU's\"))\n",
    "    print(\"{:^80}\".format(f\"We will use the GPU: {torch.cuda.get_device_name(0)}\"))\n",
    "\n",
    "else:\n",
    "    print(\"{:^80}\".format(\"No GPU available, using the CPU!\"))\n",
    "    device = torch.device(\"cpu\")\n",
    "\n",
    "model_name='bert-base-uncased'\n",
    "# Load the tokenizer for the specified model\n",
    "tokenizer = AutoTokenizer.from_pretrained(model_name)\n",
    "\n",
    "scaler = MinMaxScaler()\n",
    "user_encoder = LabelEncoder()\n",
    "movie_encoder = LabelEncoder()\n"
   ]
  },
  {
   "cell_type": "code",
   "execution_count": 6,
   "metadata": {},
   "outputs": [],
   "source": [
    "def load_dataset(directory, filename):\n",
    "    \"\"\"\n",
    "    Loads a dataset from a CSV file into a Pandas DataFrame.\n",
    "\n",
    "    Parameters:\n",
    "    - file_path (str): The complete file path of the CSV file to be loaded.\n",
    "\n",
    "    Returns:\n",
    "    - pandas.DataFrame: A DataFrame containing the data from the CSV file.\n",
    "\n",
    "    This function will read the CSV file located at 'file_path' and return it as a DataFrame.\n",
    "    It assumes that the first row of the CSV file contains the headers.\n",
    "    \"\"\"\n",
    "    try:\n",
    "        file_path = os.path.join(directory, filename)\n",
    "        # Loading the dataset\n",
    "        df = pd.read_csv(file_path)\n",
    "        print(f\"Dataset loaded successfully from {file_path}\")\n",
    "        return df\n",
    "    except Exception as e:\n",
    "        print(f\"An error occurred while loading the dataset: {e}\")\n",
    "        return None\n",
    "\n",
    "\n",
    "def analyze_dataframe(df):\n",
    "    # Identifying categorical and numerical features\n",
    "    categorical_features = [col for col in df.columns if df[col].dtype == \"object\"]\n",
    "    numerical_features = [col for col in df.columns if df[col].dtype == \"float64\"]\n",
    "\n",
    "    # Printing general information about the DataFrame\n",
    "    print(f\"Shape of the Data: {df.shape}\")\n",
    "    print(f\"Total number of Data-Points in the Data, N: {df.shape[0]}\")\n",
    "    print(f\"Total number of dimensions in the Data, D: {df.shape[1]}\")\n",
    "    print()\n",
    "\n",
    "    # Printing details about features\n",
    "    print(f\"Categorical Features: {categorical_features}\")\n",
    "    print(f\"Numerical Features: {numerical_features}\")\n",
    "    print(f\"Total number of Categorical Features: {len(categorical_features)}\")\n",
    "    print(f\"Total number of Numerical Features: {len(numerical_features)}\")\n",
    "\n",
    "\n",
    "def save_dataframe(df, directory, filename=\"preprocessed_data.csv\"):\n",
    "    \"\"\"\n",
    "    Saves the given DataFrame to a CSV file in the specified directory.\n",
    "\n",
    "    Parameters:\n",
    "    - df (pandas.DataFrame): The DataFrame to be saved.\n",
    "    - directory (str): Path of the directory where the CSV file will be saved.\n",
    "    - filename (str, optional): Name of the CSV file. Defaults to 'preprocessed_data.csv'.\n",
    "\n",
    "    The function will create the directory if it does not exist. The DataFrame is saved\n",
    "    without the index.\n",
    "    \"\"\"\n",
    "    # Constructing the full file path\n",
    "    file_path = os.path.join(directory, filename)\n",
    "\n",
    "    # Creating the directory if it doesn't exist\n",
    "    if not os.path.exists(directory):\n",
    "        os.makedirs(directory)\n",
    "\n",
    "    # Saving the DataFrame as a CSV file\n",
    "    df.to_csv(file_path, index=False)\n",
    "    print(f\"DataFrame saved successfully to {file_path}\")"
   ]
  },
  {
   "cell_type": "code",
   "execution_count": 7,
   "metadata": {},
   "outputs": [],
   "source": [
    "def generate_embeddings(corpus, lang_model, file_name, embeddings_dir, batch_size=32, max_seq_len=128):\n",
    "    '''\n",
    "    Generate embeddings for the given corpus using a specified language model.\n",
    "\n",
    "    Parameters:\n",
    "        corpus (list): List of sentences to be embedded.\n",
    "        lang_model (str): Language model name or path to the pre-trained model.\n",
    "        file_name (str): Name of the file to save the generated embeddings.\n",
    "        max_seq_len (int): Maximum sequence length for the embeddings (default: 128).\n",
    "    '''\n",
    "\n",
    "    # Define the file path to save the generated embeddings\n",
    "    embeddings_file_path = f\"{embeddings_dir}/{file_name}.npz\"\n",
    "\n",
    "    # Create an instance of the SentenceTransformer\n",
    "    embedder = SentenceTransformer(lang_model, device=device)\n",
    "\n",
    "    # Update the max_seq_length if necessary\n",
    "    if max_seq_len != 128:\n",
    "        embedder.max_seq_length = max_seq_len\n",
    "\n",
    "    # Generate embeddings\n",
    "    corpus_embeddings = embedder.encode(corpus, batch_size=batch_size, show_progress_bar=True,\n",
    "                                        normalize_embeddings=True, convert_to_numpy=True)\n",
    "\n",
    "    # Save the embeddings\n",
    "    with open(embeddings_file_path, \"wb\") as emb_file:\n",
    "      np.save(emb_file, corpus_embeddings)\n",
    "\n",
    "    print(f\"Embeddings saved to {embeddings_file_path}\")\n",
    "\n",
    "\n",
    "def load_embeddings(directory, filename):\n",
    "    '''\n",
    "    Load BERT embeddings from a file.\n",
    "\n",
    "    Parameters:\n",
    "        input_file_path (str): File path from which the embeddings will be loaded.\n",
    "\n",
    "    Returns:\n",
    "        numpy.ndarray: Array containing the loaded embeddings.\n",
    "    '''\n",
    "    input_file_path = os.path.join(directory, filename)\n",
    "    corpus_embeddings = np.load(input_file_path)\n",
    "    return list(corpus_embeddings)"
   ]
  },
  {
   "cell_type": "code",
   "execution_count": 8,
   "metadata": {},
   "outputs": [],
   "source": [
    "def plot_training_results(train_losses, val_losses, train_rmse_values, val_rmse_values):\n",
    "    \"\"\"\n",
    "    Plots the training and validation losses and RMSE values.\n",
    "\n",
    "    Parameters:\n",
    "    - train_losses: List of training loss values.\n",
    "    - val_losses: List of validation loss values.\n",
    "    - train_rmse_values: List of training RMSE values.\n",
    "    - val_rmse_values: List of validation RMSE values.\n",
    "    \"\"\"\n",
    "\n",
    "    plt.figure(figsize=(12, 6))\n",
    "\n",
    "    # Plotting RMSE\n",
    "    plt.subplot(1, 2, 1)\n",
    "    plt.plot(train_rmse_values, label='Train RMSE')\n",
    "    plt.plot(val_rmse_values, label='Validation RMSE')\n",
    "    plt.title('Training and Validation RMSE')\n",
    "    plt.xlabel('Epochs')\n",
    "    plt.ylabel('RMSE')\n",
    "    plt.legend()\n",
    "\n",
    "    # Plotting Loss\n",
    "    plt.subplot(1, 2, 2)\n",
    "    plt.plot(train_losses, label='Train Loss')\n",
    "    plt.plot(val_losses, label='Validation Loss')\n",
    "    plt.title('Training and Validation Loss')\n",
    "    plt.xlabel('Epochs')\n",
    "    plt.ylabel('Loss')\n",
    "    plt.legend()\n",
    "\n",
    "    plt.tight_layout()\n",
    "    plt.show()"
   ]
  },
  {
   "cell_type": "markdown",
   "metadata": {},
   "source": [
    "### 1.3. Loading the Cleansed Movies Meta Dataset"
   ]
  },
  {
   "cell_type": "code",
   "execution_count": 9,
   "metadata": {},
   "outputs": [
    {
     "name": "stdout",
     "output_type": "stream",
     "text": [
      "Dataset loaded successfully from ../Input/CleansedData/Movies_Combined_Text.csv\n"
     ]
    }
   ],
   "source": [
    "movies = load_dataset(cleansed_data_dir, \"Movies_Combined_Text.csv\")"
   ]
  },
  {
   "cell_type": "markdown",
   "metadata": {},
   "source": [
    "### 1.4. Loading the Ratings Dataset"
   ]
  },
  {
   "cell_type": "code",
   "execution_count": 10,
   "metadata": {},
   "outputs": [],
   "source": [
    "warnings.filterwarnings('ignore')\n",
    "\n",
    "ratings_df = pd.read_csv(os.path.join(data_dir, 'ratings_small.csv'))\n",
    "\n",
    "pd.options.display.max_columns = 30\n",
    "pd.set_option('display.float_format', '{:,}'.format) #to display float with commas"
   ]
  },
  {
   "cell_type": "markdown",
   "metadata": {},
   "source": [
    "### 1.5. Missing Values Evaluation"
   ]
  },
  {
   "cell_type": "code",
   "execution_count": 11,
   "metadata": {},
   "outputs": [
    {
     "name": "stdout",
     "output_type": "stream",
     "text": [
      "Missing values in adult: 0\n",
      "Missing values in budget: 0\n",
      "Missing values in genres: 0\n",
      "Missing values in id: 0\n",
      "Missing values in original_language: 0\n",
      "Missing values in original_title: 0\n",
      "Missing values in overview: 0\n",
      "Missing values in popularity: 0\n",
      "Missing values in production_companies: 0\n",
      "Missing values in production_countries: 0\n",
      "Missing values in release_date: 0\n",
      "Missing values in revenue: 0\n",
      "Missing values in runtime: 0\n",
      "Missing values in spoken_languages: 0\n",
      "Missing values in vote_average: 0\n",
      "Missing values in vote_count: 0\n",
      "Missing values in keywords: 0\n",
      "Missing values in crew: 0\n",
      "Missing values in characters: 0\n",
      "Missing values in actors: 0\n",
      "Missing values in score: 0\n",
      "Missing values in combined_text: 0\n"
     ]
    }
   ],
   "source": [
    "for column in movies.columns:\n",
    "    missing_values = movies[column].isna().sum() or movies[column].isnull().sum()\n",
    "    print(f\"Missing values in {column}: {missing_values}\")"
   ]
  },
  {
   "cell_type": "code",
   "execution_count": 12,
   "metadata": {},
   "outputs": [
    {
     "name": "stdout",
     "output_type": "stream",
     "text": [
      "Missing values in userId: 0\n",
      "Missing values in movieId: 0\n",
      "Missing values in rating: 0\n",
      "Missing values in timestamp: 0\n"
     ]
    }
   ],
   "source": [
    "for column in ratings_df.columns:\n",
    "    missing_values = ratings_df[column].isna().sum() or ratings_df[column].isnull().sum()\n",
    "    print(f\"Missing values in {column}: {missing_values}\")"
   ]
  },
  {
   "cell_type": "markdown",
   "metadata": {},
   "source": [
    "### 1.6. Minor Data Analysis"
   ]
  },
  {
   "cell_type": "markdown",
   "metadata": {},
   "source": [
    "### 1.6.1 Dataset Overview - Cleansed Movies Dataset"
   ]
  },
  {
   "cell_type": "code",
   "execution_count": 13,
   "metadata": {},
   "outputs": [
    {
     "data": {
      "text/html": [
       "<div>\n",
       "<style scoped>\n",
       "    .dataframe tbody tr th:only-of-type {\n",
       "        vertical-align: middle;\n",
       "    }\n",
       "\n",
       "    .dataframe tbody tr th {\n",
       "        vertical-align: top;\n",
       "    }\n",
       "\n",
       "    .dataframe thead th {\n",
       "        text-align: right;\n",
       "    }\n",
       "</style>\n",
       "<table border=\"1\" class=\"dataframe\">\n",
       "  <thead>\n",
       "    <tr style=\"text-align: right;\">\n",
       "      <th></th>\n",
       "      <th>adult</th>\n",
       "      <th>budget</th>\n",
       "      <th>genres</th>\n",
       "      <th>id</th>\n",
       "      <th>original_language</th>\n",
       "      <th>original_title</th>\n",
       "      <th>overview</th>\n",
       "      <th>popularity</th>\n",
       "      <th>production_companies</th>\n",
       "      <th>production_countries</th>\n",
       "      <th>release_date</th>\n",
       "      <th>revenue</th>\n",
       "      <th>runtime</th>\n",
       "      <th>spoken_languages</th>\n",
       "      <th>vote_average</th>\n",
       "      <th>vote_count</th>\n",
       "      <th>keywords</th>\n",
       "      <th>crew</th>\n",
       "      <th>characters</th>\n",
       "      <th>actors</th>\n",
       "      <th>score</th>\n",
       "      <th>combined_text</th>\n",
       "    </tr>\n",
       "  </thead>\n",
       "  <tbody>\n",
       "    <tr>\n",
       "      <th>0</th>\n",
       "      <td>False</td>\n",
       "      <td>30,000,000.0</td>\n",
       "      <td>Animation, Comedy, Family</td>\n",
       "      <td>862</td>\n",
       "      <td>en</td>\n",
       "      <td>Toy Story</td>\n",
       "      <td>Led by Woody, Andy's toys live happily in his ...</td>\n",
       "      <td>21.946943</td>\n",
       "      <td>Pixar Animation Studios</td>\n",
       "      <td>United States of America</td>\n",
       "      <td>1995-10-30</td>\n",
       "      <td>373,554,033.0</td>\n",
       "      <td>81.0</td>\n",
       "      <td>English</td>\n",
       "      <td>7.7</td>\n",
       "      <td>5,415.0</td>\n",
       "      <td>jealousy, toy, boy, friendship, friends, rival...</td>\n",
       "      <td>John Lasseter, Joss Whedon, Andrew Stanton, Jo...</td>\n",
       "      <td>Woody (voice), Buzz Lightyear (voice), Mr. Pot...</td>\n",
       "      <td>Tom Hanks, Tim Allen, Don Rickles, Jim Varney,...</td>\n",
       "      <td>0.3485104936548663</td>\n",
       "      <td>Led by Woody, Andy's toys live happily in his ...</td>\n",
       "    </tr>\n",
       "    <tr>\n",
       "      <th>1</th>\n",
       "      <td>False</td>\n",
       "      <td>65,000,000.0</td>\n",
       "      <td>Adventure, Fantasy, Family</td>\n",
       "      <td>8844</td>\n",
       "      <td>en</td>\n",
       "      <td>Jumanji</td>\n",
       "      <td>When siblings Judy and Peter discover an encha...</td>\n",
       "      <td>17.015539</td>\n",
       "      <td>TriStar Pictures, Teitler Film, Interscope Com...</td>\n",
       "      <td>United States of America</td>\n",
       "      <td>1995-12-15</td>\n",
       "      <td>262,797,249.0</td>\n",
       "      <td>104.0</td>\n",
       "      <td>English, Français</td>\n",
       "      <td>6.9</td>\n",
       "      <td>2,413.0</td>\n",
       "      <td>board game, disappearance, based on children's...</td>\n",
       "      <td>Larry J. Franco, Jonathan Hensleigh, James Hor...</td>\n",
       "      <td>Alan Parrish, Samuel Alan Parrish / Van Pelt, ...</td>\n",
       "      <td>Robin Williams, Jonathan Hyde, Kirsten Dunst, ...</td>\n",
       "      <td>0.2911238699009509</td>\n",
       "      <td>When siblings Judy and Peter discover an encha...</td>\n",
       "    </tr>\n",
       "    <tr>\n",
       "      <th>2</th>\n",
       "      <td>False</td>\n",
       "      <td>0.0</td>\n",
       "      <td>Romance, Comedy</td>\n",
       "      <td>15602</td>\n",
       "      <td>en</td>\n",
       "      <td>Grumpier Old Men</td>\n",
       "      <td>A family wedding reignites the ancient feud be...</td>\n",
       "      <td>11.7129</td>\n",
       "      <td>Warner Bros., Lancaster Gate</td>\n",
       "      <td>United States of America</td>\n",
       "      <td>1995-12-22</td>\n",
       "      <td>0.0</td>\n",
       "      <td>101.0</td>\n",
       "      <td>English</td>\n",
       "      <td>6.5</td>\n",
       "      <td>92.0</td>\n",
       "      <td>fishing, best friend, duringcreditsstinger, ol...</td>\n",
       "      <td>Howard Deutch, Mark Steven Johnson, Mark Steve...</td>\n",
       "      <td>Max Goldman, John Gustafson, Ariel Gustafson, ...</td>\n",
       "      <td>Walter Matthau, Jack Lemmon, Ann-Margret, Soph...</td>\n",
       "      <td>0.2417713795206282</td>\n",
       "      <td>A family wedding reignites the ancient feud be...</td>\n",
       "    </tr>\n",
       "    <tr>\n",
       "      <th>3</th>\n",
       "      <td>False</td>\n",
       "      <td>16,000,000.0</td>\n",
       "      <td>Comedy, Drama, Romance</td>\n",
       "      <td>31357</td>\n",
       "      <td>en</td>\n",
       "      <td>Waiting to Exhale</td>\n",
       "      <td>Cheated on, mistreated and stepped on, the wom...</td>\n",
       "      <td>3.859495</td>\n",
       "      <td>Twentieth Century Fox Film Corporation</td>\n",
       "      <td>United States of America</td>\n",
       "      <td>1995-12-22</td>\n",
       "      <td>81,452,156.0</td>\n",
       "      <td>127.0</td>\n",
       "      <td>English</td>\n",
       "      <td>6.1</td>\n",
       "      <td>34.0</td>\n",
       "      <td>based on novel, interracial relationship, sing...</td>\n",
       "      <td>Forest Whitaker, Ronald Bass, Ronald Bass, Ezr...</td>\n",
       "      <td>Savannah 'Vannah' Jackson, Bernadine 'Bernie' ...</td>\n",
       "      <td>Whitney Houston, Angela Bassett, Loretta Devin...</td>\n",
       "      <td>0.2095986598024349</td>\n",
       "      <td>Cheated on, mistreated and stepped on, the wom...</td>\n",
       "    </tr>\n",
       "    <tr>\n",
       "      <th>4</th>\n",
       "      <td>False</td>\n",
       "      <td>0.0</td>\n",
       "      <td>Comedy</td>\n",
       "      <td>11862</td>\n",
       "      <td>en</td>\n",
       "      <td>Father of the Bride Part II</td>\n",
       "      <td>Just when George Banks has recovered from his ...</td>\n",
       "      <td>8.387519</td>\n",
       "      <td>Sandollar Productions, Touchstone Pictures</td>\n",
       "      <td>United States of America</td>\n",
       "      <td>1995-02-10</td>\n",
       "      <td>76,578,911.0</td>\n",
       "      <td>106.0</td>\n",
       "      <td>English</td>\n",
       "      <td>5.7</td>\n",
       "      <td>173.0</td>\n",
       "      <td>baby, midlife crisis, confidence, aging, daugh...</td>\n",
       "      <td>Alan Silvestri, Elliot Davis, Nancy Meyers, Na...</td>\n",
       "      <td>George Banks, Nina Banks, Franck Eggelhoffer, ...</td>\n",
       "      <td>Steve Martin, Diane Keaton, Martin Short, Kimb...</td>\n",
       "      <td>0.2053379316488746</td>\n",
       "      <td>Just when George Banks has recovered from his ...</td>\n",
       "    </tr>\n",
       "  </tbody>\n",
       "</table>\n",
       "</div>"
      ],
      "text/plain": [
       "   adult       budget                      genres     id original_language  \\\n",
       "0  False 30,000,000.0   Animation, Comedy, Family    862                en   \n",
       "1  False 65,000,000.0  Adventure, Fantasy, Family   8844                en   \n",
       "2  False          0.0             Romance, Comedy  15602                en   \n",
       "3  False 16,000,000.0      Comedy, Drama, Romance  31357                en   \n",
       "4  False          0.0                      Comedy  11862                en   \n",
       "\n",
       "                original_title  \\\n",
       "0                    Toy Story   \n",
       "1                      Jumanji   \n",
       "2             Grumpier Old Men   \n",
       "3            Waiting to Exhale   \n",
       "4  Father of the Bride Part II   \n",
       "\n",
       "                                            overview  popularity  \\\n",
       "0  Led by Woody, Andy's toys live happily in his ...   21.946943   \n",
       "1  When siblings Judy and Peter discover an encha...   17.015539   \n",
       "2  A family wedding reignites the ancient feud be...     11.7129   \n",
       "3  Cheated on, mistreated and stepped on, the wom...    3.859495   \n",
       "4  Just when George Banks has recovered from his ...    8.387519   \n",
       "\n",
       "                                production_companies  \\\n",
       "0                            Pixar Animation Studios   \n",
       "1  TriStar Pictures, Teitler Film, Interscope Com...   \n",
       "2                       Warner Bros., Lancaster Gate   \n",
       "3             Twentieth Century Fox Film Corporation   \n",
       "4         Sandollar Productions, Touchstone Pictures   \n",
       "\n",
       "       production_countries release_date       revenue  runtime  \\\n",
       "0  United States of America   1995-10-30 373,554,033.0     81.0   \n",
       "1  United States of America   1995-12-15 262,797,249.0    104.0   \n",
       "2  United States of America   1995-12-22           0.0    101.0   \n",
       "3  United States of America   1995-12-22  81,452,156.0    127.0   \n",
       "4  United States of America   1995-02-10  76,578,911.0    106.0   \n",
       "\n",
       "    spoken_languages  vote_average  vote_count  \\\n",
       "0            English           7.7     5,415.0   \n",
       "1  English, Français           6.9     2,413.0   \n",
       "2            English           6.5        92.0   \n",
       "3            English           6.1        34.0   \n",
       "4            English           5.7       173.0   \n",
       "\n",
       "                                            keywords  \\\n",
       "0  jealousy, toy, boy, friendship, friends, rival...   \n",
       "1  board game, disappearance, based on children's...   \n",
       "2  fishing, best friend, duringcreditsstinger, ol...   \n",
       "3  based on novel, interracial relationship, sing...   \n",
       "4  baby, midlife crisis, confidence, aging, daugh...   \n",
       "\n",
       "                                                crew  \\\n",
       "0  John Lasseter, Joss Whedon, Andrew Stanton, Jo...   \n",
       "1  Larry J. Franco, Jonathan Hensleigh, James Hor...   \n",
       "2  Howard Deutch, Mark Steven Johnson, Mark Steve...   \n",
       "3  Forest Whitaker, Ronald Bass, Ronald Bass, Ezr...   \n",
       "4  Alan Silvestri, Elliot Davis, Nancy Meyers, Na...   \n",
       "\n",
       "                                          characters  \\\n",
       "0  Woody (voice), Buzz Lightyear (voice), Mr. Pot...   \n",
       "1  Alan Parrish, Samuel Alan Parrish / Van Pelt, ...   \n",
       "2  Max Goldman, John Gustafson, Ariel Gustafson, ...   \n",
       "3  Savannah 'Vannah' Jackson, Bernadine 'Bernie' ...   \n",
       "4  George Banks, Nina Banks, Franck Eggelhoffer, ...   \n",
       "\n",
       "                                              actors              score  \\\n",
       "0  Tom Hanks, Tim Allen, Don Rickles, Jim Varney,... 0.3485104936548663   \n",
       "1  Robin Williams, Jonathan Hyde, Kirsten Dunst, ... 0.2911238699009509   \n",
       "2  Walter Matthau, Jack Lemmon, Ann-Margret, Soph... 0.2417713795206282   \n",
       "3  Whitney Houston, Angela Bassett, Loretta Devin... 0.2095986598024349   \n",
       "4  Steve Martin, Diane Keaton, Martin Short, Kimb... 0.2053379316488746   \n",
       "\n",
       "                                       combined_text  \n",
       "0  Led by Woody, Andy's toys live happily in his ...  \n",
       "1  When siblings Judy and Peter discover an encha...  \n",
       "2  A family wedding reignites the ancient feud be...  \n",
       "3  Cheated on, mistreated and stepped on, the wom...  \n",
       "4  Just when George Banks has recovered from his ...  "
      ]
     },
     "execution_count": 13,
     "metadata": {},
     "output_type": "execute_result"
    }
   ],
   "source": [
    "movies.head()"
   ]
  },
  {
   "cell_type": "code",
   "execution_count": 14,
   "metadata": {},
   "outputs": [
    {
     "name": "stdout",
     "output_type": "stream",
     "text": [
      "<class 'pandas.core.frame.DataFrame'>\n",
      "RangeIndex: 42363 entries, 0 to 42362\n",
      "Data columns (total 22 columns):\n",
      " #   Column                Non-Null Count  Dtype  \n",
      "---  ------                --------------  -----  \n",
      " 0   adult                 42363 non-null  bool   \n",
      " 1   budget                42363 non-null  float64\n",
      " 2   genres                42363 non-null  object \n",
      " 3   id                    42363 non-null  int64  \n",
      " 4   original_language     42363 non-null  object \n",
      " 5   original_title        42363 non-null  object \n",
      " 6   overview              42363 non-null  object \n",
      " 7   popularity            42363 non-null  float64\n",
      " 8   production_companies  42363 non-null  object \n",
      " 9   production_countries  42363 non-null  object \n",
      " 10  release_date          42363 non-null  object \n",
      " 11  revenue               42363 non-null  float64\n",
      " 12  runtime               42363 non-null  float64\n",
      " 13  spoken_languages      42363 non-null  object \n",
      " 14  vote_average          42363 non-null  float64\n",
      " 15  vote_count            42363 non-null  float64\n",
      " 16  keywords              42363 non-null  object \n",
      " 17  crew                  42363 non-null  object \n",
      " 18  characters            42363 non-null  object \n",
      " 19  actors                42363 non-null  object \n",
      " 20  score                 42363 non-null  float64\n",
      " 21  combined_text         42363 non-null  object \n",
      "dtypes: bool(1), float64(7), int64(1), object(13)\n",
      "memory usage: 6.8+ MB\n"
     ]
    }
   ],
   "source": [
    "movies.info()"
   ]
  },
  {
   "cell_type": "code",
   "execution_count": 15,
   "metadata": {},
   "outputs": [
    {
     "name": "stdout",
     "output_type": "stream",
     "text": [
      "Shape of the Data: (42363, 22)\n",
      "Total number of Data-Points in the Data, N: 42363\n",
      "Total number of dimensions in the Data, D: 22\n",
      "\n",
      "Categorical Features: ['genres', 'original_language', 'original_title', 'overview', 'production_companies', 'production_countries', 'release_date', 'spoken_languages', 'keywords', 'crew', 'characters', 'actors', 'combined_text']\n",
      "Numerical Features: ['budget', 'popularity', 'revenue', 'runtime', 'vote_average', 'vote_count', 'score']\n",
      "Total number of Categorical Features: 13\n",
      "Total number of Numerical Features: 7\n"
     ]
    }
   ],
   "source": [
    "analyze_dataframe(movies)"
   ]
  },
  {
   "cell_type": "markdown",
   "metadata": {},
   "source": [
    "### 1.6.2 Dataset Overview - Cleansed Ratings Dataset"
   ]
  },
  {
   "cell_type": "code",
   "execution_count": 16,
   "metadata": {},
   "outputs": [
    {
     "data": {
      "text/html": [
       "<div>\n",
       "<style scoped>\n",
       "    .dataframe tbody tr th:only-of-type {\n",
       "        vertical-align: middle;\n",
       "    }\n",
       "\n",
       "    .dataframe tbody tr th {\n",
       "        vertical-align: top;\n",
       "    }\n",
       "\n",
       "    .dataframe thead th {\n",
       "        text-align: right;\n",
       "    }\n",
       "</style>\n",
       "<table border=\"1\" class=\"dataframe\">\n",
       "  <thead>\n",
       "    <tr style=\"text-align: right;\">\n",
       "      <th></th>\n",
       "      <th>userId</th>\n",
       "      <th>movieId</th>\n",
       "      <th>rating</th>\n",
       "      <th>timestamp</th>\n",
       "    </tr>\n",
       "  </thead>\n",
       "  <tbody>\n",
       "    <tr>\n",
       "      <th>0</th>\n",
       "      <td>1</td>\n",
       "      <td>31</td>\n",
       "      <td>2.5</td>\n",
       "      <td>1260759144</td>\n",
       "    </tr>\n",
       "    <tr>\n",
       "      <th>1</th>\n",
       "      <td>1</td>\n",
       "      <td>1029</td>\n",
       "      <td>3.0</td>\n",
       "      <td>1260759179</td>\n",
       "    </tr>\n",
       "    <tr>\n",
       "      <th>2</th>\n",
       "      <td>1</td>\n",
       "      <td>1061</td>\n",
       "      <td>3.0</td>\n",
       "      <td>1260759182</td>\n",
       "    </tr>\n",
       "    <tr>\n",
       "      <th>3</th>\n",
       "      <td>1</td>\n",
       "      <td>1129</td>\n",
       "      <td>2.0</td>\n",
       "      <td>1260759185</td>\n",
       "    </tr>\n",
       "    <tr>\n",
       "      <th>4</th>\n",
       "      <td>1</td>\n",
       "      <td>1172</td>\n",
       "      <td>4.0</td>\n",
       "      <td>1260759205</td>\n",
       "    </tr>\n",
       "  </tbody>\n",
       "</table>\n",
       "</div>"
      ],
      "text/plain": [
       "   userId  movieId  rating   timestamp\n",
       "0       1       31     2.5  1260759144\n",
       "1       1     1029     3.0  1260759179\n",
       "2       1     1061     3.0  1260759182\n",
       "3       1     1129     2.0  1260759185\n",
       "4       1     1172     4.0  1260759205"
      ]
     },
     "execution_count": 16,
     "metadata": {},
     "output_type": "execute_result"
    }
   ],
   "source": [
    "ratings_df.head()"
   ]
  },
  {
   "cell_type": "code",
   "execution_count": 17,
   "metadata": {},
   "outputs": [
    {
     "name": "stdout",
     "output_type": "stream",
     "text": [
      "<class 'pandas.core.frame.DataFrame'>\n",
      "RangeIndex: 100004 entries, 0 to 100003\n",
      "Data columns (total 4 columns):\n",
      " #   Column     Non-Null Count   Dtype  \n",
      "---  ------     --------------   -----  \n",
      " 0   userId     100004 non-null  int64  \n",
      " 1   movieId    100004 non-null  int64  \n",
      " 2   rating     100004 non-null  float64\n",
      " 3   timestamp  100004 non-null  int64  \n",
      "dtypes: float64(1), int64(3)\n",
      "memory usage: 3.1 MB\n"
     ]
    }
   ],
   "source": [
    "ratings_df.info()"
   ]
  },
  {
   "cell_type": "code",
   "execution_count": 18,
   "metadata": {},
   "outputs": [
    {
     "name": "stdout",
     "output_type": "stream",
     "text": [
      "Shape of the Data: (100004, 4)\n",
      "Total number of Data-Points in the Data, N: 100004\n",
      "Total number of dimensions in the Data, D: 4\n",
      "\n",
      "Categorical Features: []\n",
      "Numerical Features: ['rating']\n",
      "Total number of Categorical Features: 0\n",
      "Total number of Numerical Features: 1\n"
     ]
    }
   ],
   "source": [
    "analyze_dataframe(ratings_df)"
   ]
  },
  {
   "cell_type": "markdown",
   "metadata": {},
   "source": [
    "### 1.7. Cleansing the Ratings Dataset"
   ]
  },
  {
   "cell_type": "markdown",
   "metadata": {},
   "source": [
    "Converting the timestamp feature column into a datetime feature column."
   ]
  },
  {
   "cell_type": "code",
   "execution_count": 19,
   "metadata": {},
   "outputs": [],
   "source": [
    "ratings_df['date'] = ratings_df['timestamp'].apply(lambda x: datetime.fromtimestamp(x))\n",
    "ratings_df.drop('timestamp', axis=1, inplace=True)\n",
    "\n",
    "ratings_df.reset_index(drop=True, inplace=True)"
   ]
  },
  {
   "cell_type": "code",
   "execution_count": 20,
   "metadata": {},
   "outputs": [
    {
     "data": {
      "text/html": [
       "<div>\n",
       "<style scoped>\n",
       "    .dataframe tbody tr th:only-of-type {\n",
       "        vertical-align: middle;\n",
       "    }\n",
       "\n",
       "    .dataframe tbody tr th {\n",
       "        vertical-align: top;\n",
       "    }\n",
       "\n",
       "    .dataframe thead th {\n",
       "        text-align: right;\n",
       "    }\n",
       "</style>\n",
       "<table border=\"1\" class=\"dataframe\">\n",
       "  <thead>\n",
       "    <tr style=\"text-align: right;\">\n",
       "      <th></th>\n",
       "      <th>userId</th>\n",
       "      <th>movieId</th>\n",
       "      <th>rating</th>\n",
       "      <th>date</th>\n",
       "    </tr>\n",
       "  </thead>\n",
       "  <tbody>\n",
       "    <tr>\n",
       "      <th>0</th>\n",
       "      <td>1</td>\n",
       "      <td>31</td>\n",
       "      <td>2.5</td>\n",
       "      <td>2009-12-13 18:52:24</td>\n",
       "    </tr>\n",
       "    <tr>\n",
       "      <th>1</th>\n",
       "      <td>1</td>\n",
       "      <td>1029</td>\n",
       "      <td>3.0</td>\n",
       "      <td>2009-12-13 18:52:59</td>\n",
       "    </tr>\n",
       "    <tr>\n",
       "      <th>2</th>\n",
       "      <td>1</td>\n",
       "      <td>1061</td>\n",
       "      <td>3.0</td>\n",
       "      <td>2009-12-13 18:53:02</td>\n",
       "    </tr>\n",
       "    <tr>\n",
       "      <th>3</th>\n",
       "      <td>1</td>\n",
       "      <td>1129</td>\n",
       "      <td>2.0</td>\n",
       "      <td>2009-12-13 18:53:05</td>\n",
       "    </tr>\n",
       "    <tr>\n",
       "      <th>4</th>\n",
       "      <td>1</td>\n",
       "      <td>1172</td>\n",
       "      <td>4.0</td>\n",
       "      <td>2009-12-13 18:53:25</td>\n",
       "    </tr>\n",
       "  </tbody>\n",
       "</table>\n",
       "</div>"
      ],
      "text/plain": [
       "   userId  movieId  rating                date\n",
       "0       1       31     2.5 2009-12-13 18:52:24\n",
       "1       1     1029     3.0 2009-12-13 18:52:59\n",
       "2       1     1061     3.0 2009-12-13 18:53:02\n",
       "3       1     1129     2.0 2009-12-13 18:53:05\n",
       "4       1     1172     4.0 2009-12-13 18:53:25"
      ]
     },
     "execution_count": 20,
     "metadata": {},
     "output_type": "execute_result"
    }
   ],
   "source": [
    "ratings_df.head()"
   ]
  },
  {
   "cell_type": "code",
   "execution_count": 21,
   "metadata": {},
   "outputs": [
    {
     "name": "stdout",
     "output_type": "stream",
     "text": [
      "<class 'pandas.core.frame.DataFrame'>\n",
      "RangeIndex: 100004 entries, 0 to 100003\n",
      "Data columns (total 4 columns):\n",
      " #   Column   Non-Null Count   Dtype         \n",
      "---  ------   --------------   -----         \n",
      " 0   userId   100004 non-null  int64         \n",
      " 1   movieId  100004 non-null  int64         \n",
      " 2   rating   100004 non-null  float64       \n",
      " 3   date     100004 non-null  datetime64[ns]\n",
      "dtypes: datetime64[ns](1), float64(1), int64(2)\n",
      "memory usage: 3.1 MB\n"
     ]
    }
   ],
   "source": [
    "ratings_df.info()"
   ]
  },
  {
   "cell_type": "markdown",
   "metadata": {},
   "source": [
    "### 1.8. Loading Embeddings and Combining them with the Movies Dataframe"
   ]
  },
  {
   "cell_type": "code",
   "execution_count": 22,
   "metadata": {},
   "outputs": [
    {
     "name": "stdout",
     "output_type": "stream",
     "text": [
      "Length of a sample embeddings: 768\n"
     ]
    }
   ],
   "source": [
    "bert_embeddings = load_embeddings(embeddings_dir, \"Movies_Embeddings_DistilRoberta.npz\")\n",
    "print(f\"Length of a sample embeddings: {len(bert_embeddings[0])}\")\n",
    "movies[\"embeddings\"] = bert_embeddings"
   ]
  },
  {
   "cell_type": "code",
   "execution_count": 23,
   "metadata": {},
   "outputs": [
    {
     "name": "stdout",
     "output_type": "stream",
     "text": [
      "<class 'pandas.core.frame.DataFrame'>\n",
      "RangeIndex: 42363 entries, 0 to 42362\n",
      "Data columns (total 23 columns):\n",
      " #   Column                Non-Null Count  Dtype  \n",
      "---  ------                --------------  -----  \n",
      " 0   adult                 42363 non-null  bool   \n",
      " 1   budget                42363 non-null  float64\n",
      " 2   genres                42363 non-null  object \n",
      " 3   id                    42363 non-null  int64  \n",
      " 4   original_language     42363 non-null  object \n",
      " 5   original_title        42363 non-null  object \n",
      " 6   overview              42363 non-null  object \n",
      " 7   popularity            42363 non-null  float64\n",
      " 8   production_companies  42363 non-null  object \n",
      " 9   production_countries  42363 non-null  object \n",
      " 10  release_date          42363 non-null  object \n",
      " 11  revenue               42363 non-null  float64\n",
      " 12  runtime               42363 non-null  float64\n",
      " 13  spoken_languages      42363 non-null  object \n",
      " 14  vote_average          42363 non-null  float64\n",
      " 15  vote_count            42363 non-null  float64\n",
      " 16  keywords              42363 non-null  object \n",
      " 17  crew                  42363 non-null  object \n",
      " 18  characters            42363 non-null  object \n",
      " 19  actors                42363 non-null  object \n",
      " 20  score                 42363 non-null  float64\n",
      " 21  combined_text         42363 non-null  object \n",
      " 22  embeddings            42363 non-null  object \n",
      "dtypes: bool(1), float64(7), int64(1), object(14)\n",
      "memory usage: 7.2+ MB\n"
     ]
    }
   ],
   "source": [
    "movies.info()"
   ]
  },
  {
   "cell_type": "code",
   "execution_count": 24,
   "metadata": {},
   "outputs": [
    {
     "data": {
      "text/html": [
       "<div>\n",
       "<style scoped>\n",
       "    .dataframe tbody tr th:only-of-type {\n",
       "        vertical-align: middle;\n",
       "    }\n",
       "\n",
       "    .dataframe tbody tr th {\n",
       "        vertical-align: top;\n",
       "    }\n",
       "\n",
       "    .dataframe thead th {\n",
       "        text-align: right;\n",
       "    }\n",
       "</style>\n",
       "<table border=\"1\" class=\"dataframe\">\n",
       "  <thead>\n",
       "    <tr style=\"text-align: right;\">\n",
       "      <th></th>\n",
       "      <th>adult</th>\n",
       "      <th>budget</th>\n",
       "      <th>genres</th>\n",
       "      <th>id</th>\n",
       "      <th>original_language</th>\n",
       "      <th>original_title</th>\n",
       "      <th>overview</th>\n",
       "      <th>popularity</th>\n",
       "      <th>production_companies</th>\n",
       "      <th>production_countries</th>\n",
       "      <th>release_date</th>\n",
       "      <th>revenue</th>\n",
       "      <th>runtime</th>\n",
       "      <th>spoken_languages</th>\n",
       "      <th>vote_average</th>\n",
       "      <th>vote_count</th>\n",
       "      <th>keywords</th>\n",
       "      <th>crew</th>\n",
       "      <th>characters</th>\n",
       "      <th>actors</th>\n",
       "      <th>score</th>\n",
       "      <th>combined_text</th>\n",
       "      <th>embeddings</th>\n",
       "    </tr>\n",
       "  </thead>\n",
       "  <tbody>\n",
       "    <tr>\n",
       "      <th>0</th>\n",
       "      <td>False</td>\n",
       "      <td>30,000,000.0</td>\n",
       "      <td>Animation, Comedy, Family</td>\n",
       "      <td>862</td>\n",
       "      <td>en</td>\n",
       "      <td>Toy Story</td>\n",
       "      <td>Led by Woody, Andy's toys live happily in his ...</td>\n",
       "      <td>21.946943</td>\n",
       "      <td>Pixar Animation Studios</td>\n",
       "      <td>United States of America</td>\n",
       "      <td>1995-10-30</td>\n",
       "      <td>373,554,033.0</td>\n",
       "      <td>81.0</td>\n",
       "      <td>English</td>\n",
       "      <td>7.7</td>\n",
       "      <td>5,415.0</td>\n",
       "      <td>jealousy, toy, boy, friendship, friends, rival...</td>\n",
       "      <td>John Lasseter, Joss Whedon, Andrew Stanton, Jo...</td>\n",
       "      <td>Woody (voice), Buzz Lightyear (voice), Mr. Pot...</td>\n",
       "      <td>Tom Hanks, Tim Allen, Don Rickles, Jim Varney,...</td>\n",
       "      <td>0.3485104936548663</td>\n",
       "      <td>Led by Woody, Andy's toys live happily in his ...</td>\n",
       "      <td>[0.017651884, -0.0007875326, -0.009459613, -0....</td>\n",
       "    </tr>\n",
       "    <tr>\n",
       "      <th>1</th>\n",
       "      <td>False</td>\n",
       "      <td>65,000,000.0</td>\n",
       "      <td>Adventure, Fantasy, Family</td>\n",
       "      <td>8844</td>\n",
       "      <td>en</td>\n",
       "      <td>Jumanji</td>\n",
       "      <td>When siblings Judy and Peter discover an encha...</td>\n",
       "      <td>17.015539</td>\n",
       "      <td>TriStar Pictures, Teitler Film, Interscope Com...</td>\n",
       "      <td>United States of America</td>\n",
       "      <td>1995-12-15</td>\n",
       "      <td>262,797,249.0</td>\n",
       "      <td>104.0</td>\n",
       "      <td>English, Français</td>\n",
       "      <td>6.9</td>\n",
       "      <td>2,413.0</td>\n",
       "      <td>board game, disappearance, based on children's...</td>\n",
       "      <td>Larry J. Franco, Jonathan Hensleigh, James Hor...</td>\n",
       "      <td>Alan Parrish, Samuel Alan Parrish / Van Pelt, ...</td>\n",
       "      <td>Robin Williams, Jonathan Hyde, Kirsten Dunst, ...</td>\n",
       "      <td>0.2911238699009509</td>\n",
       "      <td>When siblings Judy and Peter discover an encha...</td>\n",
       "      <td>[-0.019318212, -0.039893534, 0.04716879, 0.024...</td>\n",
       "    </tr>\n",
       "    <tr>\n",
       "      <th>2</th>\n",
       "      <td>False</td>\n",
       "      <td>0.0</td>\n",
       "      <td>Romance, Comedy</td>\n",
       "      <td>15602</td>\n",
       "      <td>en</td>\n",
       "      <td>Grumpier Old Men</td>\n",
       "      <td>A family wedding reignites the ancient feud be...</td>\n",
       "      <td>11.7129</td>\n",
       "      <td>Warner Bros., Lancaster Gate</td>\n",
       "      <td>United States of America</td>\n",
       "      <td>1995-12-22</td>\n",
       "      <td>0.0</td>\n",
       "      <td>101.0</td>\n",
       "      <td>English</td>\n",
       "      <td>6.5</td>\n",
       "      <td>92.0</td>\n",
       "      <td>fishing, best friend, duringcreditsstinger, ol...</td>\n",
       "      <td>Howard Deutch, Mark Steven Johnson, Mark Steve...</td>\n",
       "      <td>Max Goldman, John Gustafson, Ariel Gustafson, ...</td>\n",
       "      <td>Walter Matthau, Jack Lemmon, Ann-Margret, Soph...</td>\n",
       "      <td>0.2417713795206282</td>\n",
       "      <td>A family wedding reignites the ancient feud be...</td>\n",
       "      <td>[-0.007591387, -0.04258443, 0.0010542952, 0.01...</td>\n",
       "    </tr>\n",
       "  </tbody>\n",
       "</table>\n",
       "</div>"
      ],
      "text/plain": [
       "   adult       budget                      genres     id original_language  \\\n",
       "0  False 30,000,000.0   Animation, Comedy, Family    862                en   \n",
       "1  False 65,000,000.0  Adventure, Fantasy, Family   8844                en   \n",
       "2  False          0.0             Romance, Comedy  15602                en   \n",
       "\n",
       "     original_title                                           overview  \\\n",
       "0         Toy Story  Led by Woody, Andy's toys live happily in his ...   \n",
       "1           Jumanji  When siblings Judy and Peter discover an encha...   \n",
       "2  Grumpier Old Men  A family wedding reignites the ancient feud be...   \n",
       "\n",
       "   popularity                               production_companies  \\\n",
       "0   21.946943                            Pixar Animation Studios   \n",
       "1   17.015539  TriStar Pictures, Teitler Film, Interscope Com...   \n",
       "2     11.7129                       Warner Bros., Lancaster Gate   \n",
       "\n",
       "       production_countries release_date       revenue  runtime  \\\n",
       "0  United States of America   1995-10-30 373,554,033.0     81.0   \n",
       "1  United States of America   1995-12-15 262,797,249.0    104.0   \n",
       "2  United States of America   1995-12-22           0.0    101.0   \n",
       "\n",
       "    spoken_languages  vote_average  vote_count  \\\n",
       "0            English           7.7     5,415.0   \n",
       "1  English, Français           6.9     2,413.0   \n",
       "2            English           6.5        92.0   \n",
       "\n",
       "                                            keywords  \\\n",
       "0  jealousy, toy, boy, friendship, friends, rival...   \n",
       "1  board game, disappearance, based on children's...   \n",
       "2  fishing, best friend, duringcreditsstinger, ol...   \n",
       "\n",
       "                                                crew  \\\n",
       "0  John Lasseter, Joss Whedon, Andrew Stanton, Jo...   \n",
       "1  Larry J. Franco, Jonathan Hensleigh, James Hor...   \n",
       "2  Howard Deutch, Mark Steven Johnson, Mark Steve...   \n",
       "\n",
       "                                          characters  \\\n",
       "0  Woody (voice), Buzz Lightyear (voice), Mr. Pot...   \n",
       "1  Alan Parrish, Samuel Alan Parrish / Van Pelt, ...   \n",
       "2  Max Goldman, John Gustafson, Ariel Gustafson, ...   \n",
       "\n",
       "                                              actors              score  \\\n",
       "0  Tom Hanks, Tim Allen, Don Rickles, Jim Varney,... 0.3485104936548663   \n",
       "1  Robin Williams, Jonathan Hyde, Kirsten Dunst, ... 0.2911238699009509   \n",
       "2  Walter Matthau, Jack Lemmon, Ann-Margret, Soph... 0.2417713795206282   \n",
       "\n",
       "                                       combined_text  \\\n",
       "0  Led by Woody, Andy's toys live happily in his ...   \n",
       "1  When siblings Judy and Peter discover an encha...   \n",
       "2  A family wedding reignites the ancient feud be...   \n",
       "\n",
       "                                          embeddings  \n",
       "0  [0.017651884, -0.0007875326, -0.009459613, -0....  \n",
       "1  [-0.019318212, -0.039893534, 0.04716879, 0.024...  \n",
       "2  [-0.007591387, -0.04258443, 0.0010542952, 0.01...  "
      ]
     },
     "execution_count": 24,
     "metadata": {},
     "output_type": "execute_result"
    }
   ],
   "source": [
    "movies.head(3)"
   ]
  },
  {
   "cell_type": "markdown",
   "metadata": {},
   "source": [
    "### 1.9 Combining Embeddings, Popularity_Score and Numerical features."
   ]
  },
  {
   "cell_type": "code",
   "execution_count": 25,
   "metadata": {},
   "outputs": [
    {
     "name": "stdout",
     "output_type": "stream",
     "text": [
      "Shape of Embeddings: (42363, 768)\n",
      "Shape of Scaled Numerical Features: (42363, 3)\n",
      "Shape of score array: (42363, 1)\n"
     ]
    },
    {
     "data": {
      "text/plain": [
       "numpy.ndarray"
      ]
     },
     "execution_count": 25,
     "metadata": {},
     "output_type": "execute_result"
    }
   ],
   "source": [
    "numerical_features = movies[['revenue', 'budget', 'runtime']]\n",
    "scaled_numerical_features = scaler.fit_transform(numerical_features)\n",
    "\n",
    "embeddings_array = np.stack(movies[\"embeddings\"].to_numpy())\n",
    "\n",
    "score_array = movies[\"score\"].to_numpy().reshape(-1, 1)\n",
    "\n",
    "print(f\"Shape of Embeddings: {embeddings_array.shape}\")\n",
    "print(f\"Shape of Scaled Numerical Features: {scaled_numerical_features.shape}\")\n",
    "print(f\"Shape of score array: {score_array.shape}\")\n",
    "\n",
    "combined_features = np.hstack((embeddings_array, score_array, scaled_numerical_features))\n",
    "combined_features.shape\n",
    "type(combined_features)"
   ]
  },
  {
   "cell_type": "code",
   "execution_count": 26,
   "metadata": {},
   "outputs": [],
   "source": [
    "movies[\"enhanced_emb\"] = combined_features.tolist()"
   ]
  },
  {
   "cell_type": "code",
   "execution_count": 27,
   "metadata": {},
   "outputs": [
    {
     "name": "stdout",
     "output_type": "stream",
     "text": [
      "Shape of the Data: (42363, 24)\n",
      "Total number of Data-Points in the Data, N: 42363\n",
      "Total number of dimensions in the Data, D: 24\n",
      "\n",
      "Categorical Features: ['genres', 'original_language', 'original_title', 'overview', 'production_companies', 'production_countries', 'release_date', 'spoken_languages', 'keywords', 'crew', 'characters', 'actors', 'combined_text', 'embeddings', 'enhanced_emb']\n",
      "Numerical Features: ['budget', 'popularity', 'revenue', 'runtime', 'vote_average', 'vote_count', 'score']\n",
      "Total number of Categorical Features: 15\n",
      "Total number of Numerical Features: 7\n"
     ]
    }
   ],
   "source": [
    "analyze_dataframe(movies)"
   ]
  },
  {
   "cell_type": "code",
   "execution_count": 28,
   "metadata": {},
   "outputs": [
    {
     "name": "stdout",
     "output_type": "stream",
     "text": [
      "<class 'pandas.core.frame.DataFrame'>\n",
      "RangeIndex: 42363 entries, 0 to 42362\n",
      "Data columns (total 24 columns):\n",
      " #   Column                Non-Null Count  Dtype  \n",
      "---  ------                --------------  -----  \n",
      " 0   adult                 42363 non-null  bool   \n",
      " 1   budget                42363 non-null  float64\n",
      " 2   genres                42363 non-null  object \n",
      " 3   id                    42363 non-null  int64  \n",
      " 4   original_language     42363 non-null  object \n",
      " 5   original_title        42363 non-null  object \n",
      " 6   overview              42363 non-null  object \n",
      " 7   popularity            42363 non-null  float64\n",
      " 8   production_companies  42363 non-null  object \n",
      " 9   production_countries  42363 non-null  object \n",
      " 10  release_date          42363 non-null  object \n",
      " 11  revenue               42363 non-null  float64\n",
      " 12  runtime               42363 non-null  float64\n",
      " 13  spoken_languages      42363 non-null  object \n",
      " 14  vote_average          42363 non-null  float64\n",
      " 15  vote_count            42363 non-null  float64\n",
      " 16  keywords              42363 non-null  object \n",
      " 17  crew                  42363 non-null  object \n",
      " 18  characters            42363 non-null  object \n",
      " 19  actors                42363 non-null  object \n",
      " 20  score                 42363 non-null  float64\n",
      " 21  combined_text         42363 non-null  object \n",
      " 22  embeddings            42363 non-null  object \n",
      " 23  enhanced_emb          42363 non-null  object \n",
      "dtypes: bool(1), float64(7), int64(1), object(15)\n",
      "memory usage: 7.5+ MB\n"
     ]
    }
   ],
   "source": [
    "movies.info()"
   ]
  },
  {
   "cell_type": "markdown",
   "metadata": {},
   "source": [
    "## Part 2 - Data Pipeline and Data Preparation\n",
    "---"
   ]
  },
  {
   "cell_type": "markdown",
   "metadata": {},
   "source": [
    "### 2.1. Data Set Preparation & Data Loaders - PyTorch"
   ]
  },
  {
   "cell_type": "markdown",
   "metadata": {},
   "source": [
    "### 2.1.1 Combining Movies Dataset and Ratings Dataset"
   ]
  },
  {
   "cell_type": "code",
   "execution_count": 29,
   "metadata": {},
   "outputs": [],
   "source": [
    "combined_df = ratings_df.merge(movies[['id', 'original_title', \n",
    "                                       'genres', 'overview', 'enhanced_emb']], \n",
    "                               left_on='movieId',right_on='id', \n",
    "                               how='left')\n",
    "combined_df = combined_df[~combined_df['id'].isna()]\n",
    "combined_df.drop('id', axis=1, inplace=True)\n",
    "combined_df.reset_index(drop=True, inplace=True)"
   ]
  },
  {
   "cell_type": "code",
   "execution_count": 30,
   "metadata": {},
   "outputs": [
    {
     "data": {
      "text/plain": [
       "772"
      ]
     },
     "execution_count": 30,
     "metadata": {},
     "output_type": "execute_result"
    }
   ],
   "source": [
    "len(combined_df[\"enhanced_emb\"][678])"
   ]
  },
  {
   "cell_type": "markdown",
   "metadata": {},
   "source": [
    "### 2.1.2. Sneak Peek into the Movies Original Title & Transformation of Movies Dataset"
   ]
  },
  {
   "cell_type": "code",
   "execution_count": 31,
   "metadata": {},
   "outputs": [
    {
     "data": {
      "text/html": [
       "<div>\n",
       "<style scoped>\n",
       "    .dataframe tbody tr th:only-of-type {\n",
       "        vertical-align: middle;\n",
       "    }\n",
       "\n",
       "    .dataframe tbody tr th {\n",
       "        vertical-align: top;\n",
       "    }\n",
       "\n",
       "    .dataframe thead th {\n",
       "        text-align: right;\n",
       "    }\n",
       "</style>\n",
       "<table border=\"1\" class=\"dataframe\">\n",
       "  <thead>\n",
       "    <tr style=\"text-align: right;\">\n",
       "      <th></th>\n",
       "      <th>movieId</th>\n",
       "      <th>original_title</th>\n",
       "    </tr>\n",
       "  </thead>\n",
       "  <tbody>\n",
       "    <tr>\n",
       "      <th>0</th>\n",
       "      <td>862</td>\n",
       "      <td>Toy Story</td>\n",
       "    </tr>\n",
       "    <tr>\n",
       "      <th>1</th>\n",
       "      <td>8844</td>\n",
       "      <td>Jumanji</td>\n",
       "    </tr>\n",
       "    <tr>\n",
       "      <th>2</th>\n",
       "      <td>15602</td>\n",
       "      <td>Grumpier Old Men</td>\n",
       "    </tr>\n",
       "    <tr>\n",
       "      <th>3</th>\n",
       "      <td>31357</td>\n",
       "      <td>Waiting to Exhale</td>\n",
       "    </tr>\n",
       "    <tr>\n",
       "      <th>4</th>\n",
       "      <td>11862</td>\n",
       "      <td>Father of the Bride Part II</td>\n",
       "    </tr>\n",
       "  </tbody>\n",
       "</table>\n",
       "</div>"
      ],
      "text/plain": [
       "   movieId               original_title\n",
       "0      862                    Toy Story\n",
       "1     8844                      Jumanji\n",
       "2    15602             Grumpier Old Men\n",
       "3    31357            Waiting to Exhale\n",
       "4    11862  Father of the Bride Part II"
      ]
     },
     "execution_count": 31,
     "metadata": {},
     "output_type": "execute_result"
    }
   ],
   "source": [
    "movies_df = movies[['id', 'original_title']]\n",
    "movies_df.rename(columns={'id':'movieId'}, inplace=True)\n",
    "movies_df.head()"
   ]
  },
  {
   "cell_type": "markdown",
   "metadata": {},
   "source": [
    "### 2.2. Encoding the User_ID's and Movie Id's"
   ]
  },
  {
   "cell_type": "code",
   "execution_count": 32,
   "metadata": {},
   "outputs": [],
   "source": [
    "combined_df['userId'] = user_encoder.fit_transform(combined_df['userId'])\n",
    "combined_df['movieId'] = movie_encoder.fit_transform(combined_df['movieId'])"
   ]
  },
  {
   "cell_type": "markdown",
   "metadata": {},
   "source": [
    "### 2.3. Expanding the Embeddings to accomodate the Model"
   ]
  },
  {
   "cell_type": "code",
   "execution_count": 33,
   "metadata": {},
   "outputs": [],
   "source": [
    "expanded_embeddings = pd.DataFrame(combined_df['enhanced_emb'].to_list())\n",
    "\n",
    "# Convert the expanded columns to PyTorch tensors\n",
    "embedding_tensors = [torch.tensor(col, dtype=torch.float32) for col in expanded_embeddings.values.T]\n",
    "\n",
    "# Create a new DataFrame with these tensors\n",
    "expanded_df = pd.DataFrame({'embedding_' + str(i): col for i, col in enumerate(embedding_tensors)})"
   ]
  },
  {
   "cell_type": "markdown",
   "metadata": {},
   "source": [
    "### 2.3.1 Adding user id's and movie id's to the expanded dataframe"
   ]
  },
  {
   "cell_type": "code",
   "execution_count": 34,
   "metadata": {},
   "outputs": [],
   "source": [
    "expanded_df['userId'] = combined_df['userId']\n",
    "expanded_df['movieId'] = combined_df['movieId']\n",
    "expanded_df[\"rating\"] = combined_df[\"rating\"]\n",
    "expanded_df[\"original_title\"] = combined_df[\"original_title\"]\n"
   ]
  },
  {
   "cell_type": "markdown",
   "metadata": {},
   "source": [
    "### 2.4. Movie Ratings Dataset Class"
   ]
  },
  {
   "cell_type": "code",
   "execution_count": 35,
   "metadata": {},
   "outputs": [],
   "source": [
    "class MovieRatingsDataset(Dataset):\n",
    "    def __init__(self, df):\n",
    "        self.user_ids = torch.tensor(df['userId'].values).long()\n",
    "        self.movie_ids = torch.tensor(df['movieId'].values).long()\n",
    "        self.ratings = torch.tensor(df['rating'].values).float()\n",
    "        self.embeddings = torch.stack([torch.tensor(df[col].values).float() for col in expanded_df.columns if col.startswith('embedding')], dim=1)\n",
    "\n",
    "    def __len__(self):\n",
    "        return len(self.ratings)\n",
    "\n",
    "    def __getitem__(self, idx):\n",
    "        return {\n",
    "            \"user_ids\": self.user_ids[idx],\n",
    "            \"movie_ids\": self.movie_ids[idx],\n",
    "            \"embeddings\": self.embeddings[idx],\n",
    "            \"ratings\": self.ratings[idx]\n",
    "        }"
   ]
  },
  {
   "cell_type": "markdown",
   "metadata": {},
   "source": [
    "### 2.5. Creation of Dataset and Data Loaders"
   ]
  },
  {
   "cell_type": "code",
   "execution_count": 36,
   "metadata": {},
   "outputs": [
    {
     "name": "stdout",
     "output_type": "stream",
     "text": [
      "Train Set Length: 38869\n",
      "Validation Set Length: 2159\n",
      "Test Set Length: 2160\n"
     ]
    }
   ],
   "source": [
    "dataset = MovieRatingsDataset(expanded_df)\n",
    "\n",
    "from torch.utils.data import random_split\n",
    "\n",
    "# Define your PyTorch dataset using the expanded DataFrame\n",
    "dataset = MovieRatingsDataset(expanded_df)\n",
    "\n",
    "# Specify the sizes for the train, validation, and test sets\n",
    "train_size = int(0.9 * len(dataset))\n",
    "val_size = int(0.05 * len(dataset))\n",
    "test_size = len(dataset) - train_size - val_size\n",
    "\n",
    "# Randomly split the dataset into train, validation, and test sets\n",
    "train_dataset, val_dataset, test_dataset = random_split(dataset, [train_size, val_size, test_size])\n",
    "\n",
    "print(\"Train Set Length:\", len(train_dataset))\n",
    "print(\"Validation Set Length:\", len(val_dataset))\n",
    "print(\"Test Set Length:\", len(test_dataset))\n",
    "\n",
    "# Define data loaders for train, validation, and test sets\n",
    "batch_size = 64  # You can adjust this as needed\n",
    "train_loader = DataLoader(train_dataset, batch_size=batch_size, shuffle=True)\n",
    "val_loader = DataLoader(val_dataset, batch_size=batch_size, shuffle=False)\n",
    "test_loader = DataLoader(test_dataset, batch_size=batch_size, shuffle=False)\n"
   ]
  },
  {
   "cell_type": "markdown",
   "metadata": {},
   "source": [
    "## Part 3 -  Training Variants of Models to perform Hyperparameter Optimization\n",
    "----"
   ]
  },
  {
   "cell_type": "markdown",
   "metadata": {},
   "source": [
    "### 3.1. Defining the Training Loop"
   ]
  },
  {
   "cell_type": "code",
   "execution_count": 37,
   "metadata": {},
   "outputs": [],
   "source": [
    "def train_model(model, train_loader, val_loader, optimizer, criterion, num_epochs=50):\n",
    "    \"\"\"\n",
    "    Trains a given model and evaluates it on a validation set.\n",
    "\n",
    "    Parameters:\n",
    "    - model: The neural network model to be trained.\n",
    "    - train_loader: DataLoader for the training set.\n",
    "    - val_loader: DataLoader for the validation set.\n",
    "    - optimizer: Optimizer for the model.\n",
    "    - criterion: Loss function.\n",
    "    - num_epochs: Number of epochs for training (default: 50).\n",
    "\n",
    "    Returns:\n",
    "    - A tuple containing lists of training losses, validation losses, training RMSE values, and validation RMSE values.\n",
    "    \"\"\"\n",
    "    device = torch.device(\"cuda\" if torch.cuda.is_available() else \"cpu\")\n",
    "    model.to(device)\n",
    "\n",
    "    train_losses = []\n",
    "    val_losses = []\n",
    "    train_rmse_values = []\n",
    "    val_rmse_values = []\n",
    "    best_val_loss = float('inf')\n",
    "\n",
    "    for epoch in range(num_epochs):\n",
    "        # Training\n",
    "        model.train()\n",
    "        train_loss = 0.0\n",
    "        for batch in train_loader:\n",
    "            # Load batch data to the device\n",
    "            user_ids = batch['user_ids'].to(device)\n",
    "            movie_ids = batch['movie_ids'].to(device)\n",
    "            bert_embeddings = batch['embeddings'].to(device)\n",
    "            ratings = batch['ratings'].to(device)\n",
    "\n",
    "            # Forward and backward passes\n",
    "            optimizer.zero_grad()\n",
    "            outputs = model(user_ids, movie_ids, bert_embeddings).squeeze()\n",
    "            loss = criterion(outputs, ratings)\n",
    "            loss.backward()\n",
    "            optimizer.step()\n",
    "            train_loss += loss.item()\n",
    "\n",
    "        # Validation\n",
    "        model.eval()\n",
    "        val_loss = 0.0\n",
    "        with torch.no_grad():\n",
    "            for batch in val_loader:\n",
    "                # Load batch data to the device\n",
    "                user_ids = batch['user_ids'].to(device)\n",
    "                movie_ids = batch['movie_ids'].to(device)\n",
    "                bert_embeddings = batch['embeddings'].to(device)\n",
    "                ratings = batch['ratings'].to(device)\n",
    "\n",
    "                outputs = model(user_ids, movie_ids, bert_embeddings).squeeze()\n",
    "                loss = criterion(outputs, ratings)\n",
    "                val_loss += loss.item()\n",
    "\n",
    "        # Calculate RMSE for training and validation\n",
    "        train_rmse = torch.sqrt(torch.tensor(train_loss / len(train_loader)))\n",
    "        val_rmse = torch.sqrt(torch.tensor(val_loss / len(val_loader)))\n",
    "\n",
    "        # Append RMSE and loss to lists\n",
    "        train_losses.append(train_loss / len(train_loader))\n",
    "        val_losses.append(val_loss / len(val_loader))\n",
    "        train_rmse_values.append(train_rmse.item())  # Convert to Python float\n",
    "        val_rmse_values.append(val_rmse.item())  # Convert to Python float\n",
    "\n",
    "        # Print training and validation loss for this epoch\n",
    "        print(f\"Epoch [{epoch + 1}/{num_epochs}] - Train Loss: {train_losses[-1]} - Train RMSE: {train_rmse} - Validation Loss: {val_losses[-1]} - Validation RMSE: {val_rmse}\")\n",
    "\n",
    "        # Check if validation loss improved\n",
    "        if val_loss < best_val_loss:\n",
    "            best_val_loss = val_loss\n",
    "            torch.save(model.state_dict(), 'best_model.pth')\n",
    "\n",
    "    print(\"Training complete.\")\n",
    "    return train_losses, val_losses, train_rmse_values, val_rmse_values\n"
   ]
  },
  {
   "cell_type": "markdown",
   "metadata": {},
   "source": [
    "### 3.2. Defining other Helper Functions"
   ]
  },
  {
   "cell_type": "code",
   "execution_count": 38,
   "metadata": {},
   "outputs": [],
   "source": [
    "def plot_training_results(train_losses, val_losses, train_rmse_values, val_rmse_values, common_title):\n",
    "    \"\"\"\n",
    "    Plots the training and validation losses and RMSE values in separate figures, with a common title.\n",
    "\n",
    "    Parameters:\n",
    "    - train_losses: List of training loss values.\n",
    "    - val_losses: List of validation loss values.\n",
    "    - train_rmse_values: List of training RMSE values.\n",
    "    - val_rmse_values: List of validation RMSE values.\n",
    "    - common_title: Common title for both plots.\n",
    "    \"\"\"\n",
    "\n",
    "    # Plotting RMSE\n",
    "    plt.figure(figsize=(6, 6))\n",
    "    plt.plot(train_rmse_values, label='Train RMSE')\n",
    "    plt.plot(val_rmse_values, label='Validation RMSE')\n",
    "    plt.title(f'{common_title} - RMSE')\n",
    "    plt.xlabel('Epochs')\n",
    "    plt.ylabel('RMSE')\n",
    "    plt.legend()\n",
    "    plt.show()\n",
    "\n",
    "    # Plotting Loss\n",
    "    plt.figure(figsize=(6, 6))\n",
    "    plt.plot(train_losses, label='Train Loss')\n",
    "    plt.plot(val_losses, label='Validation Loss')\n",
    "    plt.title(f'{common_title} - Loss')\n",
    "    plt.xlabel('Epochs')\n",
    "    plt.ylabel('Loss')\n",
    "    plt.legend()\n",
    "    plt.show()"
   ]
  },
  {
   "cell_type": "code",
   "execution_count": 39,
   "metadata": {},
   "outputs": [],
   "source": [
    "def predict_rating(model, user_id, movie_name):\n",
    "    \"\"\"\n",
    "    Predict the rating for a specific user and movie.\n",
    "\n",
    "    Parameters:\n",
    "    - model: Trained PyTorch model for recommendation.\n",
    "    - user_id: User ID (to be label encoded).\n",
    "    - movie_name: Name of the movie.\n",
    "    \"\"\"\n",
    "\n",
    "\n",
    "    # Encode the user ID\n",
    "    encoded_user_id = user_encoder.transform([str(user_id)])[0]\n",
    "\n",
    "    # Get the movie ID from the name and encode it\n",
    "    if movie_name not in expanded_df['original_title'].values:\n",
    "        print(f\"Movie '{movie_name}' not found.\")\n",
    "        return\n",
    "\n",
    "    movie_row = expanded_df[expanded_df['original_title'] == movie_name].iloc[0]\n",
    "    raw_movie_id = movie_row['movieId']\n",
    "    encoded_movie_id = movie_encoder.transform([raw_movie_id])[0]\n",
    "\n",
    "    # Extract BERT embeddings for the movie from expanded_df\n",
    "    bert_embedding = torch.tensor([movie_row[col] for col in expanded_df.columns if col.startswith('embedding')]).float()\n",
    "\n",
    "    # Convert encoded IDs to tensors without adding extra dimension\n",
    "    user_tensor = torch.tensor([encoded_user_id])  # Shape: [1]\n",
    "    movie_tensor = torch.tensor([encoded_movie_id])  # Shape: [1]\n",
    "    bert_embedding_tensor = bert_embedding.unsqueeze(0)  # Shape: [1, 772]\n",
    "\n",
    "    # Predict rating\n",
    "    with torch.no_grad():\n",
    "        predicted_rating = model(user_tensor, movie_tensor, bert_embedding_tensor).item()\n",
    "\n",
    "    print(f\"Predicted rating for '{movie_name}' (Movie ID {raw_movie_id}): {predicted_rating}\")\n"
   ]
  },
  {
   "cell_type": "code",
   "execution_count": 40,
   "metadata": {},
   "outputs": [],
   "source": [
    "from tqdm.auto import tqdm\n",
    "\n",
    "def predict_movie(model, user_id, top_n=3):\n",
    "    \"\"\"\n",
    "    Predict top N movie recommendations for a given user using a PyTorch model, incorporating BERT embeddings.\n",
    "\n",
    "    Parameters:\n",
    "    - model: Trained PyTorch model for recommendation.\n",
    "    - user_id: User ID for which recommendations are to be made.\n",
    "    - top_n: Number of top recommendations to return.\n",
    "    \"\"\"\n",
    "    model.eval()\n",
    "\n",
    "    # Encode the user ID\n",
    "    encoded_user_id = user_encoder.transform([str(user_id)])[0]\n",
    "    user_tensor = torch.tensor([encoded_user_id])\n",
    "\n",
    "    # Compute scores for all movies\n",
    "    scores = []\n",
    "    for index, movie_row in tqdm(expanded_df.iterrows(), total=expanded_df.shape[0], desc=\"Predicting movies\"):\n",
    "        raw_movie_id = movie_row['movieId']\n",
    "        encoded_movie_id = movie_encoder.transform([raw_movie_id])[0]\n",
    "        movie_tensor = torch.tensor([encoded_movie_id])\n",
    "        \n",
    "        # Extract BERT embeddings for the movie\n",
    "        bert_embedding = torch.tensor([movie_row[col] for col in expanded_df.columns if col.startswith('embedding')]).float().unsqueeze(0)\n",
    "\n",
    "        with torch.no_grad():\n",
    "            score = model(user_tensor, movie_tensor, bert_embedding).item()\n",
    "        scores.append((movie_row['original_title'], score))\n",
    "\n",
    "    # Sort movies based on scores and pick top_n\n",
    "    # top_movies = sorted(scores, key=lambda x: x[1], reverse=True)[:top_n]\n",
    "\n",
    "    sorted_movies = sorted(scores, key=lambda x: x[1], reverse=True)\n",
    "    top_movies = []\n",
    "    for movie_title, score in sorted_movies:\n",
    "        if movie_title not in top_movies:\n",
    "            top_movies.append((movie_title, score))\n",
    "        if len(top_movies) == top_n:\n",
    "            break\n",
    "        \n",
    "    print(f'Top {top_n} recommendations for user {user_id}:\\n')\n",
    "    for rank, (movie_title, _) in enumerate(top_movies, start=1):\n",
    "        print(f'{rank}. {movie_title}')\n",
    "        \n",
    "    return top_movies\n"
   ]
  },
  {
   "cell_type": "code",
   "execution_count": 41,
   "metadata": {},
   "outputs": [],
   "source": [
    "def get_movie_metadata(top_movie_titles):\n",
    "    # Create DataFrame from the recommended titles\n",
    "    pred_movies = pd.DataFrame({'original_title': top_movie_titles})\n",
    "\n",
    "    # Merge with the ratings_df to get full metadata\n",
    "    # Assuming ratings_df is your DataFrame containing movie metadata\n",
    "    pred_df = pred_movies.merge(combined_df[['original_title', 'genres', 'overview']], on='original_title', how='left')\n",
    "    pred_df = pred_df[~pred_df['original_title'].duplicated()]\n",
    "    pred_df.reset_index(drop=True, inplace=True)\n",
    "    pred_df.index = np.arange(1, len(pred_df) + 1)\n",
    "\n",
    "    return pred_df"
   ]
  },
  {
   "cell_type": "markdown",
   "metadata": {},
   "source": [
    "### 3.1. Model - 1 Baseline Model"
   ]
  },
  {
   "cell_type": "markdown",
   "metadata": {},
   "source": [
    "- No Dropout\n",
    "- No Regularization\n",
    "- Random Weight Initialization\n",
    "- SDG Optimizer learn rate = 0.001\n"
   ]
  },
  {
   "cell_type": "code",
   "execution_count": 42,
   "metadata": {},
   "outputs": [],
   "source": [
    "class MovieModel(nn.Module):\n",
    "    def __init__(self, embedding_dim, num_users, num_movies, bert_embedding_dim):\n",
    "        super(MovieModel, self).__init__()\n",
    "        self.user_embedding = nn.Embedding(num_users, embedding_dim)\n",
    "        self.movie_embedding = nn.Embedding(num_movies, embedding_dim)\n",
    "        self.bert_embedding = nn.Linear(bert_embedding_dim, embedding_dim)  # Linear layer to map BERT embeddings to the same dimension as user and movie embeddings\n",
    "        self.fc = nn.Sequential(\n",
    "            nn.Linear(embedding_dim * 3, 256),  # Updated input size to account for BERT embeddings\n",
    "            nn.ReLU(),\n",
    "            nn.Linear(256, 128),\n",
    "            nn.ReLU(),\n",
    "            nn.Linear(128, 1)\n",
    "        )\n",
    "\n",
    "    def forward(self, user_ids, movie_ids, bert_embeddings):\n",
    "        user_embeds = self.user_embedding(user_ids)\n",
    "        movie_embeds = self.movie_embedding(movie_ids)\n",
    "        bert_embeds = self.bert_embedding(bert_embeddings)  # Apply linear layer to BERT embeddings\n",
    "        x = torch.cat([user_embeds, movie_embeds, bert_embeds], dim=1)  # Concatenate all embeddings\n",
    "        x = self.fc(x)\n",
    "        return x\n"
   ]
  },
  {
   "cell_type": "markdown",
   "metadata": {},
   "source": [
    "### 2.7. Defining Optimizers, Loss Functions and Instantiating the model"
   ]
  },
  {
   "cell_type": "code",
   "execution_count": 43,
   "metadata": {},
   "outputs": [],
   "source": [
    "# Initialize the model\n",
    "embedding_dim = 64  # You can adjust this as needed\n",
    "num_users = len(user_encoder.classes_)\n",
    "num_movies = len(movie_encoder.classes_)\n",
    "model = MovieModel(embedding_dim, num_users, num_movies, 772)\n",
    "\n",
    "# Define loss function and optimizer\n",
    "criterion = nn.MSELoss()\n",
    "optimizer = optim.SGD(model.parameters(), lr=0.001)"
   ]
  },
  {
   "cell_type": "code",
   "execution_count": 44,
   "metadata": {},
   "outputs": [
    {
     "name": "stdout",
     "output_type": "stream",
     "text": [
      "Epoch [1/50] - Train Loss: 2.101669445535854 - Train RMSE: 1.4497135877609253 - Validation Loss: 1.177703857421875 - Validation RMSE: 1.0852206945419312\n",
      "Epoch [2/50] - Train Loss: 1.1092895245865773 - Train RMSE: 1.0532281398773193 - Validation Loss: 1.1285912429585176 - Validation RMSE: 1.0623518228530884\n",
      "Epoch [3/50] - Train Loss: 1.0737668224855472 - Train RMSE: 1.0362272262573242 - Validation Loss: 1.1038891024449293 - Validation RMSE: 1.050661325454712\n",
      "Epoch [4/50] - Train Loss: 1.0528549508828866 - Train RMSE: 1.0260871648788452 - Validation Loss: 1.0922409401220434 - Validation RMSE: 1.0451033115386963\n",
      "Epoch [5/50] - Train Loss: 1.0376620824497782 - Train RMSE: 1.0186569690704346 - Validation Loss: 1.0799614471547745 - Validation RMSE: 1.0392118692398071\n",
      "Epoch [6/50] - Train Loss: 1.0258766506847583 - Train RMSE: 1.0128556489944458 - Validation Loss: 1.0724403051769031 - Validation RMSE: 1.035586953163147\n",
      "Epoch [7/50] - Train Loss: 1.0158184813825708 - Train RMSE: 1.0078781843185425 - Validation Loss: 1.0662654655821182 - Validation RMSE: 1.0326013565063477\n",
      "Epoch [8/50] - Train Loss: 1.0056470385507534 - Train RMSE: 1.002819538116455 - Validation Loss: 1.0595978042658638 - Validation RMSE: 1.0293676853179932\n",
      "Epoch [9/50] - Train Loss: 0.995862462999005 - Train RMSE: 0.9979290962219238 - Validation Loss: 1.0528786953757792 - Validation RMSE: 1.0260988473892212\n",
      "Epoch [10/50] - Train Loss: 0.9877137799110067 - Train RMSE: 0.9938378930091858 - Validation Loss: 1.0480123022023369 - Validation RMSE: 1.0237246751785278\n",
      "Epoch [11/50] - Train Loss: 0.9792698983495173 - Train RMSE: 0.9895806908607483 - Validation Loss: 1.0428280707667856 - Validation RMSE: 1.021189570426941\n",
      "Epoch [12/50] - Train Loss: 0.9710658406348605 - Train RMSE: 0.9854267239570618 - Validation Loss: 1.0385685124818016 - Validation RMSE: 1.019101858139038\n",
      "Epoch [13/50] - Train Loss: 0.9641762160156903 - Train RMSE: 0.9819247722625732 - Validation Loss: 1.0345184206962585 - Validation RMSE: 1.0171128511428833\n",
      "Epoch [14/50] - Train Loss: 0.9556402481700245 - Train RMSE: 0.9775685667991638 - Validation Loss: 1.0298732869765337 - Validation RMSE: 1.0148266553878784\n",
      "Epoch [15/50] - Train Loss: 0.9476548533788637 - Train RMSE: 0.9734756350517273 - Validation Loss: 1.0260305176762974 - Validation RMSE: 1.0129317045211792\n",
      "Epoch [16/50] - Train Loss: 0.9403602469124293 - Train RMSE: 0.9697217345237732 - Validation Loss: 1.0206233578569748 - Validation RMSE: 1.0102590322494507\n",
      "Epoch [17/50] - Train Loss: 0.9335246839021382 - Train RMSE: 0.9661908149719238 - Validation Loss: 1.0162893148029553 - Validation RMSE: 1.008111834526062\n",
      "Epoch [18/50] - Train Loss: 0.9265555460005999 - Train RMSE: 0.9625775814056396 - Validation Loss: 1.0124015930820913 - Validation RMSE: 1.0061817169189453\n",
      "Epoch [19/50] - Train Loss: 0.9184634290439518 - Train RMSE: 0.9583649635314941 - Validation Loss: 1.008556174881318 - Validation RMSE: 1.004269003868103\n",
      "Epoch [20/50] - Train Loss: 0.911089136853422 - Train RMSE: 0.9545099139213562 - Validation Loss: 1.007098336430157 - Validation RMSE: 1.0035429000854492\n",
      "Epoch [21/50] - Train Loss: 0.9045314178066818 - Train RMSE: 0.9510685801506042 - Validation Loss: 1.0017711046864004 - Validation RMSE: 1.0008851289749146\n",
      "Epoch [22/50] - Train Loss: 0.8985003540782552 - Train RMSE: 0.9478926062583923 - Validation Loss: 0.9988627258469077 - Validation RMSE: 0.9994311928749084\n",
      "Epoch [23/50] - Train Loss: 0.8912884785646671 - Train RMSE: 0.9440807700157166 - Validation Loss: 0.9965340004247778 - Validation RMSE: 0.9982655048370361\n",
      "Epoch [24/50] - Train Loss: 0.8844809279728093 - Train RMSE: 0.9404684901237488 - Validation Loss: 0.993818544289645 - Validation RMSE: 0.9969044923782349\n",
      "Epoch [25/50] - Train Loss: 0.878893026297814 - Train RMSE: 0.9374929666519165 - Validation Loss: 0.9920873186167549 - Validation RMSE: 0.9960358142852783\n",
      "Epoch [26/50] - Train Loss: 0.8715211042742196 - Train RMSE: 0.9335529804229736 - Validation Loss: 0.989449637777665 - Validation RMSE: 0.9947108030319214\n",
      "Epoch [27/50] - Train Loss: 0.8649570169907651 - Train RMSE: 0.9300306439399719 - Validation Loss: 0.9877506564645206 - Validation RMSE: 0.9938564300537109\n",
      "Epoch [28/50] - Train Loss: 0.8591249256737923 - Train RMSE: 0.9268898963928223 - Validation Loss: 0.9844242018811843 - Validation RMSE: 0.9921815395355225\n",
      "Epoch [29/50] - Train Loss: 0.8532408767036701 - Train RMSE: 0.9237103462219238 - Validation Loss: 0.9819815702298108 - Validation RMSE: 0.990949809551239\n",
      "Epoch [30/50] - Train Loss: 0.8470419713933217 - Train RMSE: 0.9203488230705261 - Validation Loss: 0.9814657305969912 - Validation RMSE: 0.9906895160675049\n",
      "Epoch [31/50] - Train Loss: 0.8413040181621909 - Train RMSE: 0.917226254940033 - Validation Loss: 0.9803876859300277 - Validation RMSE: 0.9901452660560608\n",
      "Epoch [32/50] - Train Loss: 0.8347744124598409 - Train RMSE: 0.913659930229187 - Validation Loss: 0.9783136108342338 - Validation RMSE: 0.9890973567962646\n",
      "Epoch [33/50] - Train Loss: 0.8295370489358902 - Train RMSE: 0.9107892513275146 - Validation Loss: 0.9779264611356399 - Validation RMSE: 0.9889016151428223\n",
      "Epoch [34/50] - Train Loss: 0.8238996811407177 - Train RMSE: 0.9076892137527466 - Validation Loss: 0.9758648013367373 - Validation RMSE: 0.9878587126731873\n",
      "Epoch [35/50] - Train Loss: 0.8182793848804737 - Train RMSE: 0.904587984085083 - Validation Loss: 0.9780891695443321 - Validation RMSE: 0.9889839291572571\n",
      "Epoch [36/50] - Train Loss: 0.8125887092104868 - Train RMSE: 0.9014370441436768 - Validation Loss: 0.9761623336988337 - Validation RMSE: 0.9880092740058899\n",
      "Epoch [37/50] - Train Loss: 0.8076337089173888 - Train RMSE: 0.8986844420433044 - Validation Loss: 0.9743181326810051 - Validation RMSE: 0.9870755672454834\n",
      "Epoch [38/50] - Train Loss: 0.8031259717321709 - Train RMSE: 0.8961729407310486 - Validation Loss: 0.9748932859476875 - Validation RMSE: 0.9873668551445007\n",
      "Epoch [39/50] - Train Loss: 0.7975044073046822 - Train RMSE: 0.8930310606956482 - Validation Loss: 0.973200277370565 - Validation RMSE: 0.9865091443061829\n",
      "Epoch [40/50] - Train Loss: 0.7928540748298952 - Train RMSE: 0.8904235363006592 - Validation Loss: 0.9764434747836169 - Validation RMSE: 0.9881515502929688\n",
      "Epoch [41/50] - Train Loss: 0.7875588067660206 - Train RMSE: 0.8874450922012329 - Validation Loss: 0.9738539720282835 - Validation RMSE: 0.9868403673171997\n",
      "Epoch [42/50] - Train Loss: 0.7824777432864434 - Train RMSE: 0.8845776915550232 - Validation Loss: 0.9737924372448641 - Validation RMSE: 0.9868091940879822\n",
      "Epoch [43/50] - Train Loss: 0.7781313485220859 - Train RMSE: 0.8821175694465637 - Validation Loss: 0.9724694245001849 - Validation RMSE: 0.986138641834259\n",
      "Epoch [44/50] - Train Loss: 0.7732599093333671 - Train RMSE: 0.8793519735336304 - Validation Loss: 0.9751931306193856 - Validation RMSE: 0.9875186681747437\n",
      "Epoch [45/50] - Train Loss: 0.7682358036798081 - Train RMSE: 0.876490592956543 - Validation Loss: 0.973836362361908 - Validation RMSE: 0.9868314862251282\n",
      "Epoch [46/50] - Train Loss: 0.7646713334282762 - Train RMSE: 0.8744548559188843 - Validation Loss: 0.9748745665830725 - Validation RMSE: 0.9873573780059814\n",
      "Epoch [47/50] - Train Loss: 0.7594493525102735 - Train RMSE: 0.8714638948440552 - Validation Loss: 0.9739776429008035 - Validation RMSE: 0.9869030714035034\n",
      "Epoch [48/50] - Train Loss: 0.7549263724665108 - Train RMSE: 0.8688650131225586 - Validation Loss: 0.9778625421664294 - Validation RMSE: 0.988869309425354\n",
      "Epoch [49/50] - Train Loss: 0.7505901057861353 - Train RMSE: 0.8663660287857056 - Validation Loss: 0.9767936485655168 - Validation RMSE: 0.9883286952972412\n",
      "Epoch [50/50] - Train Loss: 0.7457300928470335 - Train RMSE: 0.8635566830635071 - Validation Loss: 0.9791238816345439 - Validation RMSE: 0.9895069003105164\n",
      "Training complete.\n"
     ]
    }
   ],
   "source": [
    "train_losses, val_losses, train_rmse_values, val_rmse_values = train_model(model, train_loader, val_loader, optimizer, criterion, num_epochs=50)"
   ]
  },
  {
   "cell_type": "code",
   "execution_count": 45,
   "metadata": {},
   "outputs": [
    {
     "data": {
      "image/png": "[encoded data removed]",
      "text/plain": [
       "<Figure size 600x600 with 1 Axes>"
      ]
     },
     "metadata": {},
     "output_type": "display_data"
    },
    {
     "data": {
      "image/png": "[encoded data removed]",
      "text/plain": [
       "<Figure size 600x600 with 1 Axes>"
      ]
     },
     "metadata": {},
     "output_type": "display_data"
    }
   ],
   "source": [
    "plot_training_results(train_losses, val_losses, train_rmse_values, val_rmse_values, \"Model - I\")"
   ]
  },
  {
   "cell_type": "code",
   "execution_count": 46,
   "metadata": {},
   "outputs": [
    {
     "ename": "ValueError",
     "evalue": "y contains previously unseen labels: [686]",
     "output_type": "error",
     "traceback": [
      "\u001b[0;31m---------------------------------------------------------------------------\u001b[0m",
      "\u001b[0;31mValueError\u001b[0m                                Traceback (most recent call last)",
      "\u001b[1;32m/Users/sk/Cine-Match/Notebooks/Hybrid_Recommender.ipynb Cell 78\u001b[0m line \u001b[0;36m1\n\u001b[0;32m----> <a href='vscode-notebook-cell:/Users/sk/Cine-Match/Notebooks/Hybrid_Recommender.ipynb#Y254sZmlsZQ%3D%3D?line=0'>1</a>\u001b[0m predict_rating(model, \u001b[39m123\u001b[39;49m, \u001b[39m'\u001b[39;49m\u001b[39mRocky III\u001b[39;49m\u001b[39m'\u001b[39;49m)\n",
      "\u001b[1;32m/Users/sk/Cine-Match/Notebooks/Hybrid_Recommender.ipynb Cell 78\u001b[0m line \u001b[0;36m2\n\u001b[1;32m     <a href='vscode-notebook-cell:/Users/sk/Cine-Match/Notebooks/Hybrid_Recommender.ipynb#Y254sZmlsZQ%3D%3D?line=19'>20</a>\u001b[0m movie_row \u001b[39m=\u001b[39m expanded_df[expanded_df[\u001b[39m'\u001b[39m\u001b[39moriginal_title\u001b[39m\u001b[39m'\u001b[39m] \u001b[39m==\u001b[39m movie_name]\u001b[39m.\u001b[39miloc[\u001b[39m0\u001b[39m]\n\u001b[1;32m     <a href='vscode-notebook-cell:/Users/sk/Cine-Match/Notebooks/Hybrid_Recommender.ipynb#Y254sZmlsZQ%3D%3D?line=20'>21</a>\u001b[0m raw_movie_id \u001b[39m=\u001b[39m movie_row[\u001b[39m'\u001b[39m\u001b[39mmovieId\u001b[39m\u001b[39m'\u001b[39m]\n\u001b[0;32m---> <a href='vscode-notebook-cell:/Users/sk/Cine-Match/Notebooks/Hybrid_Recommender.ipynb#Y254sZmlsZQ%3D%3D?line=21'>22</a>\u001b[0m encoded_movie_id \u001b[39m=\u001b[39m movie_encoder\u001b[39m.\u001b[39;49mtransform([raw_movie_id])[\u001b[39m0\u001b[39m]\n\u001b[1;32m     <a href='vscode-notebook-cell:/Users/sk/Cine-Match/Notebooks/Hybrid_Recommender.ipynb#Y254sZmlsZQ%3D%3D?line=23'>24</a>\u001b[0m \u001b[39m# Extract BERT embeddings for the movie from expanded_df\u001b[39;00m\n\u001b[1;32m     <a href='vscode-notebook-cell:/Users/sk/Cine-Match/Notebooks/Hybrid_Recommender.ipynb#Y254sZmlsZQ%3D%3D?line=24'>25</a>\u001b[0m bert_embedding \u001b[39m=\u001b[39m torch\u001b[39m.\u001b[39mtensor([movie_row[col] \u001b[39mfor\u001b[39;00m col \u001b[39min\u001b[39;00m expanded_df\u001b[39m.\u001b[39mcolumns \u001b[39mif\u001b[39;00m col\u001b[39m.\u001b[39mstartswith(\u001b[39m'\u001b[39m\u001b[39membedding\u001b[39m\u001b[39m'\u001b[39m)])\u001b[39m.\u001b[39mfloat()\n",
      "File \u001b[0;32m~/miniforge3/envs/ee541/lib/python3.11/site-packages/sklearn/preprocessing/_label.py:137\u001b[0m, in \u001b[0;36mLabelEncoder.transform\u001b[0;34m(self, y)\u001b[0m\n\u001b[1;32m    134\u001b[0m \u001b[39mif\u001b[39;00m _num_samples(y) \u001b[39m==\u001b[39m \u001b[39m0\u001b[39m:\n\u001b[1;32m    135\u001b[0m     \u001b[39mreturn\u001b[39;00m np\u001b[39m.\u001b[39marray([])\n\u001b[0;32m--> 137\u001b[0m \u001b[39mreturn\u001b[39;00m _encode(y, uniques\u001b[39m=\u001b[39;49m\u001b[39mself\u001b[39;49m\u001b[39m.\u001b[39;49mclasses_)\n",
      "File \u001b[0;32m~/miniforge3/envs/ee541/lib/python3.11/site-packages/sklearn/utils/_encode.py:232\u001b[0m, in \u001b[0;36m_encode\u001b[0;34m(values, uniques, check_unknown)\u001b[0m\n\u001b[1;32m    230\u001b[0m     diff \u001b[39m=\u001b[39m _check_unknown(values, uniques)\n\u001b[1;32m    231\u001b[0m     \u001b[39mif\u001b[39;00m diff:\n\u001b[0;32m--> 232\u001b[0m         \u001b[39mraise\u001b[39;00m \u001b[39mValueError\u001b[39;00m(\u001b[39mf\u001b[39m\u001b[39m\"\u001b[39m\u001b[39my contains previously unseen labels: \u001b[39m\u001b[39m{\u001b[39;00m\u001b[39mstr\u001b[39m(diff)\u001b[39m}\u001b[39;00m\u001b[39m\"\u001b[39m)\n\u001b[1;32m    233\u001b[0m \u001b[39mreturn\u001b[39;00m np\u001b[39m.\u001b[39msearchsorted(uniques, values)\n",
      "\u001b[0;31mValueError\u001b[0m: y contains previously unseen labels: [686]"
     ]
    }
   ],
   "source": [
    "predict_rating(model, 123, 'Rocky III')"
   ]
  },
  {
   "cell_type": "code",
   "execution_count": null,
   "metadata": {},
   "outputs": [],
   "source": [
    "top_movies = predict_movie(model, 123, top_n=10)"
   ]
  },
  {
   "cell_type": "code",
   "execution_count": null,
   "metadata": {},
   "outputs": [],
   "source": [
    "metadata_df = get_movie_metadata(top_movies)"
   ]
  },
  {
   "cell_type": "code",
   "execution_count": null,
   "metadata": {},
   "outputs": [],
   "source": [
    "combined_df[combined_df[\"userId\"] == 123]"
   ]
  }
 ],
 "metadata": {
  "kernelspec": {
   "display_name": "ee541",
   "language": "python",
   "name": "python3"
  },
  "language_info": {
   "codemirror_mode": {
    "name": "ipython",
    "version": 3
   },
   "file_extension": ".py",
   "mimetype": "text/x-python",
   "name": "python",
   "nbconvert_exporter": "python",
   "pygments_lexer": "ipython3",
   "version": "3.11.6"
  }
 },
 "nbformat": 4,
 "nbformat_minor": 2
}
