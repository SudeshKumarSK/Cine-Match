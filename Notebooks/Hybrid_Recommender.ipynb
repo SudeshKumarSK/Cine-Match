{
 "cells": [
  {
   "cell_type": "markdown",
   "metadata": {},
   "source": [
    "### 🎥 Cine-Match - Movie Recommendation System 📹\n"
   ]
  },
  {
   "cell_type": "markdown",
   "metadata": {},
   "source": [
    "### File: Hybrid_Collaborative_Recommender.ipynb - CineMatch\n",
    "\n",
    "- Contributor: Sudesh Kumar Santhosh Kumar\n",
    "- Email: santhosh@usc.edu\n",
    "- GitHub: [Sudesh Kumar](https://github.com/SudeshKumarSanthosh)\n",
    "- Date: 6th December, 2023\n",
    "- Course: EE-541 Introduction to Deep Learning\n",
    "- Team:\n",
    "  - Sudesh Kumar Santhosh Kumar\n",
    "  - Ori Shirin\n",
    "\n",
    "### Description:\n",
    "\n",
    "In this innovative Python notebook `Hybrid_Collaborative_Recommender.ipynb`, we introduce the next evolution of the CineMatch movie recommendation system. This advanced system is at the forefront of recommendation technology, embracing a hybrid collaborative approach that synergizes both `implicit` and `explicit` user signals.\n",
    "\n",
    "The core of this notebook is the development of a sophisticated recommendation engine that not only considers users' explicit feedback, such as `ratings and reviews`, but also incorporates implicit signals, like viewing history and interaction patterns. By blending these two dimensions, CineMatch aims to achieve a more nuanced and accurate understanding of user preferences.\n",
    "\n",
    "\n",
    "`Movie Metadata Dataset (movies_metadata.csv):`\n",
    "\n",
    "This dataset typically contains detailed information about movies, such as genres, directors, cast, plot summaries, and more.\n",
    "While it doesn't directly provide implicit feedback, the information in this dataset can be used to infer user preferences based on their interactions with different types of movies. For instance, if a user frequently watches movies of a certain genre, this behavior can be considered implicit feedback indicating a preference for that genre.\n",
    "Implicit Feedback in Recommendation Systems:\n",
    "\n",
    "Examples: Viewing history, time spent watching a movie, browsing behavior, and interaction patterns (like pausing, rewinding, or fast-forwarding) are typical examples of implicit feedback.\n",
    "\n",
    "\n",
    "`Explicit Feedback (ratings.csv):`\n",
    "\n",
    "- This dataset contains direct user feedback, such as ratings given to movies.\n",
    "- Explicit feedback is clear and direct, representing the users' stated preferences.\n",
    "\n",
    "\n"
   ]
  },
  {
   "cell_type": "markdown",
   "metadata": {},
   "source": [
    "## Part 1 - Installation and Dataset Loading\n",
    "\n",
    "---"
   ]
  },
  {
   "cell_type": "markdown",
   "metadata": {},
   "source": [
    "### S1. Setting up the notebook\n"
   ]
  },
  {
   "cell_type": "markdown",
   "metadata": {},
   "source": [
    "### Uncomment the following lines to run the script in Google Colab."
   ]
  },
  {
   "cell_type": "code",
   "execution_count": 1,
   "metadata": {},
   "outputs": [],
   "source": [
    "# !pip install transformers"
   ]
  },
  {
   "cell_type": "code",
   "execution_count": 2,
   "metadata": {},
   "outputs": [],
   "source": [
    "# !pip install torch scikit-learn"
   ]
  },
  {
   "cell_type": "code",
   "execution_count": 3,
   "metadata": {},
   "outputs": [],
   "source": [
    "# !pip install sentence_transformers"
   ]
  },
  {
   "cell_type": "markdown",
   "metadata": {},
   "source": [
    "### 1.1. Importing all necessary packages"
   ]
  },
  {
   "cell_type": "code",
   "execution_count": 54,
   "metadata": {},
   "outputs": [],
   "source": [
    "import os\n",
    "from datetime import datetime\n",
    "import warnings \n",
    "\n",
    "import pandas as pd\n",
    "import numpy as np\n",
    "import seaborn as sns\n",
    "import matplotlib.pyplot as plt\n",
    "from IPython.display import Image\n",
    "\n",
    "\n",
    "from sklearn.preprocessing import MinMaxScaler\n",
    "from sklearn.preprocessing import LabelEncoder\n",
    "\n",
    "\n",
    "from sentence_transformers import SentenceTransformer\n",
    "from transformers import AutoTokenizer, AutoModelForSequenceClassification\n",
    "\n",
    "import torch\n",
    "import torch.nn as nn\n",
    "from torch.utils.data import Dataset, DataLoader\n",
    "import torch.optim as optim\n",
    "import torch.nn.functional as F\n",
    "import torch.nn.init as init\n",
    "from sklearn.metrics import mean_squared_error\n",
    "\n",
    "\n",
    "\n",
    "# Uncomment while using Google Colab to mount your drive to this notebook.\n",
    "# from google.colab import drive\n",
    "# drive.mount('/content/drive')"
   ]
  },
  {
   "cell_type": "markdown",
   "metadata": {},
   "source": [
    "### 1.2. Defining Directories and Helper Functions"
   ]
  },
  {
   "cell_type": "code",
   "execution_count": 5,
   "metadata": {},
   "outputs": [
    {
     "name": "stdout",
     "output_type": "stream",
     "text": [
      "                        No GPU available, using the CPU!                        \n"
     ]
    }
   ],
   "source": [
    "# Data Directory\n",
    "data_dir = \"../Input/Data/\"\n",
    "cleansed_data_dir = \"../Input/CleansedData/\"\n",
    "embeddings_dir = \"../Input/Embeddings/\"\n",
    "cosine_matrix_dir = \"../Input/Cosine_Matrix/\"\n",
    "\n",
    "\n",
    "# Data Directory - When using google colaboratory.\n",
    "# drive/My Drive/ColabDrive/MovieData/movies_metadata.csv\n",
    "\n",
    "# data_dir = \"drive/MyDrive/CineMatch/Input/Data/\"\n",
    "# cleansed_data_dir = \"drive/MyDrive/CineMatch/Input/CleansedData/\"\n",
    "# embeddings_dir = \"drive/MyDrive/CineMatch/Input/Embeddings\"\n",
    "# cosine_matrix_dir = \"drive/MyDrive/CineMatch/Input/CosineMatrix\"\n",
    "\n",
    "\n",
    "\n",
    "if not os.path.exists(embeddings_dir):\n",
    "  os.makedirs(embeddings_dir)\n",
    "\n",
    "if not os.path.exists(data_dir):\n",
    "  os.makedirs(data_dir)\n",
    "\n",
    "if not os.path.exists(cleansed_data_dir):\n",
    "  os.makedirs(cleansed_data_dir)\n",
    "\n",
    "if not os.path.exists(cosine_matrix_dir):\n",
    "  os.makedirs(cosine_matrix_dir)\n",
    "\n",
    "if torch.cuda.is_available():\n",
    "    device = torch.device((\"cuda\"))\n",
    "    print(\"{:^80}\".format(f\"There are {torch.cuda.device_count()} available GPU's\"))\n",
    "    print(\"{:^80}\".format(f\"We will use the GPU: {torch.cuda.get_device_name(0)}\"))\n",
    "\n",
    "else:\n",
    "    print(\"{:^80}\".format(\"No GPU available, using the CPU!\"))\n",
    "    device = torch.device(\"cpu\")\n",
    "\n",
    "model_name='bert-base-uncased'\n",
    "# Load the tokenizer for the specified model\n",
    "tokenizer = AutoTokenizer.from_pretrained(model_name)\n",
    "\n",
    "scaler = MinMaxScaler()\n",
    "user_encoder = LabelEncoder()\n",
    "movie_encoder = LabelEncoder()\n"
   ]
  },
  {
   "cell_type": "code",
   "execution_count": 6,
   "metadata": {},
   "outputs": [],
   "source": [
    "def load_dataset(directory, filename):\n",
    "    \"\"\"\n",
    "    Loads a dataset from a CSV file into a Pandas DataFrame.\n",
    "\n",
    "    Parameters:\n",
    "    - file_path (str): The complete file path of the CSV file to be loaded.\n",
    "\n",
    "    Returns:\n",
    "    - pandas.DataFrame: A DataFrame containing the data from the CSV file.\n",
    "\n",
    "    This function will read the CSV file located at 'file_path' and return it as a DataFrame.\n",
    "    It assumes that the first row of the CSV file contains the headers.\n",
    "    \"\"\"\n",
    "    try:\n",
    "        file_path = os.path.join(directory, filename)\n",
    "        # Loading the dataset\n",
    "        df = pd.read_csv(file_path)\n",
    "        print(f\"Dataset loaded successfully from {file_path}\")\n",
    "        return df\n",
    "    except Exception as e:\n",
    "        print(f\"An error occurred while loading the dataset: {e}\")\n",
    "        return None\n",
    "\n",
    "\n",
    "def analyze_dataframe(df):\n",
    "    # Identifying categorical and numerical features\n",
    "    categorical_features = [col for col in df.columns if df[col].dtype == \"object\"]\n",
    "    numerical_features = [col for col in df.columns if df[col].dtype == \"float64\"]\n",
    "\n",
    "    # Printing general information about the DataFrame\n",
    "    print(f\"Shape of the Data: {df.shape}\")\n",
    "    print(f\"Total number of Data-Points in the Data, N: {df.shape[0]}\")\n",
    "    print(f\"Total number of dimensions in the Data, D: {df.shape[1]}\")\n",
    "    print()\n",
    "\n",
    "    # Printing details about features\n",
    "    print(f\"Categorical Features: {categorical_features}\")\n",
    "    print(f\"Numerical Features: {numerical_features}\")\n",
    "    print(f\"Total number of Categorical Features: {len(categorical_features)}\")\n",
    "    print(f\"Total number of Numerical Features: {len(numerical_features)}\")\n",
    "\n",
    "\n",
    "def save_dataframe(df, directory, filename=\"preprocessed_data.csv\"):\n",
    "    \"\"\"\n",
    "    Saves the given DataFrame to a CSV file in the specified directory.\n",
    "\n",
    "    Parameters:\n",
    "    - df (pandas.DataFrame): The DataFrame to be saved.\n",
    "    - directory (str): Path of the directory where the CSV file will be saved.\n",
    "    - filename (str, optional): Name of the CSV file. Defaults to 'preprocessed_data.csv'.\n",
    "\n",
    "    The function will create the directory if it does not exist. The DataFrame is saved\n",
    "    without the index.\n",
    "    \"\"\"\n",
    "    # Constructing the full file path\n",
    "    file_path = os.path.join(directory, filename)\n",
    "\n",
    "    # Creating the directory if it doesn't exist\n",
    "    if not os.path.exists(directory):\n",
    "        os.makedirs(directory)\n",
    "\n",
    "    # Saving the DataFrame as a CSV file\n",
    "    df.to_csv(file_path, index=False)\n",
    "    print(f\"DataFrame saved successfully to {file_path}\")"
   ]
  },
  {
   "cell_type": "code",
   "execution_count": 7,
   "metadata": {},
   "outputs": [],
   "source": [
    "def generate_embeddings(corpus, lang_model, file_name, embeddings_dir, batch_size=32, max_seq_len=128):\n",
    "    '''\n",
    "    Generate embeddings for the given corpus using a specified language model.\n",
    "\n",
    "    Parameters:\n",
    "        corpus (list): List of sentences to be embedded.\n",
    "        lang_model (str): Language model name or path to the pre-trained model.\n",
    "        file_name (str): Name of the file to save the generated embeddings.\n",
    "        max_seq_len (int): Maximum sequence length for the embeddings (default: 128).\n",
    "    '''\n",
    "\n",
    "    # Define the file path to save the generated embeddings\n",
    "    embeddings_file_path = f\"{embeddings_dir}/{file_name}.npz\"\n",
    "\n",
    "    # Create an instance of the SentenceTransformer\n",
    "    embedder = SentenceTransformer(lang_model, device=device)\n",
    "\n",
    "    # Update the max_seq_length if necessary\n",
    "    if max_seq_len != 128:\n",
    "        embedder.max_seq_length = max_seq_len\n",
    "\n",
    "    # Generate embeddings\n",
    "    corpus_embeddings = embedder.encode(corpus, batch_size=batch_size, show_progress_bar=True,\n",
    "                                        normalize_embeddings=True, convert_to_numpy=True)\n",
    "\n",
    "    # Save the embeddings\n",
    "    with open(embeddings_file_path, \"wb\") as emb_file:\n",
    "      np.save(emb_file, corpus_embeddings)\n",
    "\n",
    "    print(f\"Embeddings saved to {embeddings_file_path}\")\n",
    "\n",
    "\n",
    "def load_embeddings(directory, filename):\n",
    "    '''\n",
    "    Load BERT embeddings from a file.\n",
    "\n",
    "    Parameters:\n",
    "        input_file_path (str): File path from which the embeddings will be loaded.\n",
    "\n",
    "    Returns:\n",
    "        numpy.ndarray: Array containing the loaded embeddings.\n",
    "    '''\n",
    "    input_file_path = os.path.join(directory, filename)\n",
    "    corpus_embeddings = np.load(input_file_path)\n",
    "    return list(corpus_embeddings)"
   ]
  },
  {
   "cell_type": "code",
   "execution_count": 8,
   "metadata": {},
   "outputs": [],
   "source": [
    "def plot_training_results(train_losses, val_losses, train_rmse_values, val_rmse_values):\n",
    "    \"\"\"\n",
    "    Plots the training and validation losses and RMSE values.\n",
    "\n",
    "    Parameters:\n",
    "    - train_losses: List of training loss values.\n",
    "    - val_losses: List of validation loss values.\n",
    "    - train_rmse_values: List of training RMSE values.\n",
    "    - val_rmse_values: List of validation RMSE values.\n",
    "    \"\"\"\n",
    "\n",
    "    plt.figure(figsize=(12, 6))\n",
    "\n",
    "    # Plotting RMSE\n",
    "    plt.subplot(1, 2, 1)\n",
    "    plt.plot(train_rmse_values, label='Train RMSE')\n",
    "    plt.plot(val_rmse_values, label='Validation RMSE')\n",
    "    plt.title('Training and Validation RMSE')\n",
    "    plt.xlabel('Epochs')\n",
    "    plt.ylabel('RMSE')\n",
    "    plt.legend()\n",
    "\n",
    "    # Plotting Loss\n",
    "    plt.subplot(1, 2, 2)\n",
    "    plt.plot(train_losses, label='Train Loss')\n",
    "    plt.plot(val_losses, label='Validation Loss')\n",
    "    plt.title('Training and Validation Loss')\n",
    "    plt.xlabel('Epochs')\n",
    "    plt.ylabel('Loss')\n",
    "    plt.legend()\n",
    "\n",
    "    plt.tight_layout()\n",
    "    plt.show()"
   ]
  },
  {
   "cell_type": "markdown",
   "metadata": {},
   "source": [
    "### 1.3. Loading the Cleansed Movies Meta Dataset"
   ]
  },
  {
   "cell_type": "code",
   "execution_count": 9,
   "metadata": {},
   "outputs": [
    {
     "name": "stdout",
     "output_type": "stream",
     "text": [
      "Dataset loaded successfully from ../Input/CleansedData/Movies_Combined_Text.csv\n"
     ]
    }
   ],
   "source": [
    "movies = load_dataset(cleansed_data_dir, \"Movies_Combined_Text.csv\")"
   ]
  },
  {
   "cell_type": "markdown",
   "metadata": {},
   "source": [
    "### 1.4. Loading the Ratings Dataset"
   ]
  },
  {
   "cell_type": "code",
   "execution_count": 10,
   "metadata": {},
   "outputs": [],
   "source": [
    "warnings.filterwarnings('ignore')\n",
    "\n",
    "ratings_df = pd.read_csv(os.path.join(data_dir, 'ratings_small.csv'))\n",
    "\n",
    "pd.options.display.max_columns = 30\n",
    "pd.set_option('display.float_format', '{:,}'.format) #to display float with commas"
   ]
  },
  {
   "cell_type": "markdown",
   "metadata": {},
   "source": [
    "### 1.5. Missing Values Evaluation"
   ]
  },
  {
   "cell_type": "code",
   "execution_count": 11,
   "metadata": {},
   "outputs": [
    {
     "name": "stdout",
     "output_type": "stream",
     "text": [
      "Missing values in adult: 0\n",
      "Missing values in budget: 0\n",
      "Missing values in genres: 0\n",
      "Missing values in id: 0\n",
      "Missing values in original_language: 0\n",
      "Missing values in original_title: 0\n",
      "Missing values in overview: 0\n",
      "Missing values in popularity: 0\n",
      "Missing values in production_companies: 0\n",
      "Missing values in production_countries: 0\n",
      "Missing values in release_date: 0\n",
      "Missing values in revenue: 0\n",
      "Missing values in runtime: 0\n",
      "Missing values in spoken_languages: 0\n",
      "Missing values in vote_average: 0\n",
      "Missing values in vote_count: 0\n",
      "Missing values in keywords: 0\n",
      "Missing values in crew: 0\n",
      "Missing values in characters: 0\n",
      "Missing values in actors: 0\n",
      "Missing values in score: 0\n",
      "Missing values in combined_text: 0\n"
     ]
    }
   ],
   "source": [
    "for column in movies.columns:\n",
    "    missing_values = movies[column].isna().sum() or movies[column].isnull().sum()\n",
    "    print(f\"Missing values in {column}: {missing_values}\")"
   ]
  },
  {
   "cell_type": "code",
   "execution_count": 12,
   "metadata": {},
   "outputs": [
    {
     "name": "stdout",
     "output_type": "stream",
     "text": [
      "Missing values in userId: 0\n",
      "Missing values in movieId: 0\n",
      "Missing values in rating: 0\n",
      "Missing values in timestamp: 0\n"
     ]
    }
   ],
   "source": [
    "for column in ratings_df.columns:\n",
    "    missing_values = ratings_df[column].isna().sum() or ratings_df[column].isnull().sum()\n",
    "    print(f\"Missing values in {column}: {missing_values}\")"
   ]
  },
  {
   "cell_type": "markdown",
   "metadata": {},
   "source": [
    "### 1.6. Minor Data Analysis"
   ]
  },
  {
   "cell_type": "markdown",
   "metadata": {},
   "source": [
    "### 1.6.1 Dataset Overview - Cleansed Movies Dataset"
   ]
  },
  {
   "cell_type": "code",
   "execution_count": 13,
   "metadata": {},
   "outputs": [
    {
     "data": {
      "text/html": [
       "<div>\n",
       "<style scoped>\n",
       "    .dataframe tbody tr th:only-of-type {\n",
       "        vertical-align: middle;\n",
       "    }\n",
       "\n",
       "    .dataframe tbody tr th {\n",
       "        vertical-align: top;\n",
       "    }\n",
       "\n",
       "    .dataframe thead th {\n",
       "        text-align: right;\n",
       "    }\n",
       "</style>\n",
       "<table border=\"1\" class=\"dataframe\">\n",
       "  <thead>\n",
       "    <tr style=\"text-align: right;\">\n",
       "      <th></th>\n",
       "      <th>adult</th>\n",
       "      <th>budget</th>\n",
       "      <th>genres</th>\n",
       "      <th>id</th>\n",
       "      <th>original_language</th>\n",
       "      <th>original_title</th>\n",
       "      <th>overview</th>\n",
       "      <th>popularity</th>\n",
       "      <th>production_companies</th>\n",
       "      <th>production_countries</th>\n",
       "      <th>release_date</th>\n",
       "      <th>revenue</th>\n",
       "      <th>runtime</th>\n",
       "      <th>spoken_languages</th>\n",
       "      <th>vote_average</th>\n",
       "      <th>vote_count</th>\n",
       "      <th>keywords</th>\n",
       "      <th>crew</th>\n",
       "      <th>characters</th>\n",
       "      <th>actors</th>\n",
       "      <th>score</th>\n",
       "      <th>combined_text</th>\n",
       "    </tr>\n",
       "  </thead>\n",
       "  <tbody>\n",
       "    <tr>\n",
       "      <th>0</th>\n",
       "      <td>False</td>\n",
       "      <td>30,000,000.0</td>\n",
       "      <td>Animation, Comedy, Family</td>\n",
       "      <td>862</td>\n",
       "      <td>en</td>\n",
       "      <td>Toy Story</td>\n",
       "      <td>Led by Woody, Andy's toys live happily in his ...</td>\n",
       "      <td>21.946943</td>\n",
       "      <td>Pixar Animation Studios</td>\n",
       "      <td>United States of America</td>\n",
       "      <td>1995-10-30</td>\n",
       "      <td>373,554,033.0</td>\n",
       "      <td>81.0</td>\n",
       "      <td>English</td>\n",
       "      <td>7.7</td>\n",
       "      <td>5,415.0</td>\n",
       "      <td>jealousy, toy, boy, friendship, friends, rival...</td>\n",
       "      <td>John Lasseter, Joss Whedon, Andrew Stanton, Jo...</td>\n",
       "      <td>Woody (voice), Buzz Lightyear (voice), Mr. Pot...</td>\n",
       "      <td>Tom Hanks, Tim Allen, Don Rickles, Jim Varney,...</td>\n",
       "      <td>0.3485104936548663</td>\n",
       "      <td>Led by Woody, Andy's toys live happily in his ...</td>\n",
       "    </tr>\n",
       "    <tr>\n",
       "      <th>1</th>\n",
       "      <td>False</td>\n",
       "      <td>65,000,000.0</td>\n",
       "      <td>Adventure, Fantasy, Family</td>\n",
       "      <td>8844</td>\n",
       "      <td>en</td>\n",
       "      <td>Jumanji</td>\n",
       "      <td>When siblings Judy and Peter discover an encha...</td>\n",
       "      <td>17.015539</td>\n",
       "      <td>TriStar Pictures, Teitler Film, Interscope Com...</td>\n",
       "      <td>United States of America</td>\n",
       "      <td>1995-12-15</td>\n",
       "      <td>262,797,249.0</td>\n",
       "      <td>104.0</td>\n",
       "      <td>English, Français</td>\n",
       "      <td>6.9</td>\n",
       "      <td>2,413.0</td>\n",
       "      <td>board game, disappearance, based on children's...</td>\n",
       "      <td>Larry J. Franco, Jonathan Hensleigh, James Hor...</td>\n",
       "      <td>Alan Parrish, Samuel Alan Parrish / Van Pelt, ...</td>\n",
       "      <td>Robin Williams, Jonathan Hyde, Kirsten Dunst, ...</td>\n",
       "      <td>0.2911238699009509</td>\n",
       "      <td>When siblings Judy and Peter discover an encha...</td>\n",
       "    </tr>\n",
       "    <tr>\n",
       "      <th>2</th>\n",
       "      <td>False</td>\n",
       "      <td>0.0</td>\n",
       "      <td>Romance, Comedy</td>\n",
       "      <td>15602</td>\n",
       "      <td>en</td>\n",
       "      <td>Grumpier Old Men</td>\n",
       "      <td>A family wedding reignites the ancient feud be...</td>\n",
       "      <td>11.7129</td>\n",
       "      <td>Warner Bros., Lancaster Gate</td>\n",
       "      <td>United States of America</td>\n",
       "      <td>1995-12-22</td>\n",
       "      <td>0.0</td>\n",
       "      <td>101.0</td>\n",
       "      <td>English</td>\n",
       "      <td>6.5</td>\n",
       "      <td>92.0</td>\n",
       "      <td>fishing, best friend, duringcreditsstinger, ol...</td>\n",
       "      <td>Howard Deutch, Mark Steven Johnson, Mark Steve...</td>\n",
       "      <td>Max Goldman, John Gustafson, Ariel Gustafson, ...</td>\n",
       "      <td>Walter Matthau, Jack Lemmon, Ann-Margret, Soph...</td>\n",
       "      <td>0.2417713795206282</td>\n",
       "      <td>A family wedding reignites the ancient feud be...</td>\n",
       "    </tr>\n",
       "    <tr>\n",
       "      <th>3</th>\n",
       "      <td>False</td>\n",
       "      <td>16,000,000.0</td>\n",
       "      <td>Comedy, Drama, Romance</td>\n",
       "      <td>31357</td>\n",
       "      <td>en</td>\n",
       "      <td>Waiting to Exhale</td>\n",
       "      <td>Cheated on, mistreated and stepped on, the wom...</td>\n",
       "      <td>3.859495</td>\n",
       "      <td>Twentieth Century Fox Film Corporation</td>\n",
       "      <td>United States of America</td>\n",
       "      <td>1995-12-22</td>\n",
       "      <td>81,452,156.0</td>\n",
       "      <td>127.0</td>\n",
       "      <td>English</td>\n",
       "      <td>6.1</td>\n",
       "      <td>34.0</td>\n",
       "      <td>based on novel, interracial relationship, sing...</td>\n",
       "      <td>Forest Whitaker, Ronald Bass, Ronald Bass, Ezr...</td>\n",
       "      <td>Savannah 'Vannah' Jackson, Bernadine 'Bernie' ...</td>\n",
       "      <td>Whitney Houston, Angela Bassett, Loretta Devin...</td>\n",
       "      <td>0.2095986598024349</td>\n",
       "      <td>Cheated on, mistreated and stepped on, the wom...</td>\n",
       "    </tr>\n",
       "    <tr>\n",
       "      <th>4</th>\n",
       "      <td>False</td>\n",
       "      <td>0.0</td>\n",
       "      <td>Comedy</td>\n",
       "      <td>11862</td>\n",
       "      <td>en</td>\n",
       "      <td>Father of the Bride Part II</td>\n",
       "      <td>Just when George Banks has recovered from his ...</td>\n",
       "      <td>8.387519</td>\n",
       "      <td>Sandollar Productions, Touchstone Pictures</td>\n",
       "      <td>United States of America</td>\n",
       "      <td>1995-02-10</td>\n",
       "      <td>76,578,911.0</td>\n",
       "      <td>106.0</td>\n",
       "      <td>English</td>\n",
       "      <td>5.7</td>\n",
       "      <td>173.0</td>\n",
       "      <td>baby, midlife crisis, confidence, aging, daugh...</td>\n",
       "      <td>Alan Silvestri, Elliot Davis, Nancy Meyers, Na...</td>\n",
       "      <td>George Banks, Nina Banks, Franck Eggelhoffer, ...</td>\n",
       "      <td>Steve Martin, Diane Keaton, Martin Short, Kimb...</td>\n",
       "      <td>0.2053379316488746</td>\n",
       "      <td>Just when George Banks has recovered from his ...</td>\n",
       "    </tr>\n",
       "  </tbody>\n",
       "</table>\n",
       "</div>"
      ],
      "text/plain": [
       "   adult       budget                      genres     id original_language  \\\n",
       "0  False 30,000,000.0   Animation, Comedy, Family    862                en   \n",
       "1  False 65,000,000.0  Adventure, Fantasy, Family   8844                en   \n",
       "2  False          0.0             Romance, Comedy  15602                en   \n",
       "3  False 16,000,000.0      Comedy, Drama, Romance  31357                en   \n",
       "4  False          0.0                      Comedy  11862                en   \n",
       "\n",
       "                original_title  \\\n",
       "0                    Toy Story   \n",
       "1                      Jumanji   \n",
       "2             Grumpier Old Men   \n",
       "3            Waiting to Exhale   \n",
       "4  Father of the Bride Part II   \n",
       "\n",
       "                                            overview  popularity  \\\n",
       "0  Led by Woody, Andy's toys live happily in his ...   21.946943   \n",
       "1  When siblings Judy and Peter discover an encha...   17.015539   \n",
       "2  A family wedding reignites the ancient feud be...     11.7129   \n",
       "3  Cheated on, mistreated and stepped on, the wom...    3.859495   \n",
       "4  Just when George Banks has recovered from his ...    8.387519   \n",
       "\n",
       "                                production_companies  \\\n",
       "0                            Pixar Animation Studios   \n",
       "1  TriStar Pictures, Teitler Film, Interscope Com...   \n",
       "2                       Warner Bros., Lancaster Gate   \n",
       "3             Twentieth Century Fox Film Corporation   \n",
       "4         Sandollar Productions, Touchstone Pictures   \n",
       "\n",
       "       production_countries release_date       revenue  runtime  \\\n",
       "0  United States of America   1995-10-30 373,554,033.0     81.0   \n",
       "1  United States of America   1995-12-15 262,797,249.0    104.0   \n",
       "2  United States of America   1995-12-22           0.0    101.0   \n",
       "3  United States of America   1995-12-22  81,452,156.0    127.0   \n",
       "4  United States of America   1995-02-10  76,578,911.0    106.0   \n",
       "\n",
       "    spoken_languages  vote_average  vote_count  \\\n",
       "0            English           7.7     5,415.0   \n",
       "1  English, Français           6.9     2,413.0   \n",
       "2            English           6.5        92.0   \n",
       "3            English           6.1        34.0   \n",
       "4            English           5.7       173.0   \n",
       "\n",
       "                                            keywords  \\\n",
       "0  jealousy, toy, boy, friendship, friends, rival...   \n",
       "1  board game, disappearance, based on children's...   \n",
       "2  fishing, best friend, duringcreditsstinger, ol...   \n",
       "3  based on novel, interracial relationship, sing...   \n",
       "4  baby, midlife crisis, confidence, aging, daugh...   \n",
       "\n",
       "                                                crew  \\\n",
       "0  John Lasseter, Joss Whedon, Andrew Stanton, Jo...   \n",
       "1  Larry J. Franco, Jonathan Hensleigh, James Hor...   \n",
       "2  Howard Deutch, Mark Steven Johnson, Mark Steve...   \n",
       "3  Forest Whitaker, Ronald Bass, Ronald Bass, Ezr...   \n",
       "4  Alan Silvestri, Elliot Davis, Nancy Meyers, Na...   \n",
       "\n",
       "                                          characters  \\\n",
       "0  Woody (voice), Buzz Lightyear (voice), Mr. Pot...   \n",
       "1  Alan Parrish, Samuel Alan Parrish / Van Pelt, ...   \n",
       "2  Max Goldman, John Gustafson, Ariel Gustafson, ...   \n",
       "3  Savannah 'Vannah' Jackson, Bernadine 'Bernie' ...   \n",
       "4  George Banks, Nina Banks, Franck Eggelhoffer, ...   \n",
       "\n",
       "                                              actors              score  \\\n",
       "0  Tom Hanks, Tim Allen, Don Rickles, Jim Varney,... 0.3485104936548663   \n",
       "1  Robin Williams, Jonathan Hyde, Kirsten Dunst, ... 0.2911238699009509   \n",
       "2  Walter Matthau, Jack Lemmon, Ann-Margret, Soph... 0.2417713795206282   \n",
       "3  Whitney Houston, Angela Bassett, Loretta Devin... 0.2095986598024349   \n",
       "4  Steve Martin, Diane Keaton, Martin Short, Kimb... 0.2053379316488746   \n",
       "\n",
       "                                       combined_text  \n",
       "0  Led by Woody, Andy's toys live happily in his ...  \n",
       "1  When siblings Judy and Peter discover an encha...  \n",
       "2  A family wedding reignites the ancient feud be...  \n",
       "3  Cheated on, mistreated and stepped on, the wom...  \n",
       "4  Just when George Banks has recovered from his ...  "
      ]
     },
     "execution_count": 13,
     "metadata": {},
     "output_type": "execute_result"
    }
   ],
   "source": [
    "movies.head()"
   ]
  },
  {
   "cell_type": "code",
   "execution_count": 14,
   "metadata": {},
   "outputs": [
    {
     "name": "stdout",
     "output_type": "stream",
     "text": [
      "<class 'pandas.core.frame.DataFrame'>\n",
      "RangeIndex: 42363 entries, 0 to 42362\n",
      "Data columns (total 22 columns):\n",
      " #   Column                Non-Null Count  Dtype  \n",
      "---  ------                --------------  -----  \n",
      " 0   adult                 42363 non-null  bool   \n",
      " 1   budget                42363 non-null  float64\n",
      " 2   genres                42363 non-null  object \n",
      " 3   id                    42363 non-null  int64  \n",
      " 4   original_language     42363 non-null  object \n",
      " 5   original_title        42363 non-null  object \n",
      " 6   overview              42363 non-null  object \n",
      " 7   popularity            42363 non-null  float64\n",
      " 8   production_companies  42363 non-null  object \n",
      " 9   production_countries  42363 non-null  object \n",
      " 10  release_date          42363 non-null  object \n",
      " 11  revenue               42363 non-null  float64\n",
      " 12  runtime               42363 non-null  float64\n",
      " 13  spoken_languages      42363 non-null  object \n",
      " 14  vote_average          42363 non-null  float64\n",
      " 15  vote_count            42363 non-null  float64\n",
      " 16  keywords              42363 non-null  object \n",
      " 17  crew                  42363 non-null  object \n",
      " 18  characters            42363 non-null  object \n",
      " 19  actors                42363 non-null  object \n",
      " 20  score                 42363 non-null  float64\n",
      " 21  combined_text         42363 non-null  object \n",
      "dtypes: bool(1), float64(7), int64(1), object(13)\n",
      "memory usage: 6.8+ MB\n"
     ]
    }
   ],
   "source": [
    "movies.info()"
   ]
  },
  {
   "cell_type": "code",
   "execution_count": 15,
   "metadata": {},
   "outputs": [
    {
     "name": "stdout",
     "output_type": "stream",
     "text": [
      "Shape of the Data: (42363, 22)\n",
      "Total number of Data-Points in the Data, N: 42363\n",
      "Total number of dimensions in the Data, D: 22\n",
      "\n",
      "Categorical Features: ['genres', 'original_language', 'original_title', 'overview', 'production_companies', 'production_countries', 'release_date', 'spoken_languages', 'keywords', 'crew', 'characters', 'actors', 'combined_text']\n",
      "Numerical Features: ['budget', 'popularity', 'revenue', 'runtime', 'vote_average', 'vote_count', 'score']\n",
      "Total number of Categorical Features: 13\n",
      "Total number of Numerical Features: 7\n"
     ]
    }
   ],
   "source": [
    "analyze_dataframe(movies)"
   ]
  },
  {
   "cell_type": "markdown",
   "metadata": {},
   "source": [
    "### 1.6.2 Dataset Overview - Cleansed Ratings Dataset"
   ]
  },
  {
   "cell_type": "code",
   "execution_count": 16,
   "metadata": {},
   "outputs": [
    {
     "data": {
      "text/html": [
       "<div>\n",
       "<style scoped>\n",
       "    .dataframe tbody tr th:only-of-type {\n",
       "        vertical-align: middle;\n",
       "    }\n",
       "\n",
       "    .dataframe tbody tr th {\n",
       "        vertical-align: top;\n",
       "    }\n",
       "\n",
       "    .dataframe thead th {\n",
       "        text-align: right;\n",
       "    }\n",
       "</style>\n",
       "<table border=\"1\" class=\"dataframe\">\n",
       "  <thead>\n",
       "    <tr style=\"text-align: right;\">\n",
       "      <th></th>\n",
       "      <th>userId</th>\n",
       "      <th>movieId</th>\n",
       "      <th>rating</th>\n",
       "      <th>timestamp</th>\n",
       "    </tr>\n",
       "  </thead>\n",
       "  <tbody>\n",
       "    <tr>\n",
       "      <th>0</th>\n",
       "      <td>1</td>\n",
       "      <td>31</td>\n",
       "      <td>2.5</td>\n",
       "      <td>1260759144</td>\n",
       "    </tr>\n",
       "    <tr>\n",
       "      <th>1</th>\n",
       "      <td>1</td>\n",
       "      <td>1029</td>\n",
       "      <td>3.0</td>\n",
       "      <td>1260759179</td>\n",
       "    </tr>\n",
       "    <tr>\n",
       "      <th>2</th>\n",
       "      <td>1</td>\n",
       "      <td>1061</td>\n",
       "      <td>3.0</td>\n",
       "      <td>1260759182</td>\n",
       "    </tr>\n",
       "    <tr>\n",
       "      <th>3</th>\n",
       "      <td>1</td>\n",
       "      <td>1129</td>\n",
       "      <td>2.0</td>\n",
       "      <td>1260759185</td>\n",
       "    </tr>\n",
       "    <tr>\n",
       "      <th>4</th>\n",
       "      <td>1</td>\n",
       "      <td>1172</td>\n",
       "      <td>4.0</td>\n",
       "      <td>1260759205</td>\n",
       "    </tr>\n",
       "  </tbody>\n",
       "</table>\n",
       "</div>"
      ],
      "text/plain": [
       "   userId  movieId  rating   timestamp\n",
       "0       1       31     2.5  1260759144\n",
       "1       1     1029     3.0  1260759179\n",
       "2       1     1061     3.0  1260759182\n",
       "3       1     1129     2.0  1260759185\n",
       "4       1     1172     4.0  1260759205"
      ]
     },
     "execution_count": 16,
     "metadata": {},
     "output_type": "execute_result"
    }
   ],
   "source": [
    "ratings_df.head()"
   ]
  },
  {
   "cell_type": "code",
   "execution_count": 17,
   "metadata": {},
   "outputs": [
    {
     "name": "stdout",
     "output_type": "stream",
     "text": [
      "<class 'pandas.core.frame.DataFrame'>\n",
      "RangeIndex: 100004 entries, 0 to 100003\n",
      "Data columns (total 4 columns):\n",
      " #   Column     Non-Null Count   Dtype  \n",
      "---  ------     --------------   -----  \n",
      " 0   userId     100004 non-null  int64  \n",
      " 1   movieId    100004 non-null  int64  \n",
      " 2   rating     100004 non-null  float64\n",
      " 3   timestamp  100004 non-null  int64  \n",
      "dtypes: float64(1), int64(3)\n",
      "memory usage: 3.1 MB\n"
     ]
    }
   ],
   "source": [
    "ratings_df.info()"
   ]
  },
  {
   "cell_type": "code",
   "execution_count": 18,
   "metadata": {},
   "outputs": [
    {
     "name": "stdout",
     "output_type": "stream",
     "text": [
      "Shape of the Data: (100004, 4)\n",
      "Total number of Data-Points in the Data, N: 100004\n",
      "Total number of dimensions in the Data, D: 4\n",
      "\n",
      "Categorical Features: []\n",
      "Numerical Features: ['rating']\n",
      "Total number of Categorical Features: 0\n",
      "Total number of Numerical Features: 1\n"
     ]
    }
   ],
   "source": [
    "analyze_dataframe(ratings_df)"
   ]
  },
  {
   "cell_type": "markdown",
   "metadata": {},
   "source": [
    "### 1.7. Cleansing the Ratings Dataset"
   ]
  },
  {
   "cell_type": "markdown",
   "metadata": {},
   "source": [
    "Converting the timestamp feature column into a datetime feature column."
   ]
  },
  {
   "cell_type": "code",
   "execution_count": 19,
   "metadata": {},
   "outputs": [],
   "source": [
    "ratings_df['date'] = ratings_df['timestamp'].apply(lambda x: datetime.fromtimestamp(x))\n",
    "ratings_df.drop('timestamp', axis=1, inplace=True)\n",
    "\n",
    "ratings_df.reset_index(drop=True, inplace=True)"
   ]
  },
  {
   "cell_type": "code",
   "execution_count": 20,
   "metadata": {},
   "outputs": [
    {
     "data": {
      "text/html": [
       "<div>\n",
       "<style scoped>\n",
       "    .dataframe tbody tr th:only-of-type {\n",
       "        vertical-align: middle;\n",
       "    }\n",
       "\n",
       "    .dataframe tbody tr th {\n",
       "        vertical-align: top;\n",
       "    }\n",
       "\n",
       "    .dataframe thead th {\n",
       "        text-align: right;\n",
       "    }\n",
       "</style>\n",
       "<table border=\"1\" class=\"dataframe\">\n",
       "  <thead>\n",
       "    <tr style=\"text-align: right;\">\n",
       "      <th></th>\n",
       "      <th>userId</th>\n",
       "      <th>movieId</th>\n",
       "      <th>rating</th>\n",
       "      <th>date</th>\n",
       "    </tr>\n",
       "  </thead>\n",
       "  <tbody>\n",
       "    <tr>\n",
       "      <th>0</th>\n",
       "      <td>1</td>\n",
       "      <td>31</td>\n",
       "      <td>2.5</td>\n",
       "      <td>2009-12-13 18:52:24</td>\n",
       "    </tr>\n",
       "    <tr>\n",
       "      <th>1</th>\n",
       "      <td>1</td>\n",
       "      <td>1029</td>\n",
       "      <td>3.0</td>\n",
       "      <td>2009-12-13 18:52:59</td>\n",
       "    </tr>\n",
       "    <tr>\n",
       "      <th>2</th>\n",
       "      <td>1</td>\n",
       "      <td>1061</td>\n",
       "      <td>3.0</td>\n",
       "      <td>2009-12-13 18:53:02</td>\n",
       "    </tr>\n",
       "    <tr>\n",
       "      <th>3</th>\n",
       "      <td>1</td>\n",
       "      <td>1129</td>\n",
       "      <td>2.0</td>\n",
       "      <td>2009-12-13 18:53:05</td>\n",
       "    </tr>\n",
       "    <tr>\n",
       "      <th>4</th>\n",
       "      <td>1</td>\n",
       "      <td>1172</td>\n",
       "      <td>4.0</td>\n",
       "      <td>2009-12-13 18:53:25</td>\n",
       "    </tr>\n",
       "  </tbody>\n",
       "</table>\n",
       "</div>"
      ],
      "text/plain": [
       "   userId  movieId  rating                date\n",
       "0       1       31     2.5 2009-12-13 18:52:24\n",
       "1       1     1029     3.0 2009-12-13 18:52:59\n",
       "2       1     1061     3.0 2009-12-13 18:53:02\n",
       "3       1     1129     2.0 2009-12-13 18:53:05\n",
       "4       1     1172     4.0 2009-12-13 18:53:25"
      ]
     },
     "execution_count": 20,
     "metadata": {},
     "output_type": "execute_result"
    }
   ],
   "source": [
    "ratings_df.head()"
   ]
  },
  {
   "cell_type": "code",
   "execution_count": 21,
   "metadata": {},
   "outputs": [
    {
     "name": "stdout",
     "output_type": "stream",
     "text": [
      "<class 'pandas.core.frame.DataFrame'>\n",
      "RangeIndex: 100004 entries, 0 to 100003\n",
      "Data columns (total 4 columns):\n",
      " #   Column   Non-Null Count   Dtype         \n",
      "---  ------   --------------   -----         \n",
      " 0   userId   100004 non-null  int64         \n",
      " 1   movieId  100004 non-null  int64         \n",
      " 2   rating   100004 non-null  float64       \n",
      " 3   date     100004 non-null  datetime64[ns]\n",
      "dtypes: datetime64[ns](1), float64(1), int64(2)\n",
      "memory usage: 3.1 MB\n"
     ]
    }
   ],
   "source": [
    "ratings_df.info()"
   ]
  },
  {
   "cell_type": "markdown",
   "metadata": {},
   "source": [
    "### 1.8. Loading Embeddings and Combining them with the Movies Dataframe"
   ]
  },
  {
   "cell_type": "code",
   "execution_count": 22,
   "metadata": {},
   "outputs": [
    {
     "name": "stdout",
     "output_type": "stream",
     "text": [
      "Length of a sample embeddings: 768\n"
     ]
    }
   ],
   "source": [
    "bert_embeddings = load_embeddings(embeddings_dir, \"Movies_Embeddings_DistilRoberta.npz\")\n",
    "print(f\"Length of a sample embeddings: {len(bert_embeddings[0])}\")\n",
    "movies[\"embeddings\"] = bert_embeddings"
   ]
  },
  {
   "cell_type": "code",
   "execution_count": 23,
   "metadata": {},
   "outputs": [
    {
     "name": "stdout",
     "output_type": "stream",
     "text": [
      "<class 'pandas.core.frame.DataFrame'>\n",
      "RangeIndex: 42363 entries, 0 to 42362\n",
      "Data columns (total 23 columns):\n",
      " #   Column                Non-Null Count  Dtype  \n",
      "---  ------                --------------  -----  \n",
      " 0   adult                 42363 non-null  bool   \n",
      " 1   budget                42363 non-null  float64\n",
      " 2   genres                42363 non-null  object \n",
      " 3   id                    42363 non-null  int64  \n",
      " 4   original_language     42363 non-null  object \n",
      " 5   original_title        42363 non-null  object \n",
      " 6   overview              42363 non-null  object \n",
      " 7   popularity            42363 non-null  float64\n",
      " 8   production_companies  42363 non-null  object \n",
      " 9   production_countries  42363 non-null  object \n",
      " 10  release_date          42363 non-null  object \n",
      " 11  revenue               42363 non-null  float64\n",
      " 12  runtime               42363 non-null  float64\n",
      " 13  spoken_languages      42363 non-null  object \n",
      " 14  vote_average          42363 non-null  float64\n",
      " 15  vote_count            42363 non-null  float64\n",
      " 16  keywords              42363 non-null  object \n",
      " 17  crew                  42363 non-null  object \n",
      " 18  characters            42363 non-null  object \n",
      " 19  actors                42363 non-null  object \n",
      " 20  score                 42363 non-null  float64\n",
      " 21  combined_text         42363 non-null  object \n",
      " 22  embeddings            42363 non-null  object \n",
      "dtypes: bool(1), float64(7), int64(1), object(14)\n",
      "memory usage: 7.2+ MB\n"
     ]
    }
   ],
   "source": [
    "movies.info()"
   ]
  },
  {
   "cell_type": "code",
   "execution_count": 24,
   "metadata": {},
   "outputs": [
    {
     "data": {
      "text/html": [
       "<div>\n",
       "<style scoped>\n",
       "    .dataframe tbody tr th:only-of-type {\n",
       "        vertical-align: middle;\n",
       "    }\n",
       "\n",
       "    .dataframe tbody tr th {\n",
       "        vertical-align: top;\n",
       "    }\n",
       "\n",
       "    .dataframe thead th {\n",
       "        text-align: right;\n",
       "    }\n",
       "</style>\n",
       "<table border=\"1\" class=\"dataframe\">\n",
       "  <thead>\n",
       "    <tr style=\"text-align: right;\">\n",
       "      <th></th>\n",
       "      <th>adult</th>\n",
       "      <th>budget</th>\n",
       "      <th>genres</th>\n",
       "      <th>id</th>\n",
       "      <th>original_language</th>\n",
       "      <th>original_title</th>\n",
       "      <th>overview</th>\n",
       "      <th>popularity</th>\n",
       "      <th>production_companies</th>\n",
       "      <th>production_countries</th>\n",
       "      <th>release_date</th>\n",
       "      <th>revenue</th>\n",
       "      <th>runtime</th>\n",
       "      <th>spoken_languages</th>\n",
       "      <th>vote_average</th>\n",
       "      <th>vote_count</th>\n",
       "      <th>keywords</th>\n",
       "      <th>crew</th>\n",
       "      <th>characters</th>\n",
       "      <th>actors</th>\n",
       "      <th>score</th>\n",
       "      <th>combined_text</th>\n",
       "      <th>embeddings</th>\n",
       "    </tr>\n",
       "  </thead>\n",
       "  <tbody>\n",
       "    <tr>\n",
       "      <th>0</th>\n",
       "      <td>False</td>\n",
       "      <td>30,000,000.0</td>\n",
       "      <td>Animation, Comedy, Family</td>\n",
       "      <td>862</td>\n",
       "      <td>en</td>\n",
       "      <td>Toy Story</td>\n",
       "      <td>Led by Woody, Andy's toys live happily in his ...</td>\n",
       "      <td>21.946943</td>\n",
       "      <td>Pixar Animation Studios</td>\n",
       "      <td>United States of America</td>\n",
       "      <td>1995-10-30</td>\n",
       "      <td>373,554,033.0</td>\n",
       "      <td>81.0</td>\n",
       "      <td>English</td>\n",
       "      <td>7.7</td>\n",
       "      <td>5,415.0</td>\n",
       "      <td>jealousy, toy, boy, friendship, friends, rival...</td>\n",
       "      <td>John Lasseter, Joss Whedon, Andrew Stanton, Jo...</td>\n",
       "      <td>Woody (voice), Buzz Lightyear (voice), Mr. Pot...</td>\n",
       "      <td>Tom Hanks, Tim Allen, Don Rickles, Jim Varney,...</td>\n",
       "      <td>0.3485104936548663</td>\n",
       "      <td>Led by Woody, Andy's toys live happily in his ...</td>\n",
       "      <td>[0.017651884, -0.0007875326, -0.009459613, -0....</td>\n",
       "    </tr>\n",
       "    <tr>\n",
       "      <th>1</th>\n",
       "      <td>False</td>\n",
       "      <td>65,000,000.0</td>\n",
       "      <td>Adventure, Fantasy, Family</td>\n",
       "      <td>8844</td>\n",
       "      <td>en</td>\n",
       "      <td>Jumanji</td>\n",
       "      <td>When siblings Judy and Peter discover an encha...</td>\n",
       "      <td>17.015539</td>\n",
       "      <td>TriStar Pictures, Teitler Film, Interscope Com...</td>\n",
       "      <td>United States of America</td>\n",
       "      <td>1995-12-15</td>\n",
       "      <td>262,797,249.0</td>\n",
       "      <td>104.0</td>\n",
       "      <td>English, Français</td>\n",
       "      <td>6.9</td>\n",
       "      <td>2,413.0</td>\n",
       "      <td>board game, disappearance, based on children's...</td>\n",
       "      <td>Larry J. Franco, Jonathan Hensleigh, James Hor...</td>\n",
       "      <td>Alan Parrish, Samuel Alan Parrish / Van Pelt, ...</td>\n",
       "      <td>Robin Williams, Jonathan Hyde, Kirsten Dunst, ...</td>\n",
       "      <td>0.2911238699009509</td>\n",
       "      <td>When siblings Judy and Peter discover an encha...</td>\n",
       "      <td>[-0.019318212, -0.039893534, 0.04716879, 0.024...</td>\n",
       "    </tr>\n",
       "    <tr>\n",
       "      <th>2</th>\n",
       "      <td>False</td>\n",
       "      <td>0.0</td>\n",
       "      <td>Romance, Comedy</td>\n",
       "      <td>15602</td>\n",
       "      <td>en</td>\n",
       "      <td>Grumpier Old Men</td>\n",
       "      <td>A family wedding reignites the ancient feud be...</td>\n",
       "      <td>11.7129</td>\n",
       "      <td>Warner Bros., Lancaster Gate</td>\n",
       "      <td>United States of America</td>\n",
       "      <td>1995-12-22</td>\n",
       "      <td>0.0</td>\n",
       "      <td>101.0</td>\n",
       "      <td>English</td>\n",
       "      <td>6.5</td>\n",
       "      <td>92.0</td>\n",
       "      <td>fishing, best friend, duringcreditsstinger, ol...</td>\n",
       "      <td>Howard Deutch, Mark Steven Johnson, Mark Steve...</td>\n",
       "      <td>Max Goldman, John Gustafson, Ariel Gustafson, ...</td>\n",
       "      <td>Walter Matthau, Jack Lemmon, Ann-Margret, Soph...</td>\n",
       "      <td>0.2417713795206282</td>\n",
       "      <td>A family wedding reignites the ancient feud be...</td>\n",
       "      <td>[-0.007591387, -0.04258443, 0.0010542952, 0.01...</td>\n",
       "    </tr>\n",
       "  </tbody>\n",
       "</table>\n",
       "</div>"
      ],
      "text/plain": [
       "   adult       budget                      genres     id original_language  \\\n",
       "0  False 30,000,000.0   Animation, Comedy, Family    862                en   \n",
       "1  False 65,000,000.0  Adventure, Fantasy, Family   8844                en   \n",
       "2  False          0.0             Romance, Comedy  15602                en   \n",
       "\n",
       "     original_title                                           overview  \\\n",
       "0         Toy Story  Led by Woody, Andy's toys live happily in his ...   \n",
       "1           Jumanji  When siblings Judy and Peter discover an encha...   \n",
       "2  Grumpier Old Men  A family wedding reignites the ancient feud be...   \n",
       "\n",
       "   popularity                               production_companies  \\\n",
       "0   21.946943                            Pixar Animation Studios   \n",
       "1   17.015539  TriStar Pictures, Teitler Film, Interscope Com...   \n",
       "2     11.7129                       Warner Bros., Lancaster Gate   \n",
       "\n",
       "       production_countries release_date       revenue  runtime  \\\n",
       "0  United States of America   1995-10-30 373,554,033.0     81.0   \n",
       "1  United States of America   1995-12-15 262,797,249.0    104.0   \n",
       "2  United States of America   1995-12-22           0.0    101.0   \n",
       "\n",
       "    spoken_languages  vote_average  vote_count  \\\n",
       "0            English           7.7     5,415.0   \n",
       "1  English, Français           6.9     2,413.0   \n",
       "2            English           6.5        92.0   \n",
       "\n",
       "                                            keywords  \\\n",
       "0  jealousy, toy, boy, friendship, friends, rival...   \n",
       "1  board game, disappearance, based on children's...   \n",
       "2  fishing, best friend, duringcreditsstinger, ol...   \n",
       "\n",
       "                                                crew  \\\n",
       "0  John Lasseter, Joss Whedon, Andrew Stanton, Jo...   \n",
       "1  Larry J. Franco, Jonathan Hensleigh, James Hor...   \n",
       "2  Howard Deutch, Mark Steven Johnson, Mark Steve...   \n",
       "\n",
       "                                          characters  \\\n",
       "0  Woody (voice), Buzz Lightyear (voice), Mr. Pot...   \n",
       "1  Alan Parrish, Samuel Alan Parrish / Van Pelt, ...   \n",
       "2  Max Goldman, John Gustafson, Ariel Gustafson, ...   \n",
       "\n",
       "                                              actors              score  \\\n",
       "0  Tom Hanks, Tim Allen, Don Rickles, Jim Varney,... 0.3485104936548663   \n",
       "1  Robin Williams, Jonathan Hyde, Kirsten Dunst, ... 0.2911238699009509   \n",
       "2  Walter Matthau, Jack Lemmon, Ann-Margret, Soph... 0.2417713795206282   \n",
       "\n",
       "                                       combined_text  \\\n",
       "0  Led by Woody, Andy's toys live happily in his ...   \n",
       "1  When siblings Judy and Peter discover an encha...   \n",
       "2  A family wedding reignites the ancient feud be...   \n",
       "\n",
       "                                          embeddings  \n",
       "0  [0.017651884, -0.0007875326, -0.009459613, -0....  \n",
       "1  [-0.019318212, -0.039893534, 0.04716879, 0.024...  \n",
       "2  [-0.007591387, -0.04258443, 0.0010542952, 0.01...  "
      ]
     },
     "execution_count": 24,
     "metadata": {},
     "output_type": "execute_result"
    }
   ],
   "source": [
    "movies.head(3)"
   ]
  },
  {
   "cell_type": "markdown",
   "metadata": {},
   "source": [
    "### 1.9 Combining Embeddings, Popularity_Score and Numerical features."
   ]
  },
  {
   "cell_type": "code",
   "execution_count": 25,
   "metadata": {},
   "outputs": [
    {
     "name": "stdout",
     "output_type": "stream",
     "text": [
      "Shape of Embeddings: (42363, 768)\n",
      "Shape of Scaled Numerical Features: (42363, 3)\n",
      "Shape of score array: (42363, 1)\n"
     ]
    },
    {
     "data": {
      "text/plain": [
       "numpy.ndarray"
      ]
     },
     "execution_count": 25,
     "metadata": {},
     "output_type": "execute_result"
    }
   ],
   "source": [
    "numerical_features = movies[['revenue', 'budget', 'runtime']]\n",
    "scaled_numerical_features = scaler.fit_transform(numerical_features)\n",
    "\n",
    "embeddings_array = np.stack(movies[\"embeddings\"].to_numpy())\n",
    "\n",
    "score_array = movies[\"score\"].to_numpy().reshape(-1, 1)\n",
    "\n",
    "print(f\"Shape of Embeddings: {embeddings_array.shape}\")\n",
    "print(f\"Shape of Scaled Numerical Features: {scaled_numerical_features.shape}\")\n",
    "print(f\"Shape of score array: {score_array.shape}\")\n",
    "\n",
    "combined_features = np.hstack((embeddings_array, score_array, scaled_numerical_features))\n",
    "combined_features.shape\n",
    "type(combined_features)"
   ]
  },
  {
   "cell_type": "code",
   "execution_count": 26,
   "metadata": {},
   "outputs": [],
   "source": [
    "movies[\"enhanced_emb\"] = combined_features.tolist()"
   ]
  },
  {
   "cell_type": "code",
   "execution_count": 27,
   "metadata": {},
   "outputs": [
    {
     "name": "stdout",
     "output_type": "stream",
     "text": [
      "Shape of the Data: (42363, 24)\n",
      "Total number of Data-Points in the Data, N: 42363\n",
      "Total number of dimensions in the Data, D: 24\n",
      "\n",
      "Categorical Features: ['genres', 'original_language', 'original_title', 'overview', 'production_companies', 'production_countries', 'release_date', 'spoken_languages', 'keywords', 'crew', 'characters', 'actors', 'combined_text', 'embeddings', 'enhanced_emb']\n",
      "Numerical Features: ['budget', 'popularity', 'revenue', 'runtime', 'vote_average', 'vote_count', 'score']\n",
      "Total number of Categorical Features: 15\n",
      "Total number of Numerical Features: 7\n"
     ]
    }
   ],
   "source": [
    "analyze_dataframe(movies)"
   ]
  },
  {
   "cell_type": "code",
   "execution_count": 28,
   "metadata": {},
   "outputs": [
    {
     "name": "stdout",
     "output_type": "stream",
     "text": [
      "<class 'pandas.core.frame.DataFrame'>\n",
      "RangeIndex: 42363 entries, 0 to 42362\n",
      "Data columns (total 24 columns):\n",
      " #   Column                Non-Null Count  Dtype  \n",
      "---  ------                --------------  -----  \n",
      " 0   adult                 42363 non-null  bool   \n",
      " 1   budget                42363 non-null  float64\n",
      " 2   genres                42363 non-null  object \n",
      " 3   id                    42363 non-null  int64  \n",
      " 4   original_language     42363 non-null  object \n",
      " 5   original_title        42363 non-null  object \n",
      " 6   overview              42363 non-null  object \n",
      " 7   popularity            42363 non-null  float64\n",
      " 8   production_companies  42363 non-null  object \n",
      " 9   production_countries  42363 non-null  object \n",
      " 10  release_date          42363 non-null  object \n",
      " 11  revenue               42363 non-null  float64\n",
      " 12  runtime               42363 non-null  float64\n",
      " 13  spoken_languages      42363 non-null  object \n",
      " 14  vote_average          42363 non-null  float64\n",
      " 15  vote_count            42363 non-null  float64\n",
      " 16  keywords              42363 non-null  object \n",
      " 17  crew                  42363 non-null  object \n",
      " 18  characters            42363 non-null  object \n",
      " 19  actors                42363 non-null  object \n",
      " 20  score                 42363 non-null  float64\n",
      " 21  combined_text         42363 non-null  object \n",
      " 22  embeddings            42363 non-null  object \n",
      " 23  enhanced_emb          42363 non-null  object \n",
      "dtypes: bool(1), float64(7), int64(1), object(15)\n",
      "memory usage: 7.5+ MB\n"
     ]
    }
   ],
   "source": [
    "movies.info()"
   ]
  },
  {
   "cell_type": "markdown",
   "metadata": {},
   "source": [
    "## Part 2 - Data Pipeline and Data Preparation\n",
    "---"
   ]
  },
  {
   "cell_type": "markdown",
   "metadata": {},
   "source": [
    "### 2.1. Data Set Preparation & Data Loaders - PyTorch"
   ]
  },
  {
   "cell_type": "markdown",
   "metadata": {},
   "source": [
    "### 2.1.1 Combining Movies Dataset and Ratings Dataset"
   ]
  },
  {
   "cell_type": "code",
   "execution_count": 29,
   "metadata": {},
   "outputs": [],
   "source": [
    "combined_df = ratings_df.merge(movies[['id', 'original_title', \n",
    "                                       'genres', 'overview', 'enhanced_emb']], \n",
    "                               left_on='movieId',right_on='id', \n",
    "                               how='left')\n",
    "combined_df = combined_df[~combined_df['id'].isna()]\n",
    "combined_df.drop('id', axis=1, inplace=True)\n",
    "combined_df.reset_index(drop=True, inplace=True)"
   ]
  },
  {
   "cell_type": "code",
   "execution_count": 30,
   "metadata": {},
   "outputs": [
    {
     "data": {
      "text/plain": [
       "772"
      ]
     },
     "execution_count": 30,
     "metadata": {},
     "output_type": "execute_result"
    }
   ],
   "source": [
    "len(combined_df[\"enhanced_emb\"][678])"
   ]
  },
  {
   "cell_type": "markdown",
   "metadata": {},
   "source": [
    "### 2.1.2. Sneak Peek into the Movies Original Title & Transformation of Movies Dataset"
   ]
  },
  {
   "cell_type": "code",
   "execution_count": 31,
   "metadata": {},
   "outputs": [
    {
     "data": {
      "text/html": [
       "<div>\n",
       "<style scoped>\n",
       "    .dataframe tbody tr th:only-of-type {\n",
       "        vertical-align: middle;\n",
       "    }\n",
       "\n",
       "    .dataframe tbody tr th {\n",
       "        vertical-align: top;\n",
       "    }\n",
       "\n",
       "    .dataframe thead th {\n",
       "        text-align: right;\n",
       "    }\n",
       "</style>\n",
       "<table border=\"1\" class=\"dataframe\">\n",
       "  <thead>\n",
       "    <tr style=\"text-align: right;\">\n",
       "      <th></th>\n",
       "      <th>movieId</th>\n",
       "      <th>original_title</th>\n",
       "    </tr>\n",
       "  </thead>\n",
       "  <tbody>\n",
       "    <tr>\n",
       "      <th>0</th>\n",
       "      <td>862</td>\n",
       "      <td>Toy Story</td>\n",
       "    </tr>\n",
       "    <tr>\n",
       "      <th>1</th>\n",
       "      <td>8844</td>\n",
       "      <td>Jumanji</td>\n",
       "    </tr>\n",
       "    <tr>\n",
       "      <th>2</th>\n",
       "      <td>15602</td>\n",
       "      <td>Grumpier Old Men</td>\n",
       "    </tr>\n",
       "    <tr>\n",
       "      <th>3</th>\n",
       "      <td>31357</td>\n",
       "      <td>Waiting to Exhale</td>\n",
       "    </tr>\n",
       "    <tr>\n",
       "      <th>4</th>\n",
       "      <td>11862</td>\n",
       "      <td>Father of the Bride Part II</td>\n",
       "    </tr>\n",
       "  </tbody>\n",
       "</table>\n",
       "</div>"
      ],
      "text/plain": [
       "   movieId               original_title\n",
       "0      862                    Toy Story\n",
       "1     8844                      Jumanji\n",
       "2    15602             Grumpier Old Men\n",
       "3    31357            Waiting to Exhale\n",
       "4    11862  Father of the Bride Part II"
      ]
     },
     "execution_count": 31,
     "metadata": {},
     "output_type": "execute_result"
    }
   ],
   "source": [
    "movies_df = movies[['id', 'original_title']]\n",
    "movies_df.rename(columns={'id':'movieId'}, inplace=True)\n",
    "movies_df.head()"
   ]
  },
  {
   "cell_type": "markdown",
   "metadata": {},
   "source": [
    "### 2.2. Encoding the User_ID's and Movie Id's"
   ]
  },
  {
   "cell_type": "code",
   "execution_count": 32,
   "metadata": {},
   "outputs": [],
   "source": [
    "combined_df['userId'] = user_encoder.fit_transform(combined_df['userId'])\n",
    "combined_df['movieId'] = movie_encoder.fit_transform(combined_df['movieId'])"
   ]
  },
  {
   "cell_type": "code",
   "execution_count": 33,
   "metadata": {},
   "outputs": [
    {
     "data": {
      "text/html": [
       "<div>\n",
       "<style scoped>\n",
       "    .dataframe tbody tr th:only-of-type {\n",
       "        vertical-align: middle;\n",
       "    }\n",
       "\n",
       "    .dataframe tbody tr th {\n",
       "        vertical-align: top;\n",
       "    }\n",
       "\n",
       "    .dataframe thead th {\n",
       "        text-align: right;\n",
       "    }\n",
       "</style>\n",
       "<table border=\"1\" class=\"dataframe\">\n",
       "  <thead>\n",
       "    <tr style=\"text-align: right;\">\n",
       "      <th></th>\n",
       "      <th>userId</th>\n",
       "      <th>movieId</th>\n",
       "      <th>rating</th>\n",
       "      <th>date</th>\n",
       "      <th>original_title</th>\n",
       "      <th>genres</th>\n",
       "      <th>overview</th>\n",
       "      <th>enhanced_emb</th>\n",
       "    </tr>\n",
       "  </thead>\n",
       "  <tbody>\n",
       "    <tr>\n",
       "      <th>0</th>\n",
       "      <td>0</td>\n",
       "      <td>686</td>\n",
       "      <td>2.5</td>\n",
       "      <td>2009-12-13 18:52:15</td>\n",
       "      <td>Rocky III</td>\n",
       "      <td>Drama</td>\n",
       "      <td>Now the world champion, Rocky Balboa is living...</td>\n",
       "      <td>[-0.021950680762529373, 0.004284663125872612, ...</td>\n",
       "    </tr>\n",
       "    <tr>\n",
       "      <th>1</th>\n",
       "      <td>0</td>\n",
       "      <td>707</td>\n",
       "      <td>1.0</td>\n",
       "      <td>2009-12-13 18:53:23</td>\n",
       "      <td>Greed</td>\n",
       "      <td>Drama, History</td>\n",
       "      <td>Greed is the classic 1924 silent film by Erich...</td>\n",
       "      <td>[0.021280355751514435, -0.0346422903239727, 0....</td>\n",
       "    </tr>\n",
       "    <tr>\n",
       "      <th>2</th>\n",
       "      <td>0</td>\n",
       "      <td>1046</td>\n",
       "      <td>4.0</td>\n",
       "      <td>2009-12-13 18:52:19</td>\n",
       "      <td>American Pie</td>\n",
       "      <td>Comedy, Romance</td>\n",
       "      <td>At a high-school party, four friends find that...</td>\n",
       "      <td>[0.012894263491034508, -0.050507672131061554, ...</td>\n",
       "    </tr>\n",
       "    <tr>\n",
       "      <th>3</th>\n",
       "      <td>0</td>\n",
       "      <td>1093</td>\n",
       "      <td>2.0</td>\n",
       "      <td>2009-12-13 18:53:18</td>\n",
       "      <td>My Tutor</td>\n",
       "      <td>Comedy, Drama, Romance</td>\n",
       "      <td>High school senior Bobby Chrystal fails his Fr...</td>\n",
       "      <td>[0.025104505941271782, -0.028886273503303528, ...</td>\n",
       "    </tr>\n",
       "    <tr>\n",
       "      <th>4</th>\n",
       "      <td>0</td>\n",
       "      <td>1129</td>\n",
       "      <td>2.0</td>\n",
       "      <td>2009-12-13 18:51:48</td>\n",
       "      <td>Jay and Silent Bob Strike Back</td>\n",
       "      <td>Comedy</td>\n",
       "      <td>When Jay and Silent Bob learn that their comic...</td>\n",
       "      <td>[-0.005047795828431845, -0.0298019889742136, 0...</td>\n",
       "    </tr>\n",
       "  </tbody>\n",
       "</table>\n",
       "</div>"
      ],
      "text/plain": [
       "   userId  movieId  rating                date  \\\n",
       "0       0      686     2.5 2009-12-13 18:52:15   \n",
       "1       0      707     1.0 2009-12-13 18:53:23   \n",
       "2       0     1046     4.0 2009-12-13 18:52:19   \n",
       "3       0     1093     2.0 2009-12-13 18:53:18   \n",
       "4       0     1129     2.0 2009-12-13 18:51:48   \n",
       "\n",
       "                   original_title                  genres  \\\n",
       "0                       Rocky III                   Drama   \n",
       "1                           Greed          Drama, History   \n",
       "2                    American Pie         Comedy, Romance   \n",
       "3                        My Tutor  Comedy, Drama, Romance   \n",
       "4  Jay and Silent Bob Strike Back                  Comedy   \n",
       "\n",
       "                                            overview  \\\n",
       "0  Now the world champion, Rocky Balboa is living...   \n",
       "1  Greed is the classic 1924 silent film by Erich...   \n",
       "2  At a high-school party, four friends find that...   \n",
       "3  High school senior Bobby Chrystal fails his Fr...   \n",
       "4  When Jay and Silent Bob learn that their comic...   \n",
       "\n",
       "                                        enhanced_emb  \n",
       "0  [-0.021950680762529373, 0.004284663125872612, ...  \n",
       "1  [0.021280355751514435, -0.0346422903239727, 0....  \n",
       "2  [0.012894263491034508, -0.050507672131061554, ...  \n",
       "3  [0.025104505941271782, -0.028886273503303528, ...  \n",
       "4  [-0.005047795828431845, -0.0298019889742136, 0...  "
      ]
     },
     "execution_count": 33,
     "metadata": {},
     "output_type": "execute_result"
    }
   ],
   "source": [
    "combined_df.head()"
   ]
  },
  {
   "cell_type": "markdown",
   "metadata": {},
   "source": [
    "### 2.3. Expanding the Embeddings to accomodate the Model"
   ]
  },
  {
   "cell_type": "code",
   "execution_count": 34,
   "metadata": {},
   "outputs": [],
   "source": [
    "expanded_embeddings = pd.DataFrame(combined_df['enhanced_emb'].to_list())\n",
    "\n",
    "# Convert the expanded columns to PyTorch tensors\n",
    "embedding_tensors = [torch.tensor(col, dtype=torch.float32) for col in expanded_embeddings.values.T]\n",
    "\n",
    "# Create a new DataFrame with these tensors\n",
    "expanded_df = pd.DataFrame({'embedding_' + str(i): col for i, col in enumerate(embedding_tensors)})"
   ]
  },
  {
   "cell_type": "markdown",
   "metadata": {},
   "source": [
    "### 2.3.1 Adding user id's and movie id's to the expanded dataframe"
   ]
  },
  {
   "cell_type": "code",
   "execution_count": 35,
   "metadata": {},
   "outputs": [],
   "source": [
    "expanded_df['userId'] = combined_df['userId']\n",
    "expanded_df['movieId'] = combined_df['movieId']\n",
    "expanded_df[\"rating\"] = combined_df[\"rating\"]\n",
    "expanded_df[\"original_title\"] = combined_df[\"original_title\"]\n"
   ]
  },
  {
   "cell_type": "markdown",
   "metadata": {},
   "source": [
    "### 2.4. Movie Ratings Dataset Class"
   ]
  },
  {
   "cell_type": "code",
   "execution_count": 36,
   "metadata": {},
   "outputs": [],
   "source": [
    "class MovieRatingsDataset(Dataset):\n",
    "    def __init__(self, df):\n",
    "        self.user_ids = torch.tensor(df['userId'].values).long()\n",
    "        self.movie_ids = torch.tensor(df['movieId'].values).long()\n",
    "        self.ratings = torch.tensor(df['rating'].values).float()\n",
    "        self.embeddings = torch.stack([torch.tensor(df[col].values).float() for col in expanded_df.columns if col.startswith('embedding')], dim=1)\n",
    "\n",
    "    def __len__(self):\n",
    "        return len(self.ratings)\n",
    "\n",
    "    def __getitem__(self, idx):\n",
    "        return {\n",
    "            \"user_ids\": self.user_ids[idx],\n",
    "            \"movie_ids\": self.movie_ids[idx],\n",
    "            \"embeddings\": self.embeddings[idx],\n",
    "            \"ratings\": self.ratings[idx]\n",
    "        }"
   ]
  },
  {
   "cell_type": "markdown",
   "metadata": {},
   "source": [
    "### 2.5. Creation of Dataset and Data Loaders"
   ]
  },
  {
   "cell_type": "code",
   "execution_count": 37,
   "metadata": {},
   "outputs": [
    {
     "name": "stdout",
     "output_type": "stream",
     "text": [
      "Train Set Length: 38869\n",
      "Validation Set Length: 2159\n",
      "Test Set Length: 2160\n"
     ]
    }
   ],
   "source": [
    "dataset = MovieRatingsDataset(expanded_df)\n",
    "\n",
    "from torch.utils.data import random_split\n",
    "\n",
    "# Define your PyTorch dataset using the expanded DataFrame\n",
    "dataset = MovieRatingsDataset(expanded_df)\n",
    "\n",
    "# Specify the sizes for the train, validation, and test sets\n",
    "train_size = int(0.9 * len(dataset))\n",
    "val_size = int(0.05 * len(dataset))\n",
    "test_size = len(dataset) - train_size - val_size\n",
    "\n",
    "# Randomly split the dataset into train, validation, and test sets\n",
    "train_dataset, val_dataset, test_dataset = random_split(dataset, [train_size, val_size, test_size])\n",
    "\n",
    "print(\"Train Set Length:\", len(train_dataset))\n",
    "print(\"Validation Set Length:\", len(val_dataset))\n",
    "print(\"Test Set Length:\", len(test_dataset))\n",
    "\n",
    "# Define data loaders for train, validation, and test sets\n",
    "batch_size = 64  # You can adjust this as needed\n",
    "train_loader = DataLoader(train_dataset, batch_size=batch_size, shuffle=True)\n",
    "val_loader = DataLoader(val_dataset, batch_size=batch_size, shuffle=False)\n",
    "test_loader = DataLoader(test_dataset, batch_size=batch_size, shuffle=False)\n"
   ]
  },
  {
   "cell_type": "markdown",
   "metadata": {},
   "source": [
    "## Part 3 -  Training Variants of Models to perform Hyperparameter Optimization\n",
    "----"
   ]
  },
  {
   "cell_type": "markdown",
   "metadata": {},
   "source": [
    "### 3.1. Defining the Training Loop"
   ]
  },
  {
   "cell_type": "code",
   "execution_count": 38,
   "metadata": {},
   "outputs": [],
   "source": [
    "def train_model(model, train_loader, val_loader, optimizer, criterion, num_epochs=50, model_num=\"model_1\"):\n",
    "    \"\"\"\n",
    "    Trains a given model and evaluates it on a validation set.\n",
    "\n",
    "    Parameters:\n",
    "    - model: The neural network model to be trained.\n",
    "    - train_loader: DataLoader for the training set.\n",
    "    - val_loader: DataLoader for the validation set.\n",
    "    - optimizer: Optimizer for the model.\n",
    "    - criterion: Loss function.\n",
    "    - num_epochs: Number of epochs for training (default: 50).\n",
    "\n",
    "    Returns:\n",
    "    - A tuple containing lists of training losses, validation losses, training RMSE values, and validation RMSE values.\n",
    "    \"\"\"\n",
    "    device = torch.device(\"cuda\" if torch.cuda.is_available() else \"cpu\")\n",
    "    model.to(device)\n",
    "\n",
    "    train_losses = []\n",
    "    val_losses = []\n",
    "    train_rmse_values = []\n",
    "    val_rmse_values = []\n",
    "    best_val_loss = float('inf')\n",
    "\n",
    "    for epoch in range(num_epochs):\n",
    "        # Training\n",
    "        model.train()\n",
    "        train_loss = 0.0\n",
    "        for batch in train_loader:\n",
    "            # Load batch data to the device\n",
    "            user_ids = batch['user_ids'].to(device)\n",
    "            movie_ids = batch['movie_ids'].to(device)\n",
    "            bert_embeddings = batch['embeddings'].to(device)\n",
    "            ratings = batch['ratings'].to(device)\n",
    "\n",
    "            # Forward and backward passes\n",
    "            optimizer.zero_grad()\n",
    "            outputs = model(user_ids, movie_ids, bert_embeddings).squeeze()\n",
    "            loss = criterion(outputs, ratings)\n",
    "            loss.backward()\n",
    "            optimizer.step()\n",
    "            train_loss += loss.item()\n",
    "\n",
    "        # Validation\n",
    "        model.eval()\n",
    "        val_loss = 0.0\n",
    "        with torch.no_grad():\n",
    "            for batch in val_loader:\n",
    "                # Load batch data to the device\n",
    "                user_ids = batch['user_ids'].to(device)\n",
    "                movie_ids = batch['movie_ids'].to(device)\n",
    "                bert_embeddings = batch['embeddings'].to(device)\n",
    "                ratings = batch['ratings'].to(device)\n",
    "\n",
    "                outputs = model(user_ids, movie_ids, bert_embeddings).squeeze()\n",
    "                loss = criterion(outputs, ratings)\n",
    "                val_loss += loss.item()\n",
    "\n",
    "        # Calculate RMSE for training and validation\n",
    "        train_rmse = torch.sqrt(torch.tensor(train_loss / len(train_loader)))\n",
    "        val_rmse = torch.sqrt(torch.tensor(val_loss / len(val_loader)))\n",
    "\n",
    "        # Append RMSE and loss to lists\n",
    "        train_losses.append(train_loss / len(train_loader))\n",
    "        val_losses.append(val_loss / len(val_loader))\n",
    "        train_rmse_values.append(train_rmse.item())  # Convert to Python float\n",
    "        val_rmse_values.append(val_rmse.item())  # Convert to Python float\n",
    "\n",
    "        # Print training and validation loss for this epoch\n",
    "        print(f\"Epoch [{epoch + 1}/{num_epochs}] - Train Loss: {train_losses[-1]} - Train RMSE: {train_rmse} - Validation Loss: {val_losses[-1]} - Validation RMSE: {val_rmse}\")\n",
    "\n",
    "        # Check if validation loss improved\n",
    "        if val_loss < best_val_loss:\n",
    "            best_val_loss = val_loss\n",
    "            torch.save(model.state_dict(), f'../Models/best_{model_num}.pth')\n",
    "\n",
    "    print(\"Training complete.\")\n",
    "    return train_losses, val_losses, train_rmse_values, val_rmse_values\n"
   ]
  },
  {
   "cell_type": "markdown",
   "metadata": {},
   "source": [
    "### 3.2. Defining other Helper Functions"
   ]
  },
  {
   "cell_type": "code",
   "execution_count": 39,
   "metadata": {},
   "outputs": [],
   "source": [
    "def plot_training_results(train_losses, val_losses, train_rmse_values, val_rmse_values, common_title):\n",
    "    \"\"\"\n",
    "    Plots the training and validation losses and RMSE values in separate figures, with a common title.\n",
    "\n",
    "    Parameters:\n",
    "    - train_losses: List of training loss values.\n",
    "    - val_losses: List of validation loss values.\n",
    "    - train_rmse_values: List of training RMSE values.\n",
    "    - val_rmse_values: List of validation RMSE values.\n",
    "    - common_title: Common title for both plots.\n",
    "    \"\"\"\n",
    "\n",
    "    # Plotting RMSE\n",
    "    plt.figure(figsize=(6, 6))\n",
    "    plt.plot(train_rmse_values, label='Train RMSE')\n",
    "    plt.plot(val_rmse_values, label='Validation RMSE')\n",
    "    plt.title(f'{common_title} - RMSE')\n",
    "    plt.xlabel('Epochs')\n",
    "    plt.ylabel('RMSE')\n",
    "    plt.legend()\n",
    "    plt.show()\n",
    "\n",
    "    # Plotting Loss\n",
    "    plt.figure(figsize=(6, 6))\n",
    "    plt.plot(train_losses, label='Train Loss')\n",
    "    plt.plot(val_losses, label='Validation Loss')\n",
    "    plt.title(f'{common_title} - Loss')\n",
    "    plt.xlabel('Epochs')\n",
    "    plt.ylabel('Loss')\n",
    "    plt.legend()\n",
    "    plt.show()"
   ]
  },
  {
   "cell_type": "code",
   "execution_count": 40,
   "metadata": {},
   "outputs": [],
   "source": [
    "def predict_rating(model, user_id, movie_name):\n",
    "    \"\"\"\n",
    "    Predict the rating for a specific user and movie.\n",
    "\n",
    "    Parameters:\n",
    "    - model: Trained PyTorch model for recommendation.\n",
    "    - user_id: User ID (already encoded).\n",
    "    - movie_name: Name of the movie.\n",
    "    \"\"\"\n",
    "\n",
    "    # Check if the movie name exists in expanded_df\n",
    "    if movie_name not in expanded_df['original_title'].values:\n",
    "        print(f\"Movie '{movie_name}' not found.\")\n",
    "        return\n",
    "\n",
    "    movie_row = expanded_df[expanded_df['original_title'] == movie_name].iloc[0]\n",
    "    encoded_user_id = user_id\n",
    "    encoded_movie_id = movie_row['movieId']\n",
    "\n",
    "    # Extract BERT embeddings for the movie from expanded_df\n",
    "    bert_embedding = torch.tensor([movie_row[col] for col in expanded_df.columns if col.startswith('embedding')]).float()\n",
    "\n",
    "    # Convert encoded IDs to tensors\n",
    "    user_tensor = torch.tensor([encoded_user_id])\n",
    "    movie_tensor = torch.tensor([encoded_movie_id])\n",
    "    bert_embedding_tensor = bert_embedding.unsqueeze(0)\n",
    "\n",
    "    # Predict rating\n",
    "    with torch.no_grad():\n",
    "        predicted_rating = model(user_tensor, movie_tensor, bert_embedding_tensor).item()\n",
    "\n",
    "    print(f\"Predicted rating for '{movie_name}' (Movie ID {encoded_movie_id}): {predicted_rating}\")\n"
   ]
  },
  {
   "cell_type": "code",
   "execution_count": 41,
   "metadata": {},
   "outputs": [],
   "source": [
    "from tqdm.auto import tqdm\n",
    "\n",
    "def predict_movie(model, user_id, top_n=3):\n",
    "    \"\"\"\n",
    "    Predict top N movie recommendations for a given user using a PyTorch model.\n",
    "\n",
    "    Parameters:\n",
    "    - model: Trained PyTorch model for recommendation.\n",
    "    - user_id: User ID (already encoded).\n",
    "    - top_n: Number of top recommendations to return.\n",
    "    \"\"\"\n",
    "    model.eval()\n",
    "\n",
    "    # Use the pre-encoded user ID\n",
    "    user_tensor = torch.tensor([user_id])\n",
    "\n",
    "    # Compute scores for all movies\n",
    "    scores = []\n",
    "    for index, movie_row in tqdm(expanded_df.iterrows(), total=expanded_df.shape[0], desc=\"Predicting movies\"):\n",
    "        encoded_movie_id = movie_row['movieId']\n",
    "        # Check if this movie_id has already been scored\n",
    "        if any(encoded_movie_id == scored_movie_id for scored_movie_id, _ in scores):\n",
    "            continue\n",
    "\n",
    "        movie_tensor = torch.tensor([encoded_movie_id])\n",
    "        \n",
    "        # Extract BERT embeddings for the movie\n",
    "        bert_embedding = torch.tensor([movie_row[col] for col in expanded_df.columns if col.startswith('embedding')]).float().unsqueeze(0)\n",
    "\n",
    "        with torch.no_grad():\n",
    "            score = model(user_tensor, movie_tensor, bert_embedding).item()\n",
    "        scores.append((encoded_movie_id, score))\n",
    "\n",
    "    # Sort movies based on scores and pick top_n\n",
    "    top_movies = sorted(scores, key=lambda x: x[1], reverse=True)[:top_n]\n",
    "\n",
    "    # Fetch the original titles for the top movies\n",
    "    top_movie_titles = [expanded_df[expanded_df['movieId'] == movie_id]['original_title'].iloc[0] for movie_id, _ in top_movies]\n",
    "\n",
    "    print(f'Top {top_n} recommendations for user {user_id}:\\n')\n",
    "    for rank, movie_title in enumerate(top_movie_titles, start=1):\n",
    "        print(f'{rank}. {movie_title}')\n",
    "\n",
    "    return top_movie_titles\n",
    "\n",
    "# Example usage\n",
    "# top_movie_titles = predict_movie(your_model, encoded_user_id, top_n=3)\n"
   ]
  },
  {
   "cell_type": "code",
   "execution_count": 42,
   "metadata": {},
   "outputs": [],
   "source": [
    "def get_movie_metadata(top_movie_titles):\n",
    "    # Create DataFrame from the recommended titles\n",
    "    pred_movies = pd.DataFrame({'original_title': top_movie_titles})\n",
    "\n",
    "    # Merge with the ratings_df to get full metadata\n",
    "    # Assuming ratings_df is your DataFrame containing movie metadata\n",
    "    pred_df = pred_movies.merge(combined_df[['original_title', 'genres', 'overview']], on='original_title', how='left')\n",
    "    pred_df = pred_df[~pred_df['original_title'].duplicated()]\n",
    "    pred_df.reset_index(drop=True, inplace=True)\n",
    "    pred_df.index = np.arange(1, len(pred_df) + 1)\n",
    "\n",
    "    return pred_df"
   ]
  },
  {
   "cell_type": "markdown",
   "metadata": {},
   "source": [
    "### 3.1. Model - 1 Baseline Model"
   ]
  },
  {
   "cell_type": "markdown",
   "metadata": {},
   "source": [
    "- No Dropout\n",
    "- No Regularization\n",
    "- Random Weight Initialization\n",
    "- SDG Optimizer learn rate = 0.001\n"
   ]
  },
  {
   "cell_type": "code",
   "execution_count": 43,
   "metadata": {},
   "outputs": [],
   "source": [
    "class MovieModel(nn.Module):\n",
    "    def __init__(self, embedding_dim, num_users, num_movies, bert_embedding_dim):\n",
    "        super(MovieModel, self).__init__()\n",
    "        self.user_embedding = nn.Embedding(num_users, embedding_dim)\n",
    "        self.movie_embedding = nn.Embedding(num_movies, embedding_dim)\n",
    "        self.bert_embedding = nn.Linear(bert_embedding_dim, embedding_dim)  # Linear layer to map BERT embeddings to the same dimension as user and movie embeddings\n",
    "        self.fc = nn.Sequential(\n",
    "            nn.Linear(embedding_dim * 3, 256),  # Updated input size to account for BERT embeddings\n",
    "            nn.ReLU(),\n",
    "            nn.Linear(256, 128),\n",
    "            nn.ReLU(),\n",
    "            nn.Linear(128, 1)\n",
    "        )\n",
    "\n",
    "    def forward(self, user_ids, movie_ids, bert_embeddings):\n",
    "        user_embeds = self.user_embedding(user_ids)\n",
    "        movie_embeds = self.movie_embedding(movie_ids)\n",
    "        bert_embeds = self.bert_embedding(bert_embeddings)  # Apply linear layer to BERT embeddings\n",
    "        x = torch.cat([user_embeds, movie_embeds, bert_embeds], dim=1)  # Concatenate all embeddings\n",
    "        x = self.fc(x)\n",
    "        return x\n"
   ]
  },
  {
   "cell_type": "markdown",
   "metadata": {},
   "source": [
    "### 3.1.1 Defining Optimizers, Loss Functions and Instantiating the model_1"
   ]
  },
  {
   "cell_type": "code",
   "execution_count": 44,
   "metadata": {},
   "outputs": [],
   "source": [
    "# Initialize the model\n",
    "embedding_dim = 64  # You can adjust this as needed\n",
    "num_users = len(user_encoder.classes_)\n",
    "num_movies = len(movie_encoder.classes_)\n",
    "model_1 = MovieModel(embedding_dim, num_users, num_movies, 772)\n",
    "\n",
    "# Define loss function and optimizer\n",
    "criterion = nn.MSELoss()\n",
    "optimizer = optim.SGD(model_1.parameters(), lr=0.001)"
   ]
  },
  {
   "cell_type": "code",
   "execution_count": 45,
   "metadata": {},
   "outputs": [
    {
     "name": "stdout",
     "output_type": "stream",
     "text": [
      "Epoch [1/50] - Train Loss: 2.2519403992122724 - Train RMSE: 1.500646710395813 - Validation Loss: 1.183032430270139 - Validation RMSE: 1.0876729488372803\n",
      "Epoch [2/50] - Train Loss: 1.1227257394869077 - Train RMSE: 1.0595874786376953 - Validation Loss: 1.1344238537199356 - Validation RMSE: 1.0650933980941772\n",
      "Epoch [3/50] - Train Loss: 1.08273232012595 - Train RMSE: 1.0405442714691162 - Validation Loss: 1.1123563734924091 - Validation RMSE: 1.0546830892562866\n",
      "Epoch [4/50] - Train Loss: 1.0610948322634948 - Train RMSE: 1.0300946235656738 - Validation Loss: 1.09617800747647 - Validation RMSE: 1.0469852685928345\n",
      "Epoch [5/50] - Train Loss: 1.0446079870391833 - Train RMSE: 1.0220606327056885 - Validation Loss: 1.0847472040092243 - Validation RMSE: 1.0415120124816895\n",
      "Epoch [6/50] - Train Loss: 1.0322729089346372 - Train RMSE: 1.0160083770751953 - Validation Loss: 1.075653405750499 - Validation RMSE: 1.0371371507644653\n",
      "Epoch [7/50] - Train Loss: 1.021475103046549 - Train RMSE: 1.0106805562973022 - Validation Loss: 1.0669583012075985 - Validation RMSE: 1.032936692237854\n",
      "Epoch [8/50] - Train Loss: 1.0115150125011017 - Train RMSE: 1.005741000175476 - Validation Loss: 1.0593889495905708 - Validation RMSE: 1.0292662382125854\n",
      "Epoch [9/50] - Train Loss: 1.002104694562915 - Train RMSE: 1.0010517835617065 - Validation Loss: 1.0523004987660576 - Validation RMSE: 1.0258169174194336\n",
      "Epoch [10/50] - Train Loss: 0.9933886491742573 - Train RMSE: 0.9966888427734375 - Validation Loss: 1.045427317128462 - Validation RMSE: 1.0224614143371582\n",
      "Epoch [11/50] - Train Loss: 0.9853236668400074 - Train RMSE: 0.9926347136497498 - Validation Loss: 1.0387648046016693 - Validation RMSE: 1.0191981792449951\n",
      "Epoch [12/50] - Train Loss: 0.9771683777339364 - Train RMSE: 0.9885182976722717 - Validation Loss: 1.0326555932269377 - Validation RMSE: 1.016196608543396\n",
      "Epoch [13/50] - Train Loss: 0.9698239982520279 - Train RMSE: 0.984796404838562 - Validation Loss: 1.0269215667949003 - Validation RMSE: 1.0133713483810425\n",
      "Epoch [14/50] - Train Loss: 0.9618237280335865 - Train RMSE: 0.9807261228561401 - Validation Loss: 1.0216893606326158 - Validation RMSE: 1.010786533355713\n",
      "Epoch [15/50] - Train Loss: 0.9542812495247314 - Train RMSE: 0.9768732190132141 - Validation Loss: 1.0150874081779928 - Validation RMSE: 1.0075154304504395\n",
      "Epoch [16/50] - Train Loss: 0.9471307404731449 - Train RMSE: 0.9732064008712769 - Validation Loss: 1.0101129237343283 - Validation RMSE: 1.0050437450408936\n",
      "Epoch [17/50] - Train Loss: 0.9402076736778805 - Train RMSE: 0.9696430563926697 - Validation Loss: 1.0050825143561644 - Validation RMSE: 1.0025379657745361\n",
      "Epoch [18/50] - Train Loss: 0.9333727596033561 - Train RMSE: 0.9661121964454651 - Validation Loss: 0.9994512813932755 - Validation RMSE: 0.9997255802154541\n",
      "Epoch [19/50] - Train Loss: 0.9265312230900714 - Train RMSE: 0.9625648856163025 - Validation Loss: 0.9939795820152059 - Validation RMSE: 0.9969852566719055\n",
      "Epoch [20/50] - Train Loss: 0.9197039057157541 - Train RMSE: 0.9590119123458862 - Validation Loss: 0.9912805679966422 - Validation RMSE: 0.9956307411193848\n",
      "Epoch [21/50] - Train Loss: 0.9131561244200719 - Train RMSE: 0.9555920362472534 - Validation Loss: 0.9856463653199813 - Validation RMSE: 0.9927972555160522\n",
      "Epoch [22/50] - Train Loss: 0.9064319991555653 - Train RMSE: 0.9520671963691711 - Validation Loss: 0.9809003261958852 - Validation RMSE: 0.9904041290283203\n",
      "Epoch [23/50] - Train Loss: 0.9008463244198969 - Train RMSE: 0.9491292238235474 - Validation Loss: 0.9767138765138739 - Validation RMSE: 0.9882883429527283\n",
      "Epoch [24/50] - Train Loss: 0.8942411582132703 - Train RMSE: 0.9456432461738586 - Validation Loss: 0.9729392914211049 - Validation RMSE: 0.9863768815994263\n",
      "Epoch [25/50] - Train Loss: 0.888261007439149 - Train RMSE: 0.9424760341644287 - Validation Loss: 0.9694696647279403 - Validation RMSE: 0.9846165180206299\n",
      "Epoch [26/50] - Train Loss: 0.8825331449410633 - Train RMSE: 0.9394323229789734 - Validation Loss: 0.9647073658073649 - Validation RMSE: 0.9821951985359192\n",
      "Epoch [27/50] - Train Loss: 0.8756260389069978 - Train RMSE: 0.9357489347457886 - Validation Loss: 0.9612330128164852 - Validation RMSE: 0.9804249405860901\n",
      "Epoch [28/50] - Train Loss: 0.8709135088383367 - Train RMSE: 0.9332274794578552 - Validation Loss: 0.9589745332213009 - Validation RMSE: 0.9792724251747131\n",
      "Epoch [29/50] - Train Loss: 0.8650932270837458 - Train RMSE: 0.9301038980484009 - Validation Loss: 0.9546893116305856 - Validation RMSE: 0.9770820736885071\n",
      "Epoch [30/50] - Train Loss: 0.8590393823718554 - Train RMSE: 0.9268437623977661 - Validation Loss: 0.9526913586784812 - Validation RMSE: 0.976059079170227\n",
      "Epoch [31/50] - Train Loss: 0.8534616547587671 - Train RMSE: 0.9238299131393433 - Validation Loss: 0.9493145802441765 - Validation RMSE: 0.9743277430534363\n",
      "Epoch [32/50] - Train Loss: 0.8479033946794899 - Train RMSE: 0.9208166599273682 - Validation Loss: 0.9484907301033244 - Validation RMSE: 0.9739049077033997\n",
      "Epoch [33/50] - Train Loss: 0.8422421012073755 - Train RMSE: 0.9177374839782715 - Validation Loss: 0.9436418308931238 - Validation RMSE: 0.9714123010635376\n",
      "Epoch [34/50] - Train Loss: 0.8374745899713353 - Train RMSE: 0.9151363968849182 - Validation Loss: 0.9430883631986731 - Validation RMSE: 0.9711273908615112\n",
      "Epoch [35/50] - Train Loss: 0.8320383481975449 - Train RMSE: 0.9121613502502441 - Validation Loss: 0.9405493227874532 - Validation RMSE: 0.969819188117981\n",
      "Epoch [36/50] - Train Loss: 0.8268202663840432 - Train RMSE: 0.9092965722084045 - Validation Loss: 0.9402376974330229 - Validation RMSE: 0.9696585536003113\n",
      "Epoch [37/50] - Train Loss: 0.82227599606114 - Train RMSE: 0.9067943692207336 - Validation Loss: 0.9400045731488396 - Validation RMSE: 0.9695383310317993\n",
      "Epoch [38/50] - Train Loss: 0.8170329335782873 - Train RMSE: 0.9038987159729004 - Validation Loss: 0.9366539629066691 - Validation RMSE: 0.9678088426589966\n",
      "Epoch [39/50] - Train Loss: 0.8124758001711023 - Train RMSE: 0.9013743996620178 - Validation Loss: 0.9349698774954852 - Validation RMSE: 0.9669384360313416\n",
      "Epoch [40/50] - Train Loss: 0.8072852517821287 - Train RMSE: 0.8984905481338501 - Validation Loss: 0.9313580323668087 - Validation RMSE: 0.9650689363479614\n",
      "Epoch [41/50] - Train Loss: 0.8022302349441146 - Train RMSE: 0.8956730365753174 - Validation Loss: 0.93132483959198 - Validation RMSE: 0.9650517106056213\n",
      "Epoch [42/50] - Train Loss: 0.7969967282230133 - Train RMSE: 0.8927467465400696 - Validation Loss: 0.9299069239812738 - Validation RMSE: 0.9643167853355408\n",
      "Epoch [43/50] - Train Loss: 0.7922066131998834 - Train RMSE: 0.8900598883628845 - Validation Loss: 0.9293807061279521 - Validation RMSE: 0.964043915271759\n",
      "Epoch [44/50] - Train Loss: 0.7875323216675928 - Train RMSE: 0.8874301910400391 - Validation Loss: 0.9286933769198025 - Validation RMSE: 0.9636873602867126\n",
      "Epoch [45/50] - Train Loss: 0.783389599944808 - Train RMSE: 0.8850930333137512 - Validation Loss: 0.9260402023792267 - Validation RMSE: 0.9623098373413086\n",
      "Epoch [46/50] - Train Loss: 0.7792185025877858 - Train RMSE: 0.8827335238456726 - Validation Loss: 0.9244709172669578 - Validation RMSE: 0.9614940881729126\n",
      "Epoch [47/50] - Train Loss: 0.7745816416450237 - Train RMSE: 0.8801032304763794 - Validation Loss: 0.926014162161771 - Validation RMSE: 0.9622963070869446\n",
      "Epoch [48/50] - Train Loss: 0.7695366929432279 - Train RMSE: 0.8772323727607727 - Validation Loss: 0.9250453289817361 - Validation RMSE: 0.9617927670478821\n",
      "Epoch [49/50] - Train Loss: 0.765076147637477 - Train RMSE: 0.8746863007545471 - Validation Loss: 0.9248581125455744 - Validation RMSE: 0.9616954326629639\n",
      "Epoch [50/50] - Train Loss: 0.7614254849031568 - Train RMSE: 0.8725969791412354 - Validation Loss: 0.9229817618342007 - Validation RMSE: 0.9607194066047668\n",
      "Training complete.\n"
     ]
    }
   ],
   "source": [
    "train_losses, val_losses, train_rmse_values, val_rmse_values = train_model(model_1, train_loader, val_loader, optimizer, criterion, num_epochs=50, model_num = \"model_1\")"
   ]
  },
  {
   "cell_type": "code",
   "execution_count": 46,
   "metadata": {},
   "outputs": [
    {
     "data": {
      "image/png": "[encoded data removed]",
      "text/plain": [
       "<Figure size 600x600 with 1 Axes>"
      ]
     },
     "metadata": {},
     "output_type": "display_data"
    },
    {
     "data": {
      "image/png": "[encoded data removed]",
      "text/plain": [
       "<Figure size 600x600 with 1 Axes>"
      ]
     },
     "metadata": {},
     "output_type": "display_data"
    }
   ],
   "source": [
    "plot_training_results(train_losses, val_losses, train_rmse_values, val_rmse_values, \"Model - I\")"
   ]
  },
  {
   "cell_type": "code",
   "execution_count": 47,
   "metadata": {},
   "outputs": [
    {
     "name": "stdout",
     "output_type": "stream",
     "text": [
      "Predicted rating for 'American Pie' (Movie ID 1046): 3.3792595863342285\n"
     ]
    }
   ],
   "source": [
    "predict_rating(model_1, 123, 'American Pie')"
   ]
  },
  {
   "cell_type": "code",
   "execution_count": 48,
   "metadata": {},
   "outputs": [
    {
     "data": {
      "application/vnd.jupyter.widget-view+json": {
       "model_id": "3b2fa06768e2449683342a81c355de3a",
       "version_major": 2,
       "version_minor": 0
      },
      "text/plain": [
       "Predicting movies:   0%|          | 0/43188 [00:00<?, ?it/s]"
      ]
     },
     "metadata": {},
     "output_type": "display_data"
    },
    {
     "name": "stdout",
     "output_type": "stream",
     "text": [
      "Top 10 recommendations for user 123:\n",
      "\n",
      "1. Bridesmaids\n",
      "2. Keeping the Faith\n",
      "3. The Million Dollar Hotel\n",
      "4. Just the Ticket\n",
      "5. Kissin' Cousins\n",
      "6. Das Boot\n",
      "7. Onna no mizûmi\n",
      "8. Army of Darkness\n",
      "9. Once Were Warriors\n",
      "10. Buio Omega\n"
     ]
    }
   ],
   "source": [
    "top_movies = predict_movie(model_1, 123, top_n=10)"
   ]
  },
  {
   "cell_type": "code",
   "execution_count": 49,
   "metadata": {},
   "outputs": [],
   "source": [
    "metadata_df = get_movie_metadata(top_movies)"
   ]
  },
  {
   "cell_type": "code",
   "execution_count": 50,
   "metadata": {},
   "outputs": [
    {
     "data": {
      "text/html": [
       "<div>\n",
       "<style scoped>\n",
       "    .dataframe tbody tr th:only-of-type {\n",
       "        vertical-align: middle;\n",
       "    }\n",
       "\n",
       "    .dataframe tbody tr th {\n",
       "        vertical-align: top;\n",
       "    }\n",
       "\n",
       "    .dataframe thead th {\n",
       "        text-align: right;\n",
       "    }\n",
       "</style>\n",
       "<table border=\"1\" class=\"dataframe\">\n",
       "  <thead>\n",
       "    <tr style=\"text-align: right;\">\n",
       "      <th></th>\n",
       "      <th>original_title</th>\n",
       "      <th>genres</th>\n",
       "      <th>overview</th>\n",
       "    </tr>\n",
       "  </thead>\n",
       "  <tbody>\n",
       "    <tr>\n",
       "      <th>1</th>\n",
       "      <td>Bridesmaids</td>\n",
       "      <td>Comedy, Romance</td>\n",
       "      <td>Annie’s life is a mess. But when she finds out...</td>\n",
       "    </tr>\n",
       "    <tr>\n",
       "      <th>2</th>\n",
       "      <td>Keeping the Faith</td>\n",
       "      <td>Comedy</td>\n",
       "      <td>Best friends since they were kids, Rabbi Jacob...</td>\n",
       "    </tr>\n",
       "    <tr>\n",
       "      <th>3</th>\n",
       "      <td>The Million Dollar Hotel</td>\n",
       "      <td>Drama, Thriller</td>\n",
       "      <td>The Million Dollar Hotel starts with a jump fr...</td>\n",
       "    </tr>\n",
       "    <tr>\n",
       "      <th>4</th>\n",
       "      <td>Just the Ticket</td>\n",
       "      <td>Comedy, Romance</td>\n",
       "      <td>Gary Starke is one of the best ticket scalpers...</td>\n",
       "    </tr>\n",
       "    <tr>\n",
       "      <th>5</th>\n",
       "      <td>Kissin' Cousins</td>\n",
       "      <td>Comedy, Music, Romance</td>\n",
       "      <td>An Army officer returns to the Smoky Mountains...</td>\n",
       "    </tr>\n",
       "    <tr>\n",
       "      <th>6</th>\n",
       "      <td>Das Boot</td>\n",
       "      <td>Action, Drama, History, War, Adventure</td>\n",
       "      <td>A German submarine hunts allied ships during t...</td>\n",
       "    </tr>\n",
       "    <tr>\n",
       "      <th>7</th>\n",
       "      <td>Onna no mizûmi</td>\n",
       "      <td>Drama</td>\n",
       "      <td>A married woman lets her lover take naked pict...</td>\n",
       "    </tr>\n",
       "    <tr>\n",
       "      <th>8</th>\n",
       "      <td>Army of Darkness</td>\n",
       "      <td>Fantasy, Horror, Comedy</td>\n",
       "      <td>A man is accidentally transported to 1300 A.D....</td>\n",
       "    </tr>\n",
       "    <tr>\n",
       "      <th>9</th>\n",
       "      <td>Once Were Warriors</td>\n",
       "      <td>Drama</td>\n",
       "      <td>A drama about a Maori family lving in Auckland...</td>\n",
       "    </tr>\n",
       "    <tr>\n",
       "      <th>10</th>\n",
       "      <td>Buio Omega</td>\n",
       "      <td>Horror</td>\n",
       "      <td>A young rich orphan loses his fiancée to voodo...</td>\n",
       "    </tr>\n",
       "  </tbody>\n",
       "</table>\n",
       "</div>"
      ],
      "text/plain": [
       "              original_title                                  genres  \\\n",
       "1                Bridesmaids                         Comedy, Romance   \n",
       "2          Keeping the Faith                                  Comedy   \n",
       "3   The Million Dollar Hotel                         Drama, Thriller   \n",
       "4            Just the Ticket                         Comedy, Romance   \n",
       "5            Kissin' Cousins                  Comedy, Music, Romance   \n",
       "6                   Das Boot  Action, Drama, History, War, Adventure   \n",
       "7             Onna no mizûmi                                   Drama   \n",
       "8           Army of Darkness                 Fantasy, Horror, Comedy   \n",
       "9         Once Were Warriors                                   Drama   \n",
       "10                Buio Omega                                  Horror   \n",
       "\n",
       "                                             overview  \n",
       "1   Annie’s life is a mess. But when she finds out...  \n",
       "2   Best friends since they were kids, Rabbi Jacob...  \n",
       "3   The Million Dollar Hotel starts with a jump fr...  \n",
       "4   Gary Starke is one of the best ticket scalpers...  \n",
       "5   An Army officer returns to the Smoky Mountains...  \n",
       "6   A German submarine hunts allied ships during t...  \n",
       "7   A married woman lets her lover take naked pict...  \n",
       "8   A man is accidentally transported to 1300 A.D....  \n",
       "9   A drama about a Maori family lving in Auckland...  \n",
       "10  A young rich orphan loses his fiancée to voodo...  "
      ]
     },
     "execution_count": 50,
     "metadata": {},
     "output_type": "execute_result"
    }
   ],
   "source": [
    "metadata_df"
   ]
  },
  {
   "cell_type": "code",
   "execution_count": 53,
   "metadata": {},
   "outputs": [
    {
     "data": {
      "text/html": [
       "<div>\n",
       "<style scoped>\n",
       "    .dataframe tbody tr th:only-of-type {\n",
       "        vertical-align: middle;\n",
       "    }\n",
       "\n",
       "    .dataframe tbody tr th {\n",
       "        vertical-align: top;\n",
       "    }\n",
       "\n",
       "    .dataframe thead th {\n",
       "        text-align: right;\n",
       "    }\n",
       "</style>\n",
       "<table border=\"1\" class=\"dataframe\">\n",
       "  <thead>\n",
       "    <tr style=\"text-align: right;\">\n",
       "      <th></th>\n",
       "      <th>userId</th>\n",
       "      <th>movieId</th>\n",
       "      <th>rating</th>\n",
       "      <th>date</th>\n",
       "      <th>original_title</th>\n",
       "      <th>genres</th>\n",
       "      <th>overview</th>\n",
       "      <th>enhanced_emb</th>\n",
       "    </tr>\n",
       "  </thead>\n",
       "  <tbody>\n",
       "    <tr>\n",
       "      <th>8066</th>\n",
       "      <td>123</td>\n",
       "      <td>0</td>\n",
       "      <td>3.0</td>\n",
       "      <td>2006-05-17 03:20:00</td>\n",
       "      <td>Ariel</td>\n",
       "      <td>Drama, Crime</td>\n",
       "      <td>Taisto Kasurinen is a Finnish coal miner whose...</td>\n",
       "      <td>[0.014193344861268997, -0.05715101957321167, -...</td>\n",
       "    </tr>\n",
       "    <tr>\n",
       "      <th>8067</th>\n",
       "      <td>123</td>\n",
       "      <td>12</td>\n",
       "      <td>4.0</td>\n",
       "      <td>2006-05-17 03:20:27</td>\n",
       "      <td>Metropolis</td>\n",
       "      <td>Drama, Science Fiction</td>\n",
       "      <td>In a futuristic city sharply divided between t...</td>\n",
       "      <td>[-0.029966622591018677, -0.016698572784662247,...</td>\n",
       "    </tr>\n",
       "    <tr>\n",
       "      <th>8068</th>\n",
       "      <td>123</td>\n",
       "      <td>66</td>\n",
       "      <td>5.0</td>\n",
       "      <td>2006-05-17 03:35:38</td>\n",
       "      <td>Trois couleurs : Rouge</td>\n",
       "      <td>Drama, Mystery, Romance</td>\n",
       "      <td>Red This is the third film from the trilogy by...</td>\n",
       "      <td>[-0.033099640160799026, -0.05097169429063797, ...</td>\n",
       "    </tr>\n",
       "    <tr>\n",
       "      <th>8069</th>\n",
       "      <td>123</td>\n",
       "      <td>185</td>\n",
       "      <td>3.0</td>\n",
       "      <td>2006-05-17 03:23:57</td>\n",
       "      <td>Le Mépris</td>\n",
       "      <td>Drama</td>\n",
       "      <td>Screenwriter Paul Javal's marriage to his wife...</td>\n",
       "      <td>[-0.024741562083363533, -0.04042617976665497, ...</td>\n",
       "    </tr>\n",
       "    <tr>\n",
       "      <th>8070</th>\n",
       "      <td>123</td>\n",
       "      <td>206</td>\n",
       "      <td>4.5</td>\n",
       "      <td>2006-05-17 03:27:34</td>\n",
       "      <td>A River Runs Through It</td>\n",
       "      <td>Drama</td>\n",
       "      <td>A River Runs Through is a cinematographically ...</td>\n",
       "      <td>[-0.03282554820179939, -0.03526582196354866, -...</td>\n",
       "    </tr>\n",
       "    <tr>\n",
       "      <th>8071</th>\n",
       "      <td>123</td>\n",
       "      <td>208</td>\n",
       "      <td>3.0</td>\n",
       "      <td>2006-05-17 03:31:18</td>\n",
       "      <td>Terminator 3: Rise of the Machines</td>\n",
       "      <td>Action, Thriller, Science Fiction</td>\n",
       "      <td>It's been 10 years since John Connor saved Ear...</td>\n",
       "      <td>[-0.023339396342635155, 0.009901013225317001, ...</td>\n",
       "    </tr>\n",
       "    <tr>\n",
       "      <th>8072</th>\n",
       "      <td>123</td>\n",
       "      <td>224</td>\n",
       "      <td>3.5</td>\n",
       "      <td>2006-05-17 03:27:00</td>\n",
       "      <td>The Million Dollar Hotel</td>\n",
       "      <td>Drama, Thriller</td>\n",
       "      <td>The Million Dollar Hotel starts with a jump fr...</td>\n",
       "      <td>[-0.030877070501446724, 0.006686699576675892, ...</td>\n",
       "    </tr>\n",
       "    <tr>\n",
       "      <th>8073</th>\n",
       "      <td>123</td>\n",
       "      <td>250</td>\n",
       "      <td>4.0</td>\n",
       "      <td>2006-05-17 03:23:48</td>\n",
       "      <td>The Devil Wears Prada</td>\n",
       "      <td>Comedy, Drama, Romance</td>\n",
       "      <td>The Devil Wears Prada is about a young journal...</td>\n",
       "      <td>[0.028154615312814713, -0.03285352513194084, 0...</td>\n",
       "    </tr>\n",
       "    <tr>\n",
       "      <th>8074</th>\n",
       "      <td>123</td>\n",
       "      <td>346</td>\n",
       "      <td>5.0</td>\n",
       "      <td>2006-05-17 03:29:50</td>\n",
       "      <td>Once Were Warriors</td>\n",
       "      <td>Drama</td>\n",
       "      <td>A drama about a Maori family lving in Auckland...</td>\n",
       "      <td>[-0.017771631479263306, -0.061194270849227905,...</td>\n",
       "    </tr>\n",
       "    <tr>\n",
       "      <th>8075</th>\n",
       "      <td>123</td>\n",
       "      <td>355</td>\n",
       "      <td>2.5</td>\n",
       "      <td>2006-05-17 03:40:48</td>\n",
       "      <td>The Man with the Golden Arm</td>\n",
       "      <td>Crime, Drama, Romance</td>\n",
       "      <td>Frankie is a heroin addict and sits in prison....</td>\n",
       "      <td>[-0.028563635423779488, 0.007999413646757603, ...</td>\n",
       "    </tr>\n",
       "  </tbody>\n",
       "</table>\n",
       "</div>"
      ],
      "text/plain": [
       "      userId  movieId  rating                date  \\\n",
       "8066     123        0     3.0 2006-05-17 03:20:00   \n",
       "8067     123       12     4.0 2006-05-17 03:20:27   \n",
       "8068     123       66     5.0 2006-05-17 03:35:38   \n",
       "8069     123      185     3.0 2006-05-17 03:23:57   \n",
       "8070     123      206     4.5 2006-05-17 03:27:34   \n",
       "8071     123      208     3.0 2006-05-17 03:31:18   \n",
       "8072     123      224     3.5 2006-05-17 03:27:00   \n",
       "8073     123      250     4.0 2006-05-17 03:23:48   \n",
       "8074     123      346     5.0 2006-05-17 03:29:50   \n",
       "8075     123      355     2.5 2006-05-17 03:40:48   \n",
       "\n",
       "                          original_title                             genres  \\\n",
       "8066                               Ariel                       Drama, Crime   \n",
       "8067                          Metropolis             Drama, Science Fiction   \n",
       "8068              Trois couleurs : Rouge            Drama, Mystery, Romance   \n",
       "8069                           Le Mépris                              Drama   \n",
       "8070             A River Runs Through It                              Drama   \n",
       "8071  Terminator 3: Rise of the Machines  Action, Thriller, Science Fiction   \n",
       "8072            The Million Dollar Hotel                    Drama, Thriller   \n",
       "8073               The Devil Wears Prada             Comedy, Drama, Romance   \n",
       "8074                  Once Were Warriors                              Drama   \n",
       "8075         The Man with the Golden Arm              Crime, Drama, Romance   \n",
       "\n",
       "                                               overview  \\\n",
       "8066  Taisto Kasurinen is a Finnish coal miner whose...   \n",
       "8067  In a futuristic city sharply divided between t...   \n",
       "8068  Red This is the third film from the trilogy by...   \n",
       "8069  Screenwriter Paul Javal's marriage to his wife...   \n",
       "8070  A River Runs Through is a cinematographically ...   \n",
       "8071  It's been 10 years since John Connor saved Ear...   \n",
       "8072  The Million Dollar Hotel starts with a jump fr...   \n",
       "8073  The Devil Wears Prada is about a young journal...   \n",
       "8074  A drama about a Maori family lving in Auckland...   \n",
       "8075  Frankie is a heroin addict and sits in prison....   \n",
       "\n",
       "                                           enhanced_emb  \n",
       "8066  [0.014193344861268997, -0.05715101957321167, -...  \n",
       "8067  [-0.029966622591018677, -0.016698572784662247,...  \n",
       "8068  [-0.033099640160799026, -0.05097169429063797, ...  \n",
       "8069  [-0.024741562083363533, -0.04042617976665497, ...  \n",
       "8070  [-0.03282554820179939, -0.03526582196354866, -...  \n",
       "8071  [-0.023339396342635155, 0.009901013225317001, ...  \n",
       "8072  [-0.030877070501446724, 0.006686699576675892, ...  \n",
       "8073  [0.028154615312814713, -0.03285352513194084, 0...  \n",
       "8074  [-0.017771631479263306, -0.061194270849227905,...  \n",
       "8075  [-0.028563635423779488, 0.007999413646757603, ...  "
      ]
     },
     "execution_count": 53,
     "metadata": {},
     "output_type": "execute_result"
    }
   ],
   "source": [
    "combined_df[combined_df[\"userId\"] == 123].head(10)"
   ]
  },
  {
   "cell_type": "markdown",
   "metadata": {},
   "source": [
    "### 3.2. Model 2"
   ]
  },
  {
   "cell_type": "markdown",
   "metadata": {},
   "source": [
    "- Increased Embedding Dimension: Model 2 uses a larger embedding dimension (128), potentially allowing for more complex feature representation compared to Model 1.\n",
    "\n",
    "- Adam Optimizer: Model 2 employs the Adam optimizer instead of SGD, which might improve convergence speed and performance due to its adaptive learning rate capabilities.\n",
    "\n",
    "- Kaiming Initialization: Model 2 includes Kaiming (He) initialization for both linear and embedding layers, aiming to improve training stability, particularly with ReLU activations."
   ]
  },
  {
   "cell_type": "code",
   "execution_count": 55,
   "metadata": {},
   "outputs": [],
   "source": [
    "class MovieModel(nn.Module):\n",
    "    def __init__(self, embedding_dim, num_users, num_movies, bert_embedding_dim):\n",
    "        super(MovieModel, self).__init__()\n",
    "        self.user_embedding = nn.Embedding(num_users, embedding_dim)\n",
    "        self.movie_embedding = nn.Embedding(num_movies, embedding_dim)\n",
    "        self.bert_embedding = nn.Linear(bert_embedding_dim, embedding_dim)\n",
    "        self.fc = nn.Sequential(\n",
    "            nn.Linear(embedding_dim * 3, 256),\n",
    "            nn.ReLU(),\n",
    "            nn.Linear(256, 128),\n",
    "            nn.ReLU(),\n",
    "            nn.Linear(128, 1)\n",
    "        )\n",
    "        \n",
    "        self._init_weights()\n",
    "\n",
    "    def _init_weights(self):\n",
    "        # Kaiming Initialization for Linear layers\n",
    "        for layer in self.fc:\n",
    "            if isinstance(layer, nn.Linear):\n",
    "                init.kaiming_normal_(layer.weight, mode='fan_in', nonlinearity='relu')\n",
    "\n",
    "        # Optionally: Kaiming Initialization for Embedding layers\n",
    "        init.kaiming_normal_(self.user_embedding.weight, mode='fan_in', nonlinearity='relu')\n",
    "        init.kaiming_normal_(self.movie_embedding.weight, mode='fan_in', nonlinearity='relu')\n",
    "\n",
    "    def forward(self, user_ids, movie_ids, bert_embeddings):\n",
    "        user_embeds = self.user_embedding(user_ids)\n",
    "        movie_embeds = self.movie_embedding(movie_ids)\n",
    "        bert_embeds = self.bert_embedding(bert_embeddings)\n",
    "        combined = torch.cat([user_embeds, movie_embeds, bert_embeds], dim=1)\n",
    "        output = self.fc(combined)\n",
    "        return output"
   ]
  },
  {
   "cell_type": "markdown",
   "metadata": {},
   "source": [
    "### 3.2.1 Defining Optimizers, Loss Functions and Instantiating the model_2"
   ]
  },
  {
   "cell_type": "code",
   "execution_count": 64,
   "metadata": {},
   "outputs": [],
   "source": [
    "# Initialize the model\n",
    "embedding_dim = 64\n",
    "num_users = len(user_encoder.classes_)  # Make sure you have defined user_encoder earlier\n",
    "num_movies = len(movie_encoder.classes_)  # Make sure you have defined movie_encoder earlier\n",
    "model_2 = MovieModel(embedding_dim, num_users=num_users, num_movies=num_movies, bert_embedding_dim=772)\n",
    "\n",
    "# Define loss function and optimizer\n",
    "criterion = nn.MSELoss()\n",
    "optimizer_2 = optim.Adam(model_2.parameters(), lr=0.001)"
   ]
  },
  {
   "cell_type": "markdown",
   "metadata": {},
   "source": [
    "### 3.2.2 Training Loop"
   ]
  },
  {
   "cell_type": "code",
   "execution_count": 65,
   "metadata": {},
   "outputs": [
    {
     "name": "stdout",
     "output_type": "stream",
     "text": [
      "Epoch [1/10] - Train Loss: 1.0496989225870685 - Train RMSE: 1.0245481729507446 - Validation Loss: 0.8522514578174142 - Validation RMSE: 0.9231746792793274\n",
      "Epoch [2/10] - Train Loss: 0.7650793264865091 - Train RMSE: 0.8746881484985352 - Validation Loss: 0.8538871688001296 - Validation RMSE: 0.9240601658821106\n",
      "Epoch [3/10] - Train Loss: 0.6865825484457769 - Train RMSE: 0.8286027908325195 - Validation Loss: 0.8708678440136068 - Validation RMSE: 0.9332029819488525\n",
      "Epoch [4/10] - Train Loss: 0.6127825061251458 - Train RMSE: 0.7828042507171631 - Validation Loss: 0.8678574141334084 - Validation RMSE: 0.9315886497497559\n",
      "Epoch [5/10] - Train Loss: 0.5246972858562673 - Train RMSE: 0.724359929561615 - Validation Loss: 0.9510885915335487 - Validation RMSE: 0.9752377271652222\n",
      "Epoch [6/10] - Train Loss: 0.4366254539130942 - Train RMSE: 0.6607763767242432 - Validation Loss: 1.0186656029785381 - Validation RMSE: 1.0092896223068237\n",
      "Epoch [7/10] - Train Loss: 0.35456483867509586 - Train RMSE: 0.5954535007476807 - Validation Loss: 1.0043036271544064 - Validation RMSE: 1.0021494626998901\n",
      "Epoch [8/10] - Train Loss: 0.28584937442486225 - Train RMSE: 0.5346488356590271 - Validation Loss: 1.0253688132061678 - Validation RMSE: 1.0126049518585205\n",
      "Epoch [9/10] - Train Loss: 0.23118141227352776 - Train RMSE: 0.48081329464912415 - Validation Loss: 1.0740327712367563 - Validation RMSE: 1.0363554954528809\n",
      "Epoch [10/10] - Train Loss: 0.18797275681342734 - Train RMSE: 0.43355825543403625 - Validation Loss: 1.0869859982939327 - Validation RMSE: 1.0425862073898315\n",
      "Training complete.\n"
     ]
    },
    {
     "data": {
      "image/png": "[encoded data removed]",
      "text/plain": [
       "<Figure size 600x600 with 1 Axes>"
      ]
     },
     "metadata": {},
     "output_type": "display_data"
    },
    {
     "data": {
      "image/png": "[encoded data removed]",
      "text/plain": [
       "<Figure size 600x600 with 1 Axes>"
      ]
     },
     "metadata": {},
     "output_type": "display_data"
    }
   ],
   "source": [
    "train_losses, val_losses, train_rmse_values, val_rmse_values = train_model(model_2, train_loader, val_loader, optimizer_2, criterion, num_epochs=10)\n",
    "\n",
    "plot_training_results(train_losses, val_losses, train_rmse_values, val_rmse_values, \"Model 2 - Adam, Kaiming \")\n"
   ]
  },
  {
   "cell_type": "markdown",
   "metadata": {},
   "source": [
    "### Complete Over-fitting we can see Validation loss and RMSE have increased as epochs increase"
   ]
  },
  {
   "cell_type": "markdown",
   "metadata": {},
   "source": [
    "### 3.3. Model - 3"
   ]
  },
  {
   "cell_type": "markdown",
   "metadata": {},
   "source": []
  },
  {
   "cell_type": "markdown",
   "metadata": {},
   "source": [
    "### 3.2.1 Defining Model Class"
   ]
  },
  {
   "cell_type": "code",
   "execution_count": 68,
   "metadata": {},
   "outputs": [],
   "source": [
    "class MovieModel(nn.Module):\n",
    "    def __init__(self, embedding_dim, num_users, num_movies, bert_embedding_dim, dropout_rate):\n",
    "        super(MovieModel, self).__init__()\n",
    "        self.user_embedding = nn.Embedding(num_users, embedding_dim)\n",
    "        self.movie_embedding = nn.Embedding(num_movies, embedding_dim)\n",
    "        self.bert_embedding = nn.Linear(bert_embedding_dim, embedding_dim)\n",
    "        self.fc = nn.Sequential(\n",
    "            nn.Linear(embedding_dim * 3, 512),  # Increased first layer size\n",
    "            nn.ReLU(),\n",
    "            nn.Dropout(dropout_rate),\n",
    "            nn.Linear(512, 256),  # Additional hidden layer\n",
    "            nn.ReLU(),\n",
    "            nn.Dropout(dropout_rate),\n",
    "            nn.Linear(256, 128),\n",
    "            nn.ReLU(),\n",
    "            nn.Dropout(dropout_rate),\n",
    "            nn.Linear(128, 1)\n",
    "        )\n",
    "        self._init_weights()\n",
    "\n",
    "    def _init_weights(self):\n",
    "        # Kaiming Initialization for Linear layers\n",
    "        for layer in self.fc:\n",
    "            if isinstance(layer, nn.Linear):\n",
    "                init.kaiming_normal_(layer.weight, mode='fan_in', nonlinearity='relu')\n",
    "\n",
    "        # Optionally: Kaiming Initialization for Embedding layers\n",
    "        init.kaiming_normal_(self.user_embedding.weight, mode='fan_in', nonlinearity='relu')\n",
    "        init.kaiming_normal_(self.movie_embedding.weight, mode='fan_in', nonlinearity='relu')\n",
    "    \n",
    "    def forward(self, user_ids, movie_ids, bert_embeddings):\n",
    "            user_embeds = self.user_embedding(user_ids)\n",
    "            movie_embeds = self.movie_embedding(movie_ids)\n",
    "            bert_embeds = self.bert_embedding(bert_embeddings)\n",
    "            combined = torch.cat([user_embeds, movie_embeds, bert_embeds], dim=1)\n",
    "            output = self.fc(combined)\n",
    "            return output\n",
    "\n"
   ]
  },
  {
   "cell_type": "markdown",
   "metadata": {},
   "source": [
    "### 3.3.2 Defining Optimizers, Loss Functions and Instantiating the model_3"
   ]
  },
  {
   "cell_type": "code",
   "execution_count": 69,
   "metadata": {},
   "outputs": [],
   "source": [
    "# Initialize the modified Model 3\n",
    "dropout_rate = 0.3\n",
    "model_3 = MovieModel(embedding_dim=128, num_users=num_users, num_movies=num_movies, bert_embedding_dim=772, dropout_rate=dropout_rate)\n",
    "\n",
    "# Optimizer with weight decay\n",
    "optimizer_3 = optim.Adam(model_3.parameters(), lr=0.01, weight_decay=0.001)"
   ]
  },
  {
   "cell_type": "markdown",
   "metadata": {},
   "source": [
    "### 3.3.3 Training Loop"
   ]
  },
  {
   "cell_type": "code",
   "execution_count": null,
   "metadata": {},
   "outputs": [],
   "source": []
  },
  {
   "cell_type": "code",
   "execution_count": null,
   "metadata": {},
   "outputs": [],
   "source": []
  }
 ],
 "metadata": {
  "kernelspec": {
   "display_name": "ee541",
   "language": "python",
   "name": "python3"
  },
  "language_info": {
   "codemirror_mode": {
    "name": "ipython",
    "version": 3
   },
   "file_extension": ".py",
   "mimetype": "text/x-python",
   "name": "python",
   "nbconvert_exporter": "python",
   "pygments_lexer": "ipython3",
   "version": "3.11.6"
  }
 },
 "nbformat": 4,
 "nbformat_minor": 2
}
