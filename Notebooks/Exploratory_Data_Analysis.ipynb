{
 "cells": [
  {
   "cell_type": "markdown",
   "metadata": {},
   "source": [
    "### File: Exploratory_Data_Analysis.ipynb - CineMatch\n",
    "\n",
    "- Contributor: Sudesh Kumar Santhosh Kumar\n",
    "- Email: santhosh@usc.edu\n",
    "- GitHub: [Sudesh Kumar](https://github.com/SudeshKumarSanthosh)\n",
    "- Date: 4th December, 2023\n",
    "\n",
    "### Description:\n",
    "\n",
    "This Jupyter Notebook serves as the backbone of the CineMatch project's initial data exploration stage. Within these pages lies a comprehensive analysis of the MovieLens dataset, a treasure trove of movie-related information. The notebook meticulously dissects various facets of the dataset, including plots, genres, production details, financial metrics, and popularity scores.\n",
    "\n",
    "`Key highlights of this exploratory analysis include:`\n",
    "\n",
    "* Detailed statistical summaries and visualizations that uncover underlying patterns and trends in movie data.\n",
    "\n",
    "* A thorough examination of the dataset's structure and content, laying the groundwork for the application of advanced deep learning and transformer technologies in CineMatch.\n",
    "\n",
    "* Insightful correlations and comparisons between different cinematic attributes, offering a multifaceted understanding of what shapes movie popularity and viewer preferences.\n",
    "\n",
    "* Innovative approaches to data cleaning and preprocessing, ensuring the integrity and usability of the dataset for further modeling.\n",
    "\n",
    "This exploratory data analysis is not just a preliminary step but a crucial foundation for the sophisticated recommendation algorithms that will drive CineMatch. It aims to provide a clear, data-informed picture of the diverse landscape of cinema, setting the stage for a personalized and enriched movie selection experience."
   ]
  },
  {
   "cell_type": "markdown",
   "metadata": {},
   "source": [
    "## Part 1 - Installation and Dataset Loading\n",
    "-----"
   ]
  },
  {
   "cell_type": "markdown",
   "metadata": {},
   "source": [
    "### S1. Setting up the notebook"
   ]
  },
  {
   "cell_type": "markdown",
   "metadata": {},
   "source": [
    "### 1.1. Importing all necessary packages"
   ]
  },
  {
   "cell_type": "code",
   "execution_count": null,
   "metadata": {},
   "outputs": [],
   "source": [
    "import string\n",
    "import re\n",
    "import pandas as pd\n",
    "import numpy as np\n",
    "import seaborn as sns\n",
    "import matplotlib.pyplot as plt\n",
    "\n",
    "from collections import Counter\n",
    "from typing import Dict, Text\n",
    "from ast import literal_eval\n",
    "from datetime import datetime\n",
    "from wordcloud import WordCloud\n"
   ]
  },
  {
   "cell_type": "markdown",
   "metadata": {},
   "source": []
  }
 ],
 "metadata": {
  "kernelspec": {
   "display_name": "ee541",
   "language": "python",
   "name": "python3"
  },
  "language_info": {
   "name": "python",
   "version": "3.11.6"
  }
 },
 "nbformat": 4,
 "nbformat_minor": 2
}
