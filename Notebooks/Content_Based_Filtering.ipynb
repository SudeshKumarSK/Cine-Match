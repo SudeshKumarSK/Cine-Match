{
 "cells": [
  {
   "cell_type": "markdown",
   "metadata": {},
   "source": [
    "### 🎥 Cine-Match - Movie Recommendation System 📹\n"
   ]
  },
  {
   "cell_type": "markdown",
   "metadata": {},
   "source": [
    "### File: Content_Based_Filtering.ipynb - CineMatch\n",
    "\n",
    "- Contributor: Sudesh Kumar Santhosh Kumar\n",
    "- Email: santhosh@usc.edu\n",
    "- GitHub: [Sudesh Kumar](https://github.com/SudeshKumarSanthosh)\n",
    "- Date: 5th December, 2023\n",
    "- Course: EE-541 Introduction to Deep Learning\n",
    "- Team:\n",
    "  - Sudesh Kumar Santhosh Kumar\n",
    "  - Ori Shirin\n",
    "\n",
    "### Description:\n",
    "\n",
    "This notebook, Content_Based_Filtering.ipynb, is dedicated to the development of the CineMatch recommender system's content-based filtering component. The journey begins with the importation of our meticulously curated dataset, which is an amalgamation of credits and movie metadata, refined and transformed through previous stages of exploratory data analysis and preprocessing.\n",
    "\n",
    "Within these digital pages, we delve into a myriad of sophisticated techniques designed to enhance the art of recommendation. By harnessing the dual forces of weighted scores and popularity metrics, we aim to distill a distilled essence of cinematic appeal, balancing the scales between audience adoration and critical acclaim.\n",
    "\n",
    "Moving beyond the realm of numerical heuristics, we employ the power of cosine similarity to unearth the subtle connections woven throughout the tapestry of movie genres, plot descriptions.\n"
   ]
  },
  {
   "cell_type": "markdown",
   "metadata": {},
   "source": [
    "## Part 1 - Installation and Dataset Loading\n",
    "\n",
    "---\n"
   ]
  },
  {
   "cell_type": "markdown",
   "metadata": {},
   "source": [
    "### S1. Setting up the notebook\n"
   ]
  },
  {
   "cell_type": "markdown",
   "metadata": {},
   "source": [
    "### Uncomment the following lines to run the script in Google Colab."
   ]
  },
  {
   "cell_type": "code",
   "execution_count": 70,
   "metadata": {},
   "outputs": [],
   "source": [
    "# !pip install transformers"
   ]
  },
  {
   "cell_type": "code",
   "execution_count": 71,
   "metadata": {},
   "outputs": [],
   "source": [
    "# !pip install sentence_transformers"
   ]
  },
  {
   "cell_type": "code",
   "execution_count": 72,
   "metadata": {},
   "outputs": [],
   "source": [
    "# !pip install torch scikit-learn"
   ]
  },
  {
   "cell_type": "markdown",
   "metadata": {},
   "source": [
    "### 1.1. Importing all necessary packages\n"
   ]
  },
  {
   "cell_type": "code",
   "execution_count": 73,
   "metadata": {},
   "outputs": [],
   "source": [
    "import os\n",
    "import time\n",
    "\n",
    "import pandas as pd\n",
    "import numpy as np\n",
    "import seaborn as sns\n",
    "import matplotlib.pyplot as plt\n",
    "from IPython.display import Image\n",
    "\n",
    "\n",
    "from sklearn.preprocessing import MinMaxScaler\n",
    "from sklearn.feature_extraction.text import TfidfVectorizer\n",
    "from sklearn.metrics.pairwise import cosine_similarity\n",
    "\n",
    "from sentence_transformers import SentenceTransformer\n",
    "import torch\n",
    "from transformers import AutoTokenizer, AutoModelForSequenceClassification\n",
    "\n",
    "# Uncomment while using Google Colab to mount your drive to this notebook.\n",
    "# from google.colab import drive\n",
    "# drive.mount('/content/drive')"
   ]
  },
  {
   "cell_type": "markdown",
   "metadata": {},
   "source": [
    "### 1.2. Defining Directories and Helper Functions\n"
   ]
  },
  {
   "cell_type": "code",
   "execution_count": 74,
   "metadata": {},
   "outputs": [
    {
     "name": "stdout",
     "output_type": "stream",
     "text": [
      "                        No GPU available, using the CPU!                        \n"
     ]
    }
   ],
   "source": [
    "# Data Directory\n",
    "data_dir = \"../Input/Data/\"\n",
    "cleansed_data_dir = \"../Input/CleansedData/\"\n",
    "embeddings_dir = \"../Input/Embeddings/\"\n",
    "\n",
    "\n",
    "# Data Directory - When using google colaboratory.\n",
    "# drive/My Drive/ColabDrive/MovieData/movies_metadata.csv\n",
    "\"\"\" \n",
    "data_dir = \"drive/MyDrive/CineMatch/Input/Data/\"\n",
    "cleansed_data_dir = \"drive/MyDrive/CineMatch/Input/CleansedData/\"\n",
    "embeddings_dir = \"drive/MyDrive/CineMatch/Input/Embeddings\" \n",
    "\n",
    "\"\"\"\n",
    "\n",
    "if not os.path.exists(embeddings_dir):\n",
    "  os.makedirs(embeddings_dir)\n",
    "\n",
    "if not os.path.exists(data_dir):\n",
    "  os.makedirs(data_dir)\n",
    "\n",
    "if not os.path.exists(cleansed_data_dir):\n",
    "  os.makedirs(cleansed_data_dir)\n",
    "\n",
    "if torch.cuda.is_available():\n",
    "    device = torch.device((\"cuda\"))\n",
    "    print(\"{:^80}\".format(f\"There are {torch.cuda.device_count()} available GPU's\"))\n",
    "    print(\"{:^80}\".format(f\"We will use the GPU: {torch.cuda.get_device_name(0)}\"))\n",
    "\n",
    "else:\n",
    "    print(\"{:^80}\".format(\"No GPU available, using the CPU!\"))\n",
    "    device = torch.device(\"cpu\")\n",
    "\n",
    "model_name='bert-base-uncased'\n",
    "# Load the tokenizer for the specified model\n",
    "tokenizer = AutoTokenizer.from_pretrained(model_name)\n"
   ]
  },
  {
   "cell_type": "code",
   "execution_count": 75,
   "metadata": {},
   "outputs": [],
   "source": [
    "def load_dataset(directory, filename):\n",
    "    \"\"\"\n",
    "    Loads a dataset from a CSV file into a Pandas DataFrame.\n",
    "\n",
    "    Parameters:\n",
    "    - file_path (str): The complete file path of the CSV file to be loaded.\n",
    "\n",
    "    Returns:\n",
    "    - pandas.DataFrame: A DataFrame containing the data from the CSV file.\n",
    "\n",
    "    This function will read the CSV file located at 'file_path' and return it as a DataFrame.\n",
    "    It assumes that the first row of the CSV file contains the headers.\n",
    "    \"\"\"\n",
    "    try:\n",
    "        file_path = os.path.join(directory, filename)\n",
    "        # Loading the dataset\n",
    "        df = pd.read_csv(file_path)\n",
    "        print(f\"Dataset loaded successfully from {file_path}\")\n",
    "        return df\n",
    "    except Exception as e:\n",
    "        print(f\"An error occurred while loading the dataset: {e}\")\n",
    "        return None\n",
    "\n",
    "\n",
    "def analyze_dataframe(df):\n",
    "    # Identifying categorical and numerical features\n",
    "    categorical_features = [col for col in df.columns if df[col].dtype == \"object\"]\n",
    "    numerical_features = [col for col in df.columns if df[col].dtype == \"float64\"]\n",
    "\n",
    "    # Printing general information about the DataFrame\n",
    "    print(f\"Shape of the Data: {df.shape}\")\n",
    "    print(f\"Total number of Data-Points in the Data, N: {df.shape[0]}\")\n",
    "    print(f\"Total number of dimensions in the Data, D: {df.shape[1]}\")\n",
    "    print()\n",
    "\n",
    "    # Printing details about features\n",
    "    print(f\"Categorical Features: {categorical_features}\")\n",
    "    print(f\"Numerical Features: {numerical_features}\")\n",
    "    print(f\"Total number of Categorical Features: {len(categorical_features)}\")\n",
    "    print(f\"Total number of Numerical Features: {len(numerical_features)}\")\n",
    "\n",
    "\n",
    "def save_dataframe(df, directory, filename=\"preprocessed_data.csv\"):\n",
    "    \"\"\"\n",
    "    Saves the given DataFrame to a CSV file in the specified directory.\n",
    "\n",
    "    Parameters:\n",
    "    - df (pandas.DataFrame): The DataFrame to be saved.\n",
    "    - directory (str): Path of the directory where the CSV file will be saved.\n",
    "    - filename (str, optional): Name of the CSV file. Defaults to 'preprocessed_data.csv'.\n",
    "\n",
    "    The function will create the directory if it does not exist. The DataFrame is saved\n",
    "    without the index.\n",
    "    \"\"\"\n",
    "    # Constructing the full file path\n",
    "    file_path = os.path.join(directory, filename)\n",
    "\n",
    "    # Creating the directory if it doesn't exist\n",
    "    if not os.path.exists(directory):\n",
    "        os.makedirs(directory)\n",
    "\n",
    "    # Saving the DataFrame as a CSV file\n",
    "    df.to_csv(file_path, index=False)\n",
    "    print(f\"DataFrame saved successfully to {file_path}\")"
   ]
  },
  {
   "cell_type": "markdown",
   "metadata": {},
   "source": [
    "### 1.3 Loading the Cleaned dataset into the notebook\n"
   ]
  },
  {
   "cell_type": "code",
   "execution_count": 76,
   "metadata": {},
   "outputs": [
    {
     "name": "stdout",
     "output_type": "stream",
     "text": [
      "Dataset loaded successfully from ../Input/CleansedData/Movies.csv\n"
     ]
    }
   ],
   "source": [
    "df = load_dataset(cleansed_data_dir, \"Movies.csv\")"
   ]
  },
  {
   "cell_type": "code",
   "execution_count": 77,
   "metadata": {},
   "outputs": [
    {
     "name": "stdout",
     "output_type": "stream",
     "text": [
      "adult                   0\n",
      "budget                  0\n",
      "genres                  0\n",
      "id                      0\n",
      "original_language       0\n",
      "original_title          0\n",
      "overview                0\n",
      "popularity              0\n",
      "production_companies    0\n",
      "production_countries    0\n",
      "release_date            0\n",
      "revenue                 0\n",
      "runtime                 0\n",
      "spoken_languages        0\n",
      "vote_average            0\n",
      "vote_count              0\n",
      "keywords                0\n",
      "crew                    0\n",
      "characters              0\n",
      "actors                  0\n",
      "dtype: int64\n"
     ]
    }
   ],
   "source": [
    "missing_values = df.isnull().sum()\n",
    "print(missing_values)"
   ]
  },
  {
   "cell_type": "markdown",
   "metadata": {},
   "source": [
    "### 1.4. Overview of the Loaded Dataset\n"
   ]
  },
  {
   "cell_type": "code",
   "execution_count": 78,
   "metadata": {},
   "outputs": [
    {
     "data": {
      "text/html": [
       "<div>\n",
       "<style scoped>\n",
       "    .dataframe tbody tr th:only-of-type {\n",
       "        vertical-align: middle;\n",
       "    }\n",
       "\n",
       "    .dataframe tbody tr th {\n",
       "        vertical-align: top;\n",
       "    }\n",
       "\n",
       "    .dataframe thead th {\n",
       "        text-align: right;\n",
       "    }\n",
       "</style>\n",
       "<table border=\"1\" class=\"dataframe\">\n",
       "  <thead>\n",
       "    <tr style=\"text-align: right;\">\n",
       "      <th></th>\n",
       "      <th>adult</th>\n",
       "      <th>budget</th>\n",
       "      <th>genres</th>\n",
       "      <th>id</th>\n",
       "      <th>original_language</th>\n",
       "      <th>original_title</th>\n",
       "      <th>overview</th>\n",
       "      <th>popularity</th>\n",
       "      <th>production_companies</th>\n",
       "      <th>production_countries</th>\n",
       "      <th>release_date</th>\n",
       "      <th>revenue</th>\n",
       "      <th>runtime</th>\n",
       "      <th>spoken_languages</th>\n",
       "      <th>vote_average</th>\n",
       "      <th>vote_count</th>\n",
       "      <th>keywords</th>\n",
       "      <th>crew</th>\n",
       "      <th>characters</th>\n",
       "      <th>actors</th>\n",
       "    </tr>\n",
       "  </thead>\n",
       "  <tbody>\n",
       "    <tr>\n",
       "      <th>0</th>\n",
       "      <td>False</td>\n",
       "      <td>30000000.0</td>\n",
       "      <td>Animation, Comedy, Family</td>\n",
       "      <td>862</td>\n",
       "      <td>en</td>\n",
       "      <td>Toy Story</td>\n",
       "      <td>Led by Woody, Andy's toys live happily in his ...</td>\n",
       "      <td>21.946943</td>\n",
       "      <td>Pixar Animation Studios</td>\n",
       "      <td>United States of America</td>\n",
       "      <td>1995-10-30</td>\n",
       "      <td>373554033.0</td>\n",
       "      <td>81.0</td>\n",
       "      <td>English</td>\n",
       "      <td>7.7</td>\n",
       "      <td>5415.0</td>\n",
       "      <td>jealousy, toy, boy, friendship, friends, rival...</td>\n",
       "      <td>John Lasseter, Joss Whedon, Andrew Stanton, Jo...</td>\n",
       "      <td>Woody (voice), Buzz Lightyear (voice), Mr. Pot...</td>\n",
       "      <td>Tom Hanks, Tim Allen, Don Rickles, Jim Varney,...</td>\n",
       "    </tr>\n",
       "    <tr>\n",
       "      <th>1</th>\n",
       "      <td>False</td>\n",
       "      <td>65000000.0</td>\n",
       "      <td>Adventure, Fantasy, Family</td>\n",
       "      <td>8844</td>\n",
       "      <td>en</td>\n",
       "      <td>Jumanji</td>\n",
       "      <td>When siblings Judy and Peter discover an encha...</td>\n",
       "      <td>17.015539</td>\n",
       "      <td>TriStar Pictures, Teitler Film, Interscope Com...</td>\n",
       "      <td>United States of America</td>\n",
       "      <td>1995-12-15</td>\n",
       "      <td>262797249.0</td>\n",
       "      <td>104.0</td>\n",
       "      <td>English, Français</td>\n",
       "      <td>6.9</td>\n",
       "      <td>2413.0</td>\n",
       "      <td>board game, disappearance, based on children's...</td>\n",
       "      <td>Larry J. Franco, Jonathan Hensleigh, James Hor...</td>\n",
       "      <td>Alan Parrish, Samuel Alan Parrish / Van Pelt, ...</td>\n",
       "      <td>Robin Williams, Jonathan Hyde, Kirsten Dunst, ...</td>\n",
       "    </tr>\n",
       "    <tr>\n",
       "      <th>2</th>\n",
       "      <td>False</td>\n",
       "      <td>0.0</td>\n",
       "      <td>Romance, Comedy</td>\n",
       "      <td>15602</td>\n",
       "      <td>en</td>\n",
       "      <td>Grumpier Old Men</td>\n",
       "      <td>A family wedding reignites the ancient feud be...</td>\n",
       "      <td>11.712900</td>\n",
       "      <td>Warner Bros., Lancaster Gate</td>\n",
       "      <td>United States of America</td>\n",
       "      <td>1995-12-22</td>\n",
       "      <td>0.0</td>\n",
       "      <td>101.0</td>\n",
       "      <td>English</td>\n",
       "      <td>6.5</td>\n",
       "      <td>92.0</td>\n",
       "      <td>fishing, best friend, duringcreditsstinger, ol...</td>\n",
       "      <td>Howard Deutch, Mark Steven Johnson, Mark Steve...</td>\n",
       "      <td>Max Goldman, John Gustafson, Ariel Gustafson, ...</td>\n",
       "      <td>Walter Matthau, Jack Lemmon, Ann-Margret, Soph...</td>\n",
       "    </tr>\n",
       "    <tr>\n",
       "      <th>3</th>\n",
       "      <td>False</td>\n",
       "      <td>16000000.0</td>\n",
       "      <td>Comedy, Drama, Romance</td>\n",
       "      <td>31357</td>\n",
       "      <td>en</td>\n",
       "      <td>Waiting to Exhale</td>\n",
       "      <td>Cheated on, mistreated and stepped on, the wom...</td>\n",
       "      <td>3.859495</td>\n",
       "      <td>Twentieth Century Fox Film Corporation</td>\n",
       "      <td>United States of America</td>\n",
       "      <td>1995-12-22</td>\n",
       "      <td>81452156.0</td>\n",
       "      <td>127.0</td>\n",
       "      <td>English</td>\n",
       "      <td>6.1</td>\n",
       "      <td>34.0</td>\n",
       "      <td>based on novel, interracial relationship, sing...</td>\n",
       "      <td>Forest Whitaker, Ronald Bass, Ronald Bass, Ezr...</td>\n",
       "      <td>Savannah 'Vannah' Jackson, Bernadine 'Bernie' ...</td>\n",
       "      <td>Whitney Houston, Angela Bassett, Loretta Devin...</td>\n",
       "    </tr>\n",
       "    <tr>\n",
       "      <th>4</th>\n",
       "      <td>False</td>\n",
       "      <td>0.0</td>\n",
       "      <td>Comedy</td>\n",
       "      <td>11862</td>\n",
       "      <td>en</td>\n",
       "      <td>Father of the Bride Part II</td>\n",
       "      <td>Just when George Banks has recovered from his ...</td>\n",
       "      <td>8.387519</td>\n",
       "      <td>Sandollar Productions, Touchstone Pictures</td>\n",
       "      <td>United States of America</td>\n",
       "      <td>1995-02-10</td>\n",
       "      <td>76578911.0</td>\n",
       "      <td>106.0</td>\n",
       "      <td>English</td>\n",
       "      <td>5.7</td>\n",
       "      <td>173.0</td>\n",
       "      <td>baby, midlife crisis, confidence, aging, daugh...</td>\n",
       "      <td>Alan Silvestri, Elliot Davis, Nancy Meyers, Na...</td>\n",
       "      <td>George Banks, Nina Banks, Franck Eggelhoffer, ...</td>\n",
       "      <td>Steve Martin, Diane Keaton, Martin Short, Kimb...</td>\n",
       "    </tr>\n",
       "  </tbody>\n",
       "</table>\n",
       "</div>"
      ],
      "text/plain": [
       "   adult      budget                      genres     id original_language  \\\n",
       "0  False  30000000.0   Animation, Comedy, Family    862                en   \n",
       "1  False  65000000.0  Adventure, Fantasy, Family   8844                en   \n",
       "2  False         0.0             Romance, Comedy  15602                en   \n",
       "3  False  16000000.0      Comedy, Drama, Romance  31357                en   \n",
       "4  False         0.0                      Comedy  11862                en   \n",
       "\n",
       "                original_title  \\\n",
       "0                    Toy Story   \n",
       "1                      Jumanji   \n",
       "2             Grumpier Old Men   \n",
       "3            Waiting to Exhale   \n",
       "4  Father of the Bride Part II   \n",
       "\n",
       "                                            overview  popularity  \\\n",
       "0  Led by Woody, Andy's toys live happily in his ...   21.946943   \n",
       "1  When siblings Judy and Peter discover an encha...   17.015539   \n",
       "2  A family wedding reignites the ancient feud be...   11.712900   \n",
       "3  Cheated on, mistreated and stepped on, the wom...    3.859495   \n",
       "4  Just when George Banks has recovered from his ...    8.387519   \n",
       "\n",
       "                                production_companies  \\\n",
       "0                            Pixar Animation Studios   \n",
       "1  TriStar Pictures, Teitler Film, Interscope Com...   \n",
       "2                       Warner Bros., Lancaster Gate   \n",
       "3             Twentieth Century Fox Film Corporation   \n",
       "4         Sandollar Productions, Touchstone Pictures   \n",
       "\n",
       "       production_countries release_date      revenue  runtime  \\\n",
       "0  United States of America   1995-10-30  373554033.0     81.0   \n",
       "1  United States of America   1995-12-15  262797249.0    104.0   \n",
       "2  United States of America   1995-12-22          0.0    101.0   \n",
       "3  United States of America   1995-12-22   81452156.0    127.0   \n",
       "4  United States of America   1995-02-10   76578911.0    106.0   \n",
       "\n",
       "    spoken_languages  vote_average  vote_count  \\\n",
       "0            English           7.7      5415.0   \n",
       "1  English, Français           6.9      2413.0   \n",
       "2            English           6.5        92.0   \n",
       "3            English           6.1        34.0   \n",
       "4            English           5.7       173.0   \n",
       "\n",
       "                                            keywords  \\\n",
       "0  jealousy, toy, boy, friendship, friends, rival...   \n",
       "1  board game, disappearance, based on children's...   \n",
       "2  fishing, best friend, duringcreditsstinger, ol...   \n",
       "3  based on novel, interracial relationship, sing...   \n",
       "4  baby, midlife crisis, confidence, aging, daugh...   \n",
       "\n",
       "                                                crew  \\\n",
       "0  John Lasseter, Joss Whedon, Andrew Stanton, Jo...   \n",
       "1  Larry J. Franco, Jonathan Hensleigh, James Hor...   \n",
       "2  Howard Deutch, Mark Steven Johnson, Mark Steve...   \n",
       "3  Forest Whitaker, Ronald Bass, Ronald Bass, Ezr...   \n",
       "4  Alan Silvestri, Elliot Davis, Nancy Meyers, Na...   \n",
       "\n",
       "                                          characters  \\\n",
       "0  Woody (voice), Buzz Lightyear (voice), Mr. Pot...   \n",
       "1  Alan Parrish, Samuel Alan Parrish / Van Pelt, ...   \n",
       "2  Max Goldman, John Gustafson, Ariel Gustafson, ...   \n",
       "3  Savannah 'Vannah' Jackson, Bernadine 'Bernie' ...   \n",
       "4  George Banks, Nina Banks, Franck Eggelhoffer, ...   \n",
       "\n",
       "                                              actors  \n",
       "0  Tom Hanks, Tim Allen, Don Rickles, Jim Varney,...  \n",
       "1  Robin Williams, Jonathan Hyde, Kirsten Dunst, ...  \n",
       "2  Walter Matthau, Jack Lemmon, Ann-Margret, Soph...  \n",
       "3  Whitney Houston, Angela Bassett, Loretta Devin...  \n",
       "4  Steve Martin, Diane Keaton, Martin Short, Kimb...  "
      ]
     },
     "execution_count": 78,
     "metadata": {},
     "output_type": "execute_result"
    }
   ],
   "source": [
    "df.head()"
   ]
  },
  {
   "cell_type": "code",
   "execution_count": 79,
   "metadata": {},
   "outputs": [
    {
     "name": "stdout",
     "output_type": "stream",
     "text": [
      "<class 'pandas.core.frame.DataFrame'>\n",
      "RangeIndex: 42363 entries, 0 to 42362\n",
      "Data columns (total 20 columns):\n",
      " #   Column                Non-Null Count  Dtype  \n",
      "---  ------                --------------  -----  \n",
      " 0   adult                 42363 non-null  bool   \n",
      " 1   budget                42363 non-null  float64\n",
      " 2   genres                42363 non-null  object \n",
      " 3   id                    42363 non-null  int64  \n",
      " 4   original_language     42363 non-null  object \n",
      " 5   original_title        42363 non-null  object \n",
      " 6   overview              42363 non-null  object \n",
      " 7   popularity            42363 non-null  float64\n",
      " 8   production_companies  42363 non-null  object \n",
      " 9   production_countries  42363 non-null  object \n",
      " 10  release_date          42363 non-null  object \n",
      " 11  revenue               42363 non-null  float64\n",
      " 12  runtime               42363 non-null  float64\n",
      " 13  spoken_languages      42363 non-null  object \n",
      " 14  vote_average          42363 non-null  float64\n",
      " 15  vote_count            42363 non-null  float64\n",
      " 16  keywords              42363 non-null  object \n",
      " 17  crew                  42363 non-null  object \n",
      " 18  characters            42363 non-null  object \n",
      " 19  actors                42363 non-null  object \n",
      "dtypes: bool(1), float64(6), int64(1), object(12)\n",
      "memory usage: 6.2+ MB\n"
     ]
    }
   ],
   "source": [
    "df.info()"
   ]
  },
  {
   "cell_type": "code",
   "execution_count": 80,
   "metadata": {},
   "outputs": [
    {
     "name": "stdout",
     "output_type": "stream",
     "text": [
      "Shape of the Data: (42363, 20)\n",
      "Total number of Data-Points in the Data, N: 42363\n",
      "Total number of dimensions in the Data, D: 20\n",
      "\n",
      "Categorical Features: ['genres', 'original_language', 'original_title', 'overview', 'production_companies', 'production_countries', 'release_date', 'spoken_languages', 'keywords', 'crew', 'characters', 'actors']\n",
      "Numerical Features: ['budget', 'popularity', 'revenue', 'runtime', 'vote_average', 'vote_count']\n",
      "Total number of Categorical Features: 12\n",
      "Total number of Numerical Features: 6\n"
     ]
    }
   ],
   "source": [
    "analyze_dataframe(df)"
   ]
  },
  {
   "cell_type": "markdown",
   "metadata": {},
   "source": [
    "## Part 2 - Feature Engineering\n",
    "\n",
    "---\n"
   ]
  },
  {
   "cell_type": "markdown",
   "metadata": {},
   "source": [
    "### 2.1. Generating weighted rating as a new feature\n"
   ]
  },
  {
   "cell_type": "markdown",
   "metadata": {},
   "source": [
    "We will compute a weighted_score / weighted_rating which is calculated from the numerical features like `vote_count` and `vote_average`. This is computed as follows:\n"
   ]
  },
  {
   "cell_type": "code",
   "execution_count": 81,
   "metadata": {},
   "outputs": [
    {
     "data": {
      "image/jpeg": "[encoded data removed]",
      "text/plain": [
       "<IPython.core.display.Image object>"
      ]
     },
     "execution_count": 81,
     "metadata": {},
     "output_type": "execute_result"
    }
   ],
   "source": [
    "Image(filename=\"../Input/weighted.jpg\")"
   ]
  },
  {
   "cell_type": "code",
   "execution_count": 82,
   "metadata": {},
   "outputs": [],
   "source": [
    "R = df[\"vote_average\"]\n",
    "v = df[\"vote_count\"]\n",
    "\n",
    "# We will only consider movies that have more votes than at least 80% of the movies in our dataset\n",
    "m = df[\"vote_count\"].quantile(0.8)\n",
    "C = df[\"vote_average\"].mean()\n",
    "\n",
    "df[\"weighted_average\"] = (R * v + C * m) / (v + m)"
   ]
  },
  {
   "cell_type": "code",
   "execution_count": 83,
   "metadata": {},
   "outputs": [
    {
     "data": {
      "text/html": [
       "<div>\n",
       "<style scoped>\n",
       "    .dataframe tbody tr th:only-of-type {\n",
       "        vertical-align: middle;\n",
       "    }\n",
       "\n",
       "    .dataframe tbody tr th {\n",
       "        vertical-align: top;\n",
       "    }\n",
       "\n",
       "    .dataframe thead th {\n",
       "        text-align: right;\n",
       "    }\n",
       "</style>\n",
       "<table border=\"1\" class=\"dataframe\">\n",
       "  <thead>\n",
       "    <tr style=\"text-align: right;\">\n",
       "      <th></th>\n",
       "      <th>adult</th>\n",
       "      <th>budget</th>\n",
       "      <th>genres</th>\n",
       "      <th>id</th>\n",
       "      <th>original_language</th>\n",
       "      <th>original_title</th>\n",
       "      <th>overview</th>\n",
       "      <th>popularity</th>\n",
       "      <th>production_companies</th>\n",
       "      <th>production_countries</th>\n",
       "      <th>...</th>\n",
       "      <th>revenue</th>\n",
       "      <th>runtime</th>\n",
       "      <th>spoken_languages</th>\n",
       "      <th>vote_average</th>\n",
       "      <th>vote_count</th>\n",
       "      <th>keywords</th>\n",
       "      <th>crew</th>\n",
       "      <th>characters</th>\n",
       "      <th>actors</th>\n",
       "      <th>weighted_average</th>\n",
       "    </tr>\n",
       "  </thead>\n",
       "  <tbody>\n",
       "    <tr>\n",
       "      <th>0</th>\n",
       "      <td>False</td>\n",
       "      <td>30000000.0</td>\n",
       "      <td>Animation, Comedy, Family</td>\n",
       "      <td>862</td>\n",
       "      <td>en</td>\n",
       "      <td>Toy Story</td>\n",
       "      <td>Led by Woody, Andy's toys live happily in his ...</td>\n",
       "      <td>21.946943</td>\n",
       "      <td>Pixar Animation Studios</td>\n",
       "      <td>United States of America</td>\n",
       "      <td>...</td>\n",
       "      <td>373554033.0</td>\n",
       "      <td>81.0</td>\n",
       "      <td>English</td>\n",
       "      <td>7.7</td>\n",
       "      <td>5415.0</td>\n",
       "      <td>jealousy, toy, boy, friendship, friends, rival...</td>\n",
       "      <td>John Lasseter, Joss Whedon, Andrew Stanton, Jo...</td>\n",
       "      <td>Woody (voice), Buzz Lightyear (voice), Mr. Pot...</td>\n",
       "      <td>Tom Hanks, Tim Allen, Don Rickles, Jim Varney,...</td>\n",
       "      <td>7.680916</td>\n",
       "    </tr>\n",
       "    <tr>\n",
       "      <th>1</th>\n",
       "      <td>False</td>\n",
       "      <td>65000000.0</td>\n",
       "      <td>Adventure, Fantasy, Family</td>\n",
       "      <td>8844</td>\n",
       "      <td>en</td>\n",
       "      <td>Jumanji</td>\n",
       "      <td>When siblings Judy and Peter discover an encha...</td>\n",
       "      <td>17.015539</td>\n",
       "      <td>TriStar Pictures, Teitler Film, Interscope Com...</td>\n",
       "      <td>United States of America</td>\n",
       "      <td>...</td>\n",
       "      <td>262797249.0</td>\n",
       "      <td>104.0</td>\n",
       "      <td>English, Français</td>\n",
       "      <td>6.9</td>\n",
       "      <td>2413.0</td>\n",
       "      <td>board game, disappearance, based on children's...</td>\n",
       "      <td>Larry J. Franco, Jonathan Hensleigh, James Hor...</td>\n",
       "      <td>Alan Parrish, Samuel Alan Parrish / Van Pelt, ...</td>\n",
       "      <td>Robin Williams, Jonathan Hyde, Kirsten Dunst, ...</td>\n",
       "      <td>6.874224</td>\n",
       "    </tr>\n",
       "    <tr>\n",
       "      <th>2</th>\n",
       "      <td>False</td>\n",
       "      <td>0.0</td>\n",
       "      <td>Romance, Comedy</td>\n",
       "      <td>15602</td>\n",
       "      <td>en</td>\n",
       "      <td>Grumpier Old Men</td>\n",
       "      <td>A family wedding reignites the ancient feud be...</td>\n",
       "      <td>11.712900</td>\n",
       "      <td>Warner Bros., Lancaster Gate</td>\n",
       "      <td>United States of America</td>\n",
       "      <td>...</td>\n",
       "      <td>0.0</td>\n",
       "      <td>101.0</td>\n",
       "      <td>English</td>\n",
       "      <td>6.5</td>\n",
       "      <td>92.0</td>\n",
       "      <td>fishing, best friend, duringcreditsstinger, ol...</td>\n",
       "      <td>Howard Deutch, Mark Steven Johnson, Mark Steve...</td>\n",
       "      <td>Max Goldman, John Gustafson, Ariel Gustafson, ...</td>\n",
       "      <td>Walter Matthau, Jack Lemmon, Ann-Margret, Soph...</td>\n",
       "      <td>6.198525</td>\n",
       "    </tr>\n",
       "  </tbody>\n",
       "</table>\n",
       "<p>3 rows × 21 columns</p>\n",
       "</div>"
      ],
      "text/plain": [
       "   adult      budget                      genres     id original_language  \\\n",
       "0  False  30000000.0   Animation, Comedy, Family    862                en   \n",
       "1  False  65000000.0  Adventure, Fantasy, Family   8844                en   \n",
       "2  False         0.0             Romance, Comedy  15602                en   \n",
       "\n",
       "     original_title                                           overview  \\\n",
       "0         Toy Story  Led by Woody, Andy's toys live happily in his ...   \n",
       "1           Jumanji  When siblings Judy and Peter discover an encha...   \n",
       "2  Grumpier Old Men  A family wedding reignites the ancient feud be...   \n",
       "\n",
       "   popularity                               production_companies  \\\n",
       "0   21.946943                            Pixar Animation Studios   \n",
       "1   17.015539  TriStar Pictures, Teitler Film, Interscope Com...   \n",
       "2   11.712900                       Warner Bros., Lancaster Gate   \n",
       "\n",
       "       production_countries  ...      revenue  runtime   spoken_languages  \\\n",
       "0  United States of America  ...  373554033.0     81.0            English   \n",
       "1  United States of America  ...  262797249.0    104.0  English, Français   \n",
       "2  United States of America  ...          0.0    101.0            English   \n",
       "\n",
       "  vote_average  vote_count                                           keywords  \\\n",
       "0          7.7      5415.0  jealousy, toy, boy, friendship, friends, rival...   \n",
       "1          6.9      2413.0  board game, disappearance, based on children's...   \n",
       "2          6.5        92.0  fishing, best friend, duringcreditsstinger, ol...   \n",
       "\n",
       "                                                crew  \\\n",
       "0  John Lasseter, Joss Whedon, Andrew Stanton, Jo...   \n",
       "1  Larry J. Franco, Jonathan Hensleigh, James Hor...   \n",
       "2  Howard Deutch, Mark Steven Johnson, Mark Steve...   \n",
       "\n",
       "                                          characters  \\\n",
       "0  Woody (voice), Buzz Lightyear (voice), Mr. Pot...   \n",
       "1  Alan Parrish, Samuel Alan Parrish / Van Pelt, ...   \n",
       "2  Max Goldman, John Gustafson, Ariel Gustafson, ...   \n",
       "\n",
       "                                              actors weighted_average  \n",
       "0  Tom Hanks, Tim Allen, Don Rickles, Jim Varney,...         7.680916  \n",
       "1  Robin Williams, Jonathan Hyde, Kirsten Dunst, ...         6.874224  \n",
       "2  Walter Matthau, Jack Lemmon, Ann-Margret, Soph...         6.198525  \n",
       "\n",
       "[3 rows x 21 columns]"
      ]
     },
     "execution_count": 83,
     "metadata": {},
     "output_type": "execute_result"
    }
   ],
   "source": [
    "df.head(3)"
   ]
  },
  {
   "cell_type": "code",
   "execution_count": 84,
   "metadata": {},
   "outputs": [
    {
     "name": "stdout",
     "output_type": "stream",
     "text": [
      "Shape of the Data: (42363, 21)\n",
      "Total number of Data-Points in the Data, N: 42363\n",
      "Total number of dimensions in the Data, D: 21\n",
      "\n",
      "Categorical Features: ['genres', 'original_language', 'original_title', 'overview', 'production_companies', 'production_countries', 'release_date', 'spoken_languages', 'keywords', 'crew', 'characters', 'actors']\n",
      "Numerical Features: ['budget', 'popularity', 'revenue', 'runtime', 'vote_average', 'vote_count', 'weighted_average']\n",
      "Total number of Categorical Features: 12\n",
      "Total number of Numerical Features: 7\n"
     ]
    }
   ],
   "source": [
    "analyze_dataframe(df)"
   ]
  },
  {
   "cell_type": "markdown",
   "metadata": {},
   "source": [
    "### 2.2. Standardizing Popularity and Weighted Average\n"
   ]
  },
  {
   "cell_type": "code",
   "execution_count": 85,
   "metadata": {},
   "outputs": [],
   "source": [
    "scaler = MinMaxScaler()\n",
    "\n",
    "# Scale the 'popularity' and 'weighted_average' columns\n",
    "scaled_columns = scaler.fit_transform(df[[\"popularity\", \"weighted_average\"]])\n",
    "\n",
    "# Create new columns in df for the scaled values\n",
    "df[\"scaled_popularity\"] = scaled_columns[:, 0]\n",
    "df[\"scaled_weighted_average\"] = scaled_columns[:, 1]\n",
    "\n",
    "\n",
    "weighted_df = pd.DataFrame(scaled_columns, columns=[\"popularity\", \"weighted_average\"])\n",
    "\n",
    "weighted_df.index = df[\"original_title\"]"
   ]
  },
  {
   "cell_type": "code",
   "execution_count": 86,
   "metadata": {},
   "outputs": [
    {
     "name": "stdout",
     "output_type": "stream",
     "text": [
      "<class 'pandas.core.frame.DataFrame'>\n",
      "Index: 42363 entries, Toy Story to Queerama\n",
      "Data columns (total 2 columns):\n",
      " #   Column            Non-Null Count  Dtype  \n",
      "---  ------            --------------  -----  \n",
      " 0   popularity        42363 non-null  float64\n",
      " 1   weighted_average  42363 non-null  float64\n",
      "dtypes: float64(2)\n",
      "memory usage: 992.9+ KB\n"
     ]
    },
    {
     "data": {
      "text/html": [
       "<div>\n",
       "<style scoped>\n",
       "    .dataframe tbody tr th:only-of-type {\n",
       "        vertical-align: middle;\n",
       "    }\n",
       "\n",
       "    .dataframe tbody tr th {\n",
       "        vertical-align: top;\n",
       "    }\n",
       "\n",
       "    .dataframe thead th {\n",
       "        text-align: right;\n",
       "    }\n",
       "</style>\n",
       "<table border=\"1\" class=\"dataframe\">\n",
       "  <thead>\n",
       "    <tr style=\"text-align: right;\">\n",
       "      <th></th>\n",
       "      <th>popularity</th>\n",
       "      <th>weighted_average</th>\n",
       "    </tr>\n",
       "    <tr>\n",
       "      <th>original_title</th>\n",
       "      <th></th>\n",
       "      <th></th>\n",
       "    </tr>\n",
       "  </thead>\n",
       "  <tbody>\n",
       "    <tr>\n",
       "      <th>Toy Story</th>\n",
       "      <td>0.040087</td>\n",
       "      <td>0.811146</td>\n",
       "    </tr>\n",
       "    <tr>\n",
       "      <th>Jumanji</th>\n",
       "      <td>0.031079</td>\n",
       "      <td>0.681191</td>\n",
       "    </tr>\n",
       "    <tr>\n",
       "      <th>Grumpier Old Men</th>\n",
       "      <td>0.021394</td>\n",
       "      <td>0.572338</td>\n",
       "    </tr>\n",
       "    <tr>\n",
       "      <th>Waiting to Exhale</th>\n",
       "      <td>0.007049</td>\n",
       "      <td>0.513422</td>\n",
       "    </tr>\n",
       "    <tr>\n",
       "      <th>Father of the Bride Part II</th>\n",
       "      <td>0.015320</td>\n",
       "      <td>0.490365</td>\n",
       "    </tr>\n",
       "  </tbody>\n",
       "</table>\n",
       "</div>"
      ],
      "text/plain": [
       "                             popularity  weighted_average\n",
       "original_title                                           \n",
       "Toy Story                      0.040087          0.811146\n",
       "Jumanji                        0.031079          0.681191\n",
       "Grumpier Old Men               0.021394          0.572338\n",
       "Waiting to Exhale              0.007049          0.513422\n",
       "Father of the Bride Part II    0.015320          0.490365"
      ]
     },
     "execution_count": 86,
     "metadata": {},
     "output_type": "execute_result"
    }
   ],
   "source": [
    "weighted_df.info()\n",
    "weighted_df.head()"
   ]
  },
  {
   "cell_type": "markdown",
   "metadata": {},
   "source": [
    "### 2.3. Generation of a Popularity Based Score\n"
   ]
  },
  {
   "cell_type": "markdown",
   "metadata": {},
   "source": [
    "- People watch a movie not just because they see a good rating for that movie, but also because of the `hype of certain movie.` So, in this case, put popularity into a consideration is a wise choice.\n",
    "\n",
    "- Let's take `40% weight for weighted average` and `60% weight for popularity` considering people don't want to miss a hype movie even the reviews and ratings are poor.\n",
    "\n",
    "- Now, we create a new column (feature) called `score`.\n"
   ]
  },
  {
   "cell_type": "code",
   "execution_count": 87,
   "metadata": {},
   "outputs": [],
   "source": [
    "df[\"score\"] = (\n",
    "    df[\"scaled_weighted_average\"] * 0.4\n",
    "    + df[\"scaled_popularity\"].astype(\"float64\") * 0.6\n",
    ")\n",
    "weighted_df[\"score\"] = (\n",
    "    weighted_df[\"weighted_average\"] * 0.4\n",
    "    + weighted_df[\"popularity\"].astype(\"float64\") * 0.6\n",
    ")"
   ]
  },
  {
   "cell_type": "code",
   "execution_count": 88,
   "metadata": {},
   "outputs": [
    {
     "data": {
      "text/html": [
       "<div>\n",
       "<style scoped>\n",
       "    .dataframe tbody tr th:only-of-type {\n",
       "        vertical-align: middle;\n",
       "    }\n",
       "\n",
       "    .dataframe tbody tr th {\n",
       "        vertical-align: top;\n",
       "    }\n",
       "\n",
       "    .dataframe thead th {\n",
       "        text-align: right;\n",
       "    }\n",
       "</style>\n",
       "<table border=\"1\" class=\"dataframe\">\n",
       "  <thead>\n",
       "    <tr style=\"text-align: right;\">\n",
       "      <th></th>\n",
       "      <th>popularity</th>\n",
       "      <th>weighted_average</th>\n",
       "      <th>score</th>\n",
       "    </tr>\n",
       "    <tr>\n",
       "      <th>original_title</th>\n",
       "      <th></th>\n",
       "      <th></th>\n",
       "      <th></th>\n",
       "    </tr>\n",
       "  </thead>\n",
       "  <tbody>\n",
       "    <tr>\n",
       "      <th>Minions</th>\n",
       "      <td>1.000000</td>\n",
       "      <td>0.603514</td>\n",
       "      <td>0.841405</td>\n",
       "    </tr>\n",
       "    <tr>\n",
       "      <th>Big Hero 6</th>\n",
       "      <td>0.390602</td>\n",
       "      <td>0.827550</td>\n",
       "      <td>0.565381</td>\n",
       "    </tr>\n",
       "    <tr>\n",
       "      <th>Baby Driver</th>\n",
       "      <td>0.416507</td>\n",
       "      <td>0.727723</td>\n",
       "      <td>0.540993</td>\n",
       "    </tr>\n",
       "    <tr>\n",
       "      <th>Guardians of the Galaxy Vol. 2</th>\n",
       "      <td>0.338511</td>\n",
       "      <td>0.794855</td>\n",
       "      <td>0.521049</td>\n",
       "    </tr>\n",
       "    <tr>\n",
       "      <th>Pulp Fiction</th>\n",
       "      <td>0.257449</td>\n",
       "      <td>0.908387</td>\n",
       "      <td>0.517824</td>\n",
       "    </tr>\n",
       "    <tr>\n",
       "      <th>Deadpool</th>\n",
       "      <td>0.343132</td>\n",
       "      <td>0.764644</td>\n",
       "      <td>0.511737</td>\n",
       "    </tr>\n",
       "    <tr>\n",
       "      <th>Gone Girl</th>\n",
       "      <td>0.282748</td>\n",
       "      <td>0.843403</td>\n",
       "      <td>0.507010</td>\n",
       "    </tr>\n",
       "    <tr>\n",
       "      <th>The Dark Knight</th>\n",
       "      <td>0.224968</td>\n",
       "      <td>0.909115</td>\n",
       "      <td>0.498627</td>\n",
       "    </tr>\n",
       "    <tr>\n",
       "      <th>Avatar</th>\n",
       "      <td>0.338036</td>\n",
       "      <td>0.732629</td>\n",
       "      <td>0.495873</td>\n",
       "    </tr>\n",
       "    <tr>\n",
       "      <th>John Wick</th>\n",
       "      <td>0.335843</td>\n",
       "      <td>0.699461</td>\n",
       "      <td>0.481291</td>\n",
       "    </tr>\n",
       "  </tbody>\n",
       "</table>\n",
       "</div>"
      ],
      "text/plain": [
       "                                popularity  weighted_average     score\n",
       "original_title                                                        \n",
       "Minions                           1.000000          0.603514  0.841405\n",
       "Big Hero 6                        0.390602          0.827550  0.565381\n",
       "Baby Driver                       0.416507          0.727723  0.540993\n",
       "Guardians of the Galaxy Vol. 2    0.338511          0.794855  0.521049\n",
       "Pulp Fiction                      0.257449          0.908387  0.517824\n",
       "Deadpool                          0.343132          0.764644  0.511737\n",
       "Gone Girl                         0.282748          0.843403  0.507010\n",
       "The Dark Knight                   0.224968          0.909115  0.498627\n",
       "Avatar                            0.338036          0.732629  0.495873\n",
       "John Wick                         0.335843          0.699461  0.481291"
      ]
     },
     "execution_count": 88,
     "metadata": {},
     "output_type": "execute_result"
    }
   ],
   "source": [
    "weighted_df_sorted = weighted_df.sort_values(by=\"score\", ascending=False)\n",
    "weighted_df_sorted.head(10)"
   ]
  },
  {
   "cell_type": "code",
   "execution_count": 89,
   "metadata": {},
   "outputs": [
    {
     "name": "stdout",
     "output_type": "stream",
     "text": [
      "<class 'pandas.core.frame.DataFrame'>\n",
      "RangeIndex: 42363 entries, 0 to 42362\n",
      "Data columns (total 24 columns):\n",
      " #   Column                   Non-Null Count  Dtype  \n",
      "---  ------                   --------------  -----  \n",
      " 0   adult                    42363 non-null  bool   \n",
      " 1   budget                   42363 non-null  float64\n",
      " 2   genres                   42363 non-null  object \n",
      " 3   id                       42363 non-null  int64  \n",
      " 4   original_language        42363 non-null  object \n",
      " 5   original_title           42363 non-null  object \n",
      " 6   overview                 42363 non-null  object \n",
      " 7   popularity               42363 non-null  float64\n",
      " 8   production_companies     42363 non-null  object \n",
      " 9   production_countries     42363 non-null  object \n",
      " 10  release_date             42363 non-null  object \n",
      " 11  revenue                  42363 non-null  float64\n",
      " 12  runtime                  42363 non-null  float64\n",
      " 13  spoken_languages         42363 non-null  object \n",
      " 14  vote_average             42363 non-null  float64\n",
      " 15  vote_count               42363 non-null  float64\n",
      " 16  keywords                 42363 non-null  object \n",
      " 17  crew                     42363 non-null  object \n",
      " 18  characters               42363 non-null  object \n",
      " 19  actors                   42363 non-null  object \n",
      " 20  weighted_average         42363 non-null  float64\n",
      " 21  scaled_popularity        42363 non-null  float64\n",
      " 22  scaled_weighted_average  42363 non-null  float64\n",
      " 23  score                    42363 non-null  float64\n",
      "dtypes: bool(1), float64(10), int64(1), object(12)\n",
      "memory usage: 7.5+ MB\n"
     ]
    }
   ],
   "source": [
    "df.info()"
   ]
  },
  {
   "cell_type": "markdown",
   "metadata": {},
   "source": [
    "### 2.4. Saving the Feature Engineered Dataset\n"
   ]
  },
  {
   "cell_type": "code",
   "execution_count": 90,
   "metadata": {},
   "outputs": [],
   "source": [
    "# save_dataframe(df, cleansed_data_dir, \"Movies_Weighted_Score.csv\")"
   ]
  },
  {
   "cell_type": "markdown",
   "metadata": {},
   "source": [
    "## Part 4 - BERT Embeddings Generation\n",
    "\n",
    "---\n"
   ]
  },
  {
   "cell_type": "markdown",
   "metadata": {},
   "source": [
    "### 4.1. Defining Helper Functions for EMbeddings generation"
   ]
  },
  {
   "cell_type": "markdown",
   "metadata": {},
   "source": [
    "### 4.1.1. Helper Function to Analyze the Text Length Distribution"
   ]
  },
  {
   "cell_type": "code",
   "execution_count": 91,
   "metadata": {},
   "outputs": [],
   "source": [
    "def analyze_text_length(texts):\n",
    "    \"\"\"\n",
    "    Analyzes the length of texts in terms of tokens from the specified transformer model.\n",
    "\n",
    "    Args:\n",
    "    texts (pd.Series): A pandas Series containing text data.\n",
    "    model_name (str): Name of the transformer model to use for tokenization.\n",
    "\n",
    "    Returns:\n",
    "    dict: A dictionary containing statistics about text lengths.\n",
    "    \"\"\"\n",
    "    \n",
    "    # Tokenize all texts and record their lengths\n",
    "    input_ids = []\n",
    "    lengths = []\n",
    "    for text in texts:\n",
    "        encoded_text = tokenizer.encode(text, add_special_tokens=True)\n",
    "        input_ids.append(encoded_text)\n",
    "        lengths.append(len(encoded_text))\n",
    "\n",
    "    # Analyzing the distribution of sentence lengths\n",
    "    max_index, max_value = max(enumerate(lengths), key=lambda pair: pair[1])\n",
    "    min_length = min(lengths)\n",
    "    max_length = max_value\n",
    "    median_length = np.median(lengths)\n",
    "\n",
    "    \n",
    "\n",
    "    num_over = 0\n",
    "\n",
    "    # For all of the length values...\n",
    "    for length in lengths:\n",
    "        # Tally if it's over 512.\n",
    "        if length > 512:\n",
    "            num_over += 1\n",
    "    \n",
    "    # Compile statistics\n",
    "    stats = {\n",
    "        \"total_texts\": len(texts),\n",
    "        \"min_length\": min_length,\n",
    "        \"max_length\": max_length,\n",
    "        \"median_length\": median_length,\n",
    "        \"num_exceeding_512\": num_over,\n",
    "        \"percentage_exceeding_512\": (num_over / len(texts)) * 100\n",
    "    }\n",
    "\n",
    "    return stats"
   ]
  },
  {
   "cell_type": "markdown",
   "metadata": {},
   "source": [
    "### 4.1.2 Helper Function to Combine Textual Features Together"
   ]
  },
  {
   "cell_type": "code",
   "execution_count": 92,
   "metadata": {},
   "outputs": [],
   "source": [
    "def combine_features(row, max_token_limit=500):\n",
    "    \"\"\"\n",
    "    Combine selected features into a single text string for BERT embeddings.\n",
    "\n",
    "    Args:\n",
    "    row (pd.Series): A row of the DataFrame.\n",
    "    max_token_limit (int): Maximum allowed token limit before truncation.\n",
    "    tokenizer: Tokenizer object from the BERT model (required for token count checks).\n",
    "\n",
    "    Returns:\n",
    "    str: Combined text from selected features.\n",
    "    \"\"\"\n",
    "    combined_text = row['overview']\n",
    "\n",
    "    # Split the comma-separated strings into lists\n",
    "    genres = row['genres'].split(', ') if isinstance(row['genres'], str) else []\n",
    "    keywords = row['keywords'].split(', ') if isinstance(row['keywords'], str) else []\n",
    "    crew = row['crew'].split(', ') if isinstance(row['crew'], str) else []\n",
    "    actors = row['actors'].split(', ') if isinstance(row['actors'], str) else []\n",
    "    production_companies = row['production_companies'].split(', ') if isinstance(row['production_companies'], str) else []\n",
    "\n",
    "    # Add genres, keywords, adult, language, and production companies to the combined text\n",
    "    combined_text += ' Genre: ' + ', '.join(genres)\n",
    "    combined_text += ' Keywords: ' + ', '.join(keywords)\n",
    "    combined_text += ' Adult: ' + str(row['adult'])\n",
    "    combined_text += ' Language: ' + str(row['spoken_languages'])\n",
    "    combined_text += ' Production Companies: ' + ', '.join(production_companies)\n",
    "\n",
    "    # Conditional inclusion of 'crew' and 'actors'\n",
    "    if tokenizer and len(tokenizer.tokenize(combined_text)) < max_token_limit:\n",
    "        # Include key crew members and lead actors, limit their number to control token size\n",
    "        combined_text += ' Crew: ' + ', '.join(crew[:1])  # Including only the first crew member\n",
    "        combined_text += ' Actors: ' + ', '.join(actors[:2])  # Including top 2 actors\n",
    "\n",
    "        # Truncate if exceeds max token limit\n",
    "        if len(tokenizer.tokenize(combined_text)) > max_token_limit:\n",
    "            tokens = tokenizer.tokenize(combined_text)[:max_token_limit]\n",
    "            combined_text = tokenizer.convert_tokens_to_string(tokens)\n",
    "\n",
    "    return combined_text\n"
   ]
  },
  {
   "cell_type": "markdown",
   "metadata": {},
   "source": [
    "### 4.1.3 Helper Functions to Generate and Load Embeddings\n"
   ]
  },
  {
   "cell_type": "code",
   "execution_count": 93,
   "metadata": {},
   "outputs": [],
   "source": [
    "def generate_embeddings(corpus, lang_model, file_name, embeddings_dir, batch_size=32, max_seq_len=128):\n",
    "    '''\n",
    "    Generate embeddings for the given corpus using a specified language model.\n",
    "\n",
    "    Parameters:\n",
    "        corpus (list): List of sentences to be embedded.\n",
    "        lang_model (str): Language model name or path to the pre-trained model.\n",
    "        file_name (str): Name of the file to save the generated embeddings.\n",
    "        max_seq_len (int): Maximum sequence length for the embeddings (default: 128).\n",
    "    '''\n",
    "\n",
    "    # Define the file path to save the generated embeddings\n",
    "    embeddings_file_path = f\"{embeddings_dir}/{file_name}.npz\"\n",
    "\n",
    "    # Create an instance of the SentenceTransformer\n",
    "    embedder = SentenceTransformer(lang_model, device=device)\n",
    "\n",
    "    # Update the max_seq_length if necessary\n",
    "    if max_seq_len != 128:\n",
    "        embedder.max_seq_length = max_seq_len\n",
    "\n",
    "    # Generate embeddings\n",
    "    corpus_embeddings = embedder.encode(corpus, batch_size=batch_size, show_progress_bar=True,\n",
    "                                        normalize_embeddings=True, convert_to_numpy=True)\n",
    "\n",
    "    # Save the embeddings\n",
    "    with open(embeddings_file_path, \"wb\") as emb_file:\n",
    "      np.save(emb_file, corpus_embeddings)\n",
    "      \n",
    "    print(f\"Embeddings saved to {embeddings_file_path}\")"
   ]
  },
  {
   "cell_type": "code",
   "execution_count": 94,
   "metadata": {},
   "outputs": [],
   "source": [
    "def load_embeddings(directory, filename):\n",
    "    '''\n",
    "    Load BERT embeddings from a file.\n",
    "\n",
    "    Parameters:\n",
    "        input_file_path (str): File path from which the embeddings will be loaded.\n",
    "    \n",
    "    Returns:\n",
    "        numpy.ndarray: Array containing the loaded embeddings.\n",
    "    '''\n",
    "    input_file_path = os.path.join(directory, filename)\n",
    "    corpus_embeddings = np.load(input_file_path)\n",
    "    return list(corpus_embeddings)"
   ]
  },
  {
   "cell_type": "markdown",
   "metadata": {},
   "source": [
    "### 4.2. Combining Textual features"
   ]
  },
  {
   "cell_type": "code",
   "execution_count": 95,
   "metadata": {},
   "outputs": [
    {
     "name": "stderr",
     "output_type": "stream",
     "text": [
      "Token indices sequence length is longer than the specified maximum sequence length for this model (631 > 512). Running this sequence through the model will result in indexing errors\n"
     ]
    }
   ],
   "source": [
    "df['combined_text'] = df.apply(combine_features, axis=1)"
   ]
  },
  {
   "cell_type": "code",
   "execution_count": 96,
   "metadata": {},
   "outputs": [
    {
     "data": {
      "text/plain": [
       "'Craig and Smokey are two guys in Los Angeles hanging out on their porch on a Friday afternoon, smoking and drinking, looking for something to do. Genre: Comedy Keywords: rap music, parent child relationship, rapper, job Adult: False Language: English Production Companies: New Line Cinema Crew: F. Gary Gray Actors: Ice Cube, Chris Tucker'"
      ]
     },
     "execution_count": 96,
     "metadata": {},
     "output_type": "execute_result"
    }
   ],
   "source": [
    "df[\"combined_text\"][67]"
   ]
  },
  {
   "cell_type": "code",
   "execution_count": 97,
   "metadata": {},
   "outputs": [],
   "source": [
    "stats = analyze_text_length(df[\"combined_text\"])\n"
   ]
  },
  {
   "cell_type": "code",
   "execution_count": 98,
   "metadata": {},
   "outputs": [
    {
     "data": {
      "text/plain": [
       "{'total_texts': 42363,\n",
       " 'min_length': 27,\n",
       " 'max_length': 671,\n",
       " 'median_length': 115.0,\n",
       " 'num_exceeding_512': 5,\n",
       " 'percentage_exceeding_512': 0.011802752401860114}"
      ]
     },
     "execution_count": 98,
     "metadata": {},
     "output_type": "execute_result"
    }
   ],
   "source": [
    "stats"
   ]
  },
  {
   "cell_type": "code",
   "execution_count": 99,
   "metadata": {},
   "outputs": [
    {
     "name": "stdout",
     "output_type": "stream",
     "text": [
      "<class 'pandas.core.frame.DataFrame'>\n",
      "RangeIndex: 42363 entries, 0 to 42362\n",
      "Data columns (total 25 columns):\n",
      " #   Column                   Non-Null Count  Dtype  \n",
      "---  ------                   --------------  -----  \n",
      " 0   adult                    42363 non-null  bool   \n",
      " 1   budget                   42363 non-null  float64\n",
      " 2   genres                   42363 non-null  object \n",
      " 3   id                       42363 non-null  int64  \n",
      " 4   original_language        42363 non-null  object \n",
      " 5   original_title           42363 non-null  object \n",
      " 6   overview                 42363 non-null  object \n",
      " 7   popularity               42363 non-null  float64\n",
      " 8   production_companies     42363 non-null  object \n",
      " 9   production_countries     42363 non-null  object \n",
      " 10  release_date             42363 non-null  object \n",
      " 11  revenue                  42363 non-null  float64\n",
      " 12  runtime                  42363 non-null  float64\n",
      " 13  spoken_languages         42363 non-null  object \n",
      " 14  vote_average             42363 non-null  float64\n",
      " 15  vote_count               42363 non-null  float64\n",
      " 16  keywords                 42363 non-null  object \n",
      " 17  crew                     42363 non-null  object \n",
      " 18  characters               42363 non-null  object \n",
      " 19  actors                   42363 non-null  object \n",
      " 20  weighted_average         42363 non-null  float64\n",
      " 21  scaled_popularity        42363 non-null  float64\n",
      " 22  scaled_weighted_average  42363 non-null  float64\n",
      " 23  score                    42363 non-null  float64\n",
      " 24  combined_text            42363 non-null  object \n",
      "dtypes: bool(1), float64(10), int64(1), object(13)\n",
      "memory usage: 7.8+ MB\n"
     ]
    }
   ],
   "source": [
    "df.info()"
   ]
  },
  {
   "cell_type": "markdown",
   "metadata": {},
   "source": [
    "### 4.3. Saving the new Data Framw with combined_text"
   ]
  },
  {
   "cell_type": "code",
   "execution_count": 100,
   "metadata": {},
   "outputs": [],
   "source": [
    "df.drop(['scaled_weighted_average', 'scaled_popularity', \"weighted_average\"], \n",
    "            axis='columns', inplace=True)"
   ]
  },
  {
   "cell_type": "code",
   "execution_count": 101,
   "metadata": {},
   "outputs": [
    {
     "name": "stdout",
     "output_type": "stream",
     "text": [
      "<class 'pandas.core.frame.DataFrame'>\n",
      "RangeIndex: 42363 entries, 0 to 42362\n",
      "Data columns (total 22 columns):\n",
      " #   Column                Non-Null Count  Dtype  \n",
      "---  ------                --------------  -----  \n",
      " 0   adult                 42363 non-null  bool   \n",
      " 1   budget                42363 non-null  float64\n",
      " 2   genres                42363 non-null  object \n",
      " 3   id                    42363 non-null  int64  \n",
      " 4   original_language     42363 non-null  object \n",
      " 5   original_title        42363 non-null  object \n",
      " 6   overview              42363 non-null  object \n",
      " 7   popularity            42363 non-null  float64\n",
      " 8   production_companies  42363 non-null  object \n",
      " 9   production_countries  42363 non-null  object \n",
      " 10  release_date          42363 non-null  object \n",
      " 11  revenue               42363 non-null  float64\n",
      " 12  runtime               42363 non-null  float64\n",
      " 13  spoken_languages      42363 non-null  object \n",
      " 14  vote_average          42363 non-null  float64\n",
      " 15  vote_count            42363 non-null  float64\n",
      " 16  keywords              42363 non-null  object \n",
      " 17  crew                  42363 non-null  object \n",
      " 18  characters            42363 non-null  object \n",
      " 19  actors                42363 non-null  object \n",
      " 20  score                 42363 non-null  float64\n",
      " 21  combined_text         42363 non-null  object \n",
      "dtypes: bool(1), float64(7), int64(1), object(13)\n",
      "memory usage: 6.8+ MB\n"
     ]
    }
   ],
   "source": [
    "df.info()"
   ]
  },
  {
   "cell_type": "code",
   "execution_count": 102,
   "metadata": {},
   "outputs": [
    {
     "name": "stdout",
     "output_type": "stream",
     "text": [
      "DataFrame saved successfully to ../Input/CleansedData/Movied_Combined_Text.csv\n"
     ]
    }
   ],
   "source": [
    "save_dataframe(df, cleansed_data_dir, \"Movied_Combined_Text.csv\")"
   ]
  },
  {
   "cell_type": "markdown",
   "metadata": {},
   "source": [
    "### 4.4. Generate BERT Embeddings using Sentence Transformers"
   ]
  },
  {
   "cell_type": "markdown",
   "metadata": {},
   "source": [
    "The embeddings are generated in Google Colab and saved in the Embeddings Directory"
   ]
  },
  {
   "cell_type": "code",
   "execution_count": 103,
   "metadata": {},
   "outputs": [
    {
     "data": {
      "text/plain": [
       "' generate_embeddings(list(df[\"combined_text\"]), \\n                    lang_model=\"all-roberta-large-v1\",\\n                    file_name=\"Movies_Embeddings_Roberta\",\\n                    embeddings_dir=embeddings_dir,\\n                    batch_size=64,\\n                    max_seq_len=512) '"
      ]
     },
     "execution_count": 103,
     "metadata": {},
     "output_type": "execute_result"
    }
   ],
   "source": [
    "\"\"\" generate_embeddings(list(df[\"combined_text\"]), \n",
    "                    lang_model=\"all-roberta-large-v1\",\n",
    "                    file_name=\"Movies_Embeddings_Roberta\",\n",
    "                    embeddings_dir=embeddings_dir,\n",
    "                    batch_size=64,\n",
    "                    max_seq_len=512) \"\"\""
   ]
  },
  {
   "cell_type": "markdown",
   "metadata": {},
   "source": [
    "### 3.4. Loading the BERT Embeddings into the notebook"
   ]
  },
  {
   "cell_type": "code",
   "execution_count": 104,
   "metadata": {},
   "outputs": [
    {
     "name": "stdout",
     "output_type": "stream",
     "text": [
      "Length of a sample embeddings: 768\n"
     ]
    }
   ],
   "source": [
    "bert_embeddings = load_embeddings(embeddings_dir, \"Movies_Embeddings_DistilRoberta.npz\")\n",
    "print(f\"Length of a sample embeddings: {len(bert_embeddings[69])}\")\n",
    "df[\"embeddings\"] = bert_embeddings"
   ]
  },
  {
   "cell_type": "code",
   "execution_count": 105,
   "metadata": {},
   "outputs": [
    {
     "name": "stdout",
     "output_type": "stream",
     "text": [
      "<class 'pandas.core.frame.DataFrame'>\n",
      "RangeIndex: 42363 entries, 0 to 42362\n",
      "Data columns (total 23 columns):\n",
      " #   Column                Non-Null Count  Dtype  \n",
      "---  ------                --------------  -----  \n",
      " 0   adult                 42363 non-null  bool   \n",
      " 1   budget                42363 non-null  float64\n",
      " 2   genres                42363 non-null  object \n",
      " 3   id                    42363 non-null  int64  \n",
      " 4   original_language     42363 non-null  object \n",
      " 5   original_title        42363 non-null  object \n",
      " 6   overview              42363 non-null  object \n",
      " 7   popularity            42363 non-null  float64\n",
      " 8   production_companies  42363 non-null  object \n",
      " 9   production_countries  42363 non-null  object \n",
      " 10  release_date          42363 non-null  object \n",
      " 11  revenue               42363 non-null  float64\n",
      " 12  runtime               42363 non-null  float64\n",
      " 13  spoken_languages      42363 non-null  object \n",
      " 14  vote_average          42363 non-null  float64\n",
      " 15  vote_count            42363 non-null  float64\n",
      " 16  keywords              42363 non-null  object \n",
      " 17  crew                  42363 non-null  object \n",
      " 18  characters            42363 non-null  object \n",
      " 19  actors                42363 non-null  object \n",
      " 20  score                 42363 non-null  float64\n",
      " 21  combined_text         42363 non-null  object \n",
      " 22  embeddings            42363 non-null  object \n",
      "dtypes: bool(1), float64(7), int64(1), object(14)\n",
      "memory usage: 7.2+ MB\n"
     ]
    }
   ],
   "source": [
    "df.info()"
   ]
  },
  {
   "cell_type": "code",
   "execution_count": 106,
   "metadata": {},
   "outputs": [
    {
     "data": {
      "text/html": [
       "<div>\n",
       "<style scoped>\n",
       "    .dataframe tbody tr th:only-of-type {\n",
       "        vertical-align: middle;\n",
       "    }\n",
       "\n",
       "    .dataframe tbody tr th {\n",
       "        vertical-align: top;\n",
       "    }\n",
       "\n",
       "    .dataframe thead th {\n",
       "        text-align: right;\n",
       "    }\n",
       "</style>\n",
       "<table border=\"1\" class=\"dataframe\">\n",
       "  <thead>\n",
       "    <tr style=\"text-align: right;\">\n",
       "      <th></th>\n",
       "      <th>adult</th>\n",
       "      <th>budget</th>\n",
       "      <th>genres</th>\n",
       "      <th>id</th>\n",
       "      <th>original_language</th>\n",
       "      <th>original_title</th>\n",
       "      <th>overview</th>\n",
       "      <th>popularity</th>\n",
       "      <th>production_companies</th>\n",
       "      <th>production_countries</th>\n",
       "      <th>...</th>\n",
       "      <th>spoken_languages</th>\n",
       "      <th>vote_average</th>\n",
       "      <th>vote_count</th>\n",
       "      <th>keywords</th>\n",
       "      <th>crew</th>\n",
       "      <th>characters</th>\n",
       "      <th>actors</th>\n",
       "      <th>score</th>\n",
       "      <th>combined_text</th>\n",
       "      <th>embeddings</th>\n",
       "    </tr>\n",
       "  </thead>\n",
       "  <tbody>\n",
       "    <tr>\n",
       "      <th>0</th>\n",
       "      <td>False</td>\n",
       "      <td>30000000.0</td>\n",
       "      <td>Animation, Comedy, Family</td>\n",
       "      <td>862</td>\n",
       "      <td>en</td>\n",
       "      <td>Toy Story</td>\n",
       "      <td>Led by Woody, Andy's toys live happily in his ...</td>\n",
       "      <td>21.946943</td>\n",
       "      <td>Pixar Animation Studios</td>\n",
       "      <td>United States of America</td>\n",
       "      <td>...</td>\n",
       "      <td>English</td>\n",
       "      <td>7.7</td>\n",
       "      <td>5415.0</td>\n",
       "      <td>jealousy, toy, boy, friendship, friends, rival...</td>\n",
       "      <td>John Lasseter, Joss Whedon, Andrew Stanton, Jo...</td>\n",
       "      <td>Woody (voice), Buzz Lightyear (voice), Mr. Pot...</td>\n",
       "      <td>Tom Hanks, Tim Allen, Don Rickles, Jim Varney,...</td>\n",
       "      <td>0.348510</td>\n",
       "      <td>Led by Woody, Andy's toys live happily in his ...</td>\n",
       "      <td>[0.017651884, -0.0007875326, -0.009459613, -0....</td>\n",
       "    </tr>\n",
       "    <tr>\n",
       "      <th>1</th>\n",
       "      <td>False</td>\n",
       "      <td>65000000.0</td>\n",
       "      <td>Adventure, Fantasy, Family</td>\n",
       "      <td>8844</td>\n",
       "      <td>en</td>\n",
       "      <td>Jumanji</td>\n",
       "      <td>When siblings Judy and Peter discover an encha...</td>\n",
       "      <td>17.015539</td>\n",
       "      <td>TriStar Pictures, Teitler Film, Interscope Com...</td>\n",
       "      <td>United States of America</td>\n",
       "      <td>...</td>\n",
       "      <td>English, Français</td>\n",
       "      <td>6.9</td>\n",
       "      <td>2413.0</td>\n",
       "      <td>board game, disappearance, based on children's...</td>\n",
       "      <td>Larry J. Franco, Jonathan Hensleigh, James Hor...</td>\n",
       "      <td>Alan Parrish, Samuel Alan Parrish / Van Pelt, ...</td>\n",
       "      <td>Robin Williams, Jonathan Hyde, Kirsten Dunst, ...</td>\n",
       "      <td>0.291124</td>\n",
       "      <td>When siblings Judy and Peter discover an encha...</td>\n",
       "      <td>[-0.019318212, -0.039893534, 0.04716879, 0.024...</td>\n",
       "    </tr>\n",
       "    <tr>\n",
       "      <th>2</th>\n",
       "      <td>False</td>\n",
       "      <td>0.0</td>\n",
       "      <td>Romance, Comedy</td>\n",
       "      <td>15602</td>\n",
       "      <td>en</td>\n",
       "      <td>Grumpier Old Men</td>\n",
       "      <td>A family wedding reignites the ancient feud be...</td>\n",
       "      <td>11.712900</td>\n",
       "      <td>Warner Bros., Lancaster Gate</td>\n",
       "      <td>United States of America</td>\n",
       "      <td>...</td>\n",
       "      <td>English</td>\n",
       "      <td>6.5</td>\n",
       "      <td>92.0</td>\n",
       "      <td>fishing, best friend, duringcreditsstinger, ol...</td>\n",
       "      <td>Howard Deutch, Mark Steven Johnson, Mark Steve...</td>\n",
       "      <td>Max Goldman, John Gustafson, Ariel Gustafson, ...</td>\n",
       "      <td>Walter Matthau, Jack Lemmon, Ann-Margret, Soph...</td>\n",
       "      <td>0.241771</td>\n",
       "      <td>A family wedding reignites the ancient feud be...</td>\n",
       "      <td>[-0.007591387, -0.04258443, 0.0010542952, 0.01...</td>\n",
       "    </tr>\n",
       "  </tbody>\n",
       "</table>\n",
       "<p>3 rows × 23 columns</p>\n",
       "</div>"
      ],
      "text/plain": [
       "   adult      budget                      genres     id original_language  \\\n",
       "0  False  30000000.0   Animation, Comedy, Family    862                en   \n",
       "1  False  65000000.0  Adventure, Fantasy, Family   8844                en   \n",
       "2  False         0.0             Romance, Comedy  15602                en   \n",
       "\n",
       "     original_title                                           overview  \\\n",
       "0         Toy Story  Led by Woody, Andy's toys live happily in his ...   \n",
       "1           Jumanji  When siblings Judy and Peter discover an encha...   \n",
       "2  Grumpier Old Men  A family wedding reignites the ancient feud be...   \n",
       "\n",
       "   popularity                               production_companies  \\\n",
       "0   21.946943                            Pixar Animation Studios   \n",
       "1   17.015539  TriStar Pictures, Teitler Film, Interscope Com...   \n",
       "2   11.712900                       Warner Bros., Lancaster Gate   \n",
       "\n",
       "       production_countries  ...   spoken_languages  vote_average  vote_count  \\\n",
       "0  United States of America  ...            English           7.7      5415.0   \n",
       "1  United States of America  ...  English, Français           6.9      2413.0   \n",
       "2  United States of America  ...            English           6.5        92.0   \n",
       "\n",
       "                                            keywords  \\\n",
       "0  jealousy, toy, boy, friendship, friends, rival...   \n",
       "1  board game, disappearance, based on children's...   \n",
       "2  fishing, best friend, duringcreditsstinger, ol...   \n",
       "\n",
       "                                                crew  \\\n",
       "0  John Lasseter, Joss Whedon, Andrew Stanton, Jo...   \n",
       "1  Larry J. Franco, Jonathan Hensleigh, James Hor...   \n",
       "2  Howard Deutch, Mark Steven Johnson, Mark Steve...   \n",
       "\n",
       "                                          characters  \\\n",
       "0  Woody (voice), Buzz Lightyear (voice), Mr. Pot...   \n",
       "1  Alan Parrish, Samuel Alan Parrish / Van Pelt, ...   \n",
       "2  Max Goldman, John Gustafson, Ariel Gustafson, ...   \n",
       "\n",
       "                                              actors     score  \\\n",
       "0  Tom Hanks, Tim Allen, Don Rickles, Jim Varney,...  0.348510   \n",
       "1  Robin Williams, Jonathan Hyde, Kirsten Dunst, ...  0.291124   \n",
       "2  Walter Matthau, Jack Lemmon, Ann-Margret, Soph...  0.241771   \n",
       "\n",
       "                                       combined_text  \\\n",
       "0  Led by Woody, Andy's toys live happily in his ...   \n",
       "1  When siblings Judy and Peter discover an encha...   \n",
       "2  A family wedding reignites the ancient feud be...   \n",
       "\n",
       "                                          embeddings  \n",
       "0  [0.017651884, -0.0007875326, -0.009459613, -0....  \n",
       "1  [-0.019318212, -0.039893534, 0.04716879, 0.024...  \n",
       "2  [-0.007591387, -0.04258443, 0.0010542952, 0.01...  \n",
       "\n",
       "[3 rows x 23 columns]"
      ]
     },
     "execution_count": 106,
     "metadata": {},
     "output_type": "execute_result"
    }
   ],
   "source": [
    "df.head(3)"
   ]
  },
  {
   "cell_type": "code",
   "execution_count": 107,
   "metadata": {},
   "outputs": [
    {
     "data": {
      "text/plain": [
       "(42363, 23)"
      ]
     },
     "execution_count": 107,
     "metadata": {},
     "output_type": "execute_result"
    }
   ],
   "source": [
    "df.shape"
   ]
  },
  {
   "cell_type": "markdown",
   "metadata": {},
   "source": [
    "### 3.5. Combining Embeddings, Popularity_Score and Numerical features"
   ]
  },
  {
   "cell_type": "markdown",
   "metadata": {},
   "source": [
    "### 3.5.1 Standardize Numerical Features to combine with Embeddings"
   ]
  },
  {
   "cell_type": "code",
   "execution_count": 108,
   "metadata": {},
   "outputs": [],
   "source": [
    "numerical_features = df[['revenue', 'budget', 'runtime']]\n",
    "scaled_numerical_features = scaler.fit_transform(numerical_features)\n"
   ]
  },
  {
   "cell_type": "markdown",
   "metadata": {},
   "source": [
    "### 3.5.2 Convert Embeddings and scores to numpy arrays"
   ]
  },
  {
   "cell_type": "code",
   "execution_count": 109,
   "metadata": {},
   "outputs": [],
   "source": [
    "embeddings_array = np.stack(df[\"embeddings\"].to_numpy())"
   ]
  },
  {
   "cell_type": "code",
   "execution_count": 110,
   "metadata": {},
   "outputs": [],
   "source": [
    "score_array = df[\"score\"].to_numpy().reshape(-1, 1)"
   ]
  },
  {
   "cell_type": "code",
   "execution_count": 111,
   "metadata": {},
   "outputs": [
    {
     "name": "stdout",
     "output_type": "stream",
     "text": [
      "Shape of Embeddings: (42363, 768)\n",
      "Shape of Scaled Numerical Features: (42363, 3)\n",
      "Shape of score array: (42363, 1)\n"
     ]
    }
   ],
   "source": [
    "print(f\"Shape of Embeddings: {embeddings_array.shape}\")\n",
    "print(f\"Shape of Scaled Numerical Features: {scaled_numerical_features.shape}\")\n",
    "print(f\"Shape of score array: {score_array.shape}\") "
   ]
  },
  {
   "cell_type": "code",
   "execution_count": 112,
   "metadata": {},
   "outputs": [
    {
     "data": {
      "text/plain": [
       "numpy.ndarray"
      ]
     },
     "execution_count": 112,
     "metadata": {},
     "output_type": "execute_result"
    }
   ],
   "source": [
    "combined_features = np.hstack((embeddings_array, score_array, scaled_numerical_features))\n",
    "combined_features.shape\n",
    "type(combined_features)"
   ]
  },
  {
   "cell_type": "code",
   "execution_count": 113,
   "metadata": {},
   "outputs": [],
   "source": [
    "sorted_df = df.sort_values(by='score', ascending=False)\n",
    "\n",
    "# Select the top 10000 entries based on the score\n",
    "top_df = sorted_df.head(10000)"
   ]
  },
  {
   "cell_type": "code",
   "execution_count": 114,
   "metadata": {},
   "outputs": [
    {
     "name": "stdout",
     "output_type": "stream",
     "text": [
      "(10000, 772)\n"
     ]
    }
   ],
   "source": [
    "# Extract the embeddings for these top entries\n",
    "top_embeddings = np.stack(top_df['embeddings'].to_numpy())\n",
    "\n",
    "# If you also need the corresponding scaled numerical features for these top entries\n",
    "# Make sure the index aligns with the top_df\n",
    "top_scaled_numerical_features = scaled_numerical_features[top_df.index]\n",
    "\n",
    "top_scores = top_df['score'].to_numpy().reshape(-1, 1)\n",
    "\n",
    "# Combine top embeddings with the corresponding numerical features\n",
    "top_combined_features = np.hstack((top_embeddings, top_scaled_numerical_features, top_scores))\n",
    "print(top_combined_features.shape)"
   ]
  },
  {
   "cell_type": "code",
   "execution_count": 115,
   "metadata": {},
   "outputs": [],
   "source": [
    "def batch_cosine_similarity(X, batch_size=100):\n",
    "    cos_sim_matrix = np.zeros((X.shape[0], X.shape[0]))\n",
    "\n",
    "    for start in range(0, X.shape[0], batch_size):\n",
    "        end = min(start + batch_size, X.shape[0])\n",
    "        batch_cos_sim = cosine_similarity(X[start:end], X)\n",
    "        cos_sim_matrix[start:end] = batch_cos_sim\n",
    "\n",
    "    return cos_sim_matrix"
   ]
  }
 ],
 "metadata": {
  "kernelspec": {
   "display_name": "ee541",
   "language": "python",
   "name": "python3"
  },
  "language_info": {
   "codemirror_mode": {
    "name": "ipython",
    "version": 3
   },
   "file_extension": ".py",
   "mimetype": "text/x-python",
   "name": "python",
   "nbconvert_exporter": "python",
   "pygments_lexer": "ipython3",
   "version": "3.11.6"
  }
 },
 "nbformat": 4,
 "nbformat_minor": 2
}
