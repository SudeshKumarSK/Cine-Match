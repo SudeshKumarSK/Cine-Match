{
 "cells": [
  {
   "cell_type": "markdown",
   "metadata": {},
   "source": [
    "### 🎥 Cine-Match - Movie Recommendation System 📹"
   ]
  },
  {
   "cell_type": "markdown",
   "metadata": {},
   "source": [
    "### File: Content_Based_Filtering.ipynb - CineMatch\n",
    "\n",
    "- Contributor: Sudesh Kumar Santhosh Kumar\n",
    "- Email: santhosh@usc.edu\n",
    "- GitHub: [Sudesh Kumar](https://github.com/SudeshKumarSanthosh)\n",
    "- Date: 5th December, 2023\n",
    "- Course: EE-541 Introduction to Deep Learning\n",
    "- Team:\n",
    "    * Sudesh Kumar Santhosh Kumar\n",
    "    * Ori Shirin\n",
    "\n",
    "### Description:\n",
    "This notebook, Content_Based_Filtering.ipynb, is dedicated to the development of the CineMatch recommender system's content-based filtering component. The journey begins with the importation of our meticulously curated dataset, which is an amalgamation of credits and movie metadata, refined and transformed through previous stages of exploratory data analysis and preprocessing.\n",
    "\n",
    "Within these digital pages, we delve into a myriad of sophisticated techniques designed to enhance the art of recommendation. By harnessing the dual forces of weighted scores and popularity metrics, we aim to distill a distilled essence of cinematic appeal, balancing the scales between audience adoration and critical acclaim.\n",
    "\n",
    "Moving beyond the realm of numerical heuristics, we employ the power of cosine similarity to unearth the subtle connections woven throughout the tapestry of movie genres, plot descriptions."
   ]
  },
  {
   "cell_type": "markdown",
   "metadata": {},
   "source": [
    "## Part 1 - Installation and Dataset Loading\n",
    "-----"
   ]
  },
  {
   "cell_type": "markdown",
   "metadata": {},
   "source": [
    "### S1. Setting up the notebook"
   ]
  },
  {
   "cell_type": "markdown",
   "metadata": {},
   "source": [
    "### 1.1. Importing all necessary packages"
   ]
  },
  {
   "cell_type": "code",
   "execution_count": 2,
   "metadata": {},
   "outputs": [],
   "source": [
    "import os\n",
    "import pandas as pd\n",
    "import numpy as np\n",
    "import seaborn as sns\n",
    "import matplotlib.pyplot as plt\n",
    "\n",
    "from sklearn.preprocessing import MinMaxScaler\n",
    "from sklearn.feature_extraction.text import TfidfVectorizer\n",
    "from sklearn.metrics.pairwise import cosine_similarity"
   ]
  },
  {
   "cell_type": "markdown",
   "metadata": {},
   "source": [
    "### 1.2. Defining Directories and Helper Functions"
   ]
  },
  {
   "cell_type": "code",
   "execution_count": 3,
   "metadata": {},
   "outputs": [],
   "source": [
    "# Data Directory\n",
    "data_dir = \"../Input/Data/\"\n",
    "cleansed_data_dir = \"../Input/CleansedData/\""
   ]
  },
  {
   "cell_type": "code",
   "execution_count": 4,
   "metadata": {},
   "outputs": [],
   "source": [
    "def load_dataset(directory, filename):\n",
    "    \"\"\"\n",
    "    Loads a dataset from a CSV file into a Pandas DataFrame.\n",
    "\n",
    "    Parameters:\n",
    "    - file_path (str): The complete file path of the CSV file to be loaded.\n",
    "\n",
    "    Returns:\n",
    "    - pandas.DataFrame: A DataFrame containing the data from the CSV file.\n",
    "\n",
    "    This function will read the CSV file located at 'file_path' and return it as a DataFrame.\n",
    "    It assumes that the first row of the CSV file contains the headers.\n",
    "    \"\"\"\n",
    "    try:\n",
    "        file_path = os.path.join(directory, filename)\n",
    "        # Loading the dataset\n",
    "        df = pd.read_csv(file_path)\n",
    "        print(f\"Dataset loaded successfully from {file_path}\")\n",
    "        return df\n",
    "    except Exception as e:\n",
    "        print(f\"An error occurred while loading the dataset: {e}\")\n",
    "        return None"
   ]
  },
  {
   "cell_type": "code",
   "execution_count": null,
   "metadata": {},
   "outputs": [],
   "source": []
  }
 ],
 "metadata": {
  "kernelspec": {
   "display_name": "ee541",
   "language": "python",
   "name": "python3"
  },
  "language_info": {
   "codemirror_mode": {
    "name": "ipython",
    "version": 3
   },
   "file_extension": ".py",
   "mimetype": "text/x-python",
   "name": "python",
   "nbconvert_exporter": "python",
   "pygments_lexer": "ipython3",
   "version": "3.11.6"
  }
 },
 "nbformat": 4,
 "nbformat_minor": 2
}
